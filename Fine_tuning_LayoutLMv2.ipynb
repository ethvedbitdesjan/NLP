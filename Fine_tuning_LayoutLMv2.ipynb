{
  "nbformat": 4,
  "nbformat_minor": 0,
  "metadata": {
    "accelerator": "GPU",
    "colab": {
      "provenance": [],
      "include_colab_link": true
    },
    "kernelspec": {
      "display_name": "Python 3",
      "name": "python3"
    },
    "language_info": {
      "name": "python"
    },
    "widgets": {
      "application/vnd.jupyter.widget-state+json": {
        "c9345b17060b4a98ac53b932a32cdc1e": {
          "model_module": "@jupyter-widgets/controls",
          "model_name": "HBoxModel",
          "model_module_version": "1.5.0",
          "state": {
            "_dom_classes": [],
            "_model_module": "@jupyter-widgets/controls",
            "_model_module_version": "1.5.0",
            "_model_name": "HBoxModel",
            "_view_count": null,
            "_view_module": "@jupyter-widgets/controls",
            "_view_module_version": "1.5.0",
            "_view_name": "HBoxView",
            "box_style": "",
            "children": [
              "IPY_MODEL_415621aa2b694f84ad8944946c5594ea",
              "IPY_MODEL_9f5b0dcdd7784a83bf666bd2dfecf8ae",
              "IPY_MODEL_68e1d9a2df3848f293d34082f0af6f1d"
            ],
            "layout": "IPY_MODEL_027a0a127d8e4d849fa19d44116aaeb7"
          }
        },
        "415621aa2b694f84ad8944946c5594ea": {
          "model_module": "@jupyter-widgets/controls",
          "model_name": "HTMLModel",
          "model_module_version": "1.5.0",
          "state": {
            "_dom_classes": [],
            "_model_module": "@jupyter-widgets/controls",
            "_model_module_version": "1.5.0",
            "_model_name": "HTMLModel",
            "_view_count": null,
            "_view_module": "@jupyter-widgets/controls",
            "_view_module_version": "1.5.0",
            "_view_name": "HTMLView",
            "description": "",
            "description_tooltip": null,
            "layout": "IPY_MODEL_698d93bb7fa444cb9894686bf5c775a7",
            "placeholder": "​",
            "style": "IPY_MODEL_4672c38dcf7e4b1a9d5a1cebba977315",
            "value": "100%"
          }
        },
        "9f5b0dcdd7784a83bf666bd2dfecf8ae": {
          "model_module": "@jupyter-widgets/controls",
          "model_name": "FloatProgressModel",
          "model_module_version": "1.5.0",
          "state": {
            "_dom_classes": [],
            "_model_module": "@jupyter-widgets/controls",
            "_model_module_version": "1.5.0",
            "_model_name": "FloatProgressModel",
            "_view_count": null,
            "_view_module": "@jupyter-widgets/controls",
            "_view_module_version": "1.5.0",
            "_view_name": "ProgressView",
            "bar_style": "success",
            "description": "",
            "description_tooltip": null,
            "layout": "IPY_MODEL_129be67aa1774a818a5ee18f5f5480fb",
            "max": 7,
            "min": 0,
            "orientation": "horizontal",
            "style": "IPY_MODEL_8a76c53c34c244beb3eda93e48ba0ac6",
            "value": 7
          }
        },
        "68e1d9a2df3848f293d34082f0af6f1d": {
          "model_module": "@jupyter-widgets/controls",
          "model_name": "HTMLModel",
          "model_module_version": "1.5.0",
          "state": {
            "_dom_classes": [],
            "_model_module": "@jupyter-widgets/controls",
            "_model_module_version": "1.5.0",
            "_model_name": "HTMLModel",
            "_view_count": null,
            "_view_module": "@jupyter-widgets/controls",
            "_view_module_version": "1.5.0",
            "_view_name": "HTMLView",
            "description": "",
            "description_tooltip": null,
            "layout": "IPY_MODEL_276d125e8bcf43ab93562d49639737f4",
            "placeholder": "​",
            "style": "IPY_MODEL_e8e6939e7a9b48428a7ec6d3d6ca22f2",
            "value": " 7/7 [00:03&lt;00:00,  2.33it/s]"
          }
        },
        "027a0a127d8e4d849fa19d44116aaeb7": {
          "model_module": "@jupyter-widgets/base",
          "model_name": "LayoutModel",
          "model_module_version": "1.2.0",
          "state": {
            "_model_module": "@jupyter-widgets/base",
            "_model_module_version": "1.2.0",
            "_model_name": "LayoutModel",
            "_view_count": null,
            "_view_module": "@jupyter-widgets/base",
            "_view_module_version": "1.2.0",
            "_view_name": "LayoutView",
            "align_content": null,
            "align_items": null,
            "align_self": null,
            "border": null,
            "bottom": null,
            "display": null,
            "flex": null,
            "flex_flow": null,
            "grid_area": null,
            "grid_auto_columns": null,
            "grid_auto_flow": null,
            "grid_auto_rows": null,
            "grid_column": null,
            "grid_gap": null,
            "grid_row": null,
            "grid_template_areas": null,
            "grid_template_columns": null,
            "grid_template_rows": null,
            "height": null,
            "justify_content": null,
            "justify_items": null,
            "left": null,
            "margin": null,
            "max_height": null,
            "max_width": null,
            "min_height": null,
            "min_width": null,
            "object_fit": null,
            "object_position": null,
            "order": null,
            "overflow": null,
            "overflow_x": null,
            "overflow_y": null,
            "padding": null,
            "right": null,
            "top": null,
            "visibility": null,
            "width": null
          }
        },
        "698d93bb7fa444cb9894686bf5c775a7": {
          "model_module": "@jupyter-widgets/base",
          "model_name": "LayoutModel",
          "model_module_version": "1.2.0",
          "state": {
            "_model_module": "@jupyter-widgets/base",
            "_model_module_version": "1.2.0",
            "_model_name": "LayoutModel",
            "_view_count": null,
            "_view_module": "@jupyter-widgets/base",
            "_view_module_version": "1.2.0",
            "_view_name": "LayoutView",
            "align_content": null,
            "align_items": null,
            "align_self": null,
            "border": null,
            "bottom": null,
            "display": null,
            "flex": null,
            "flex_flow": null,
            "grid_area": null,
            "grid_auto_columns": null,
            "grid_auto_flow": null,
            "grid_auto_rows": null,
            "grid_column": null,
            "grid_gap": null,
            "grid_row": null,
            "grid_template_areas": null,
            "grid_template_columns": null,
            "grid_template_rows": null,
            "height": null,
            "justify_content": null,
            "justify_items": null,
            "left": null,
            "margin": null,
            "max_height": null,
            "max_width": null,
            "min_height": null,
            "min_width": null,
            "object_fit": null,
            "object_position": null,
            "order": null,
            "overflow": null,
            "overflow_x": null,
            "overflow_y": null,
            "padding": null,
            "right": null,
            "top": null,
            "visibility": null,
            "width": null
          }
        },
        "4672c38dcf7e4b1a9d5a1cebba977315": {
          "model_module": "@jupyter-widgets/controls",
          "model_name": "DescriptionStyleModel",
          "model_module_version": "1.5.0",
          "state": {
            "_model_module": "@jupyter-widgets/controls",
            "_model_module_version": "1.5.0",
            "_model_name": "DescriptionStyleModel",
            "_view_count": null,
            "_view_module": "@jupyter-widgets/base",
            "_view_module_version": "1.2.0",
            "_view_name": "StyleView",
            "description_width": ""
          }
        },
        "129be67aa1774a818a5ee18f5f5480fb": {
          "model_module": "@jupyter-widgets/base",
          "model_name": "LayoutModel",
          "model_module_version": "1.2.0",
          "state": {
            "_model_module": "@jupyter-widgets/base",
            "_model_module_version": "1.2.0",
            "_model_name": "LayoutModel",
            "_view_count": null,
            "_view_module": "@jupyter-widgets/base",
            "_view_module_version": "1.2.0",
            "_view_name": "LayoutView",
            "align_content": null,
            "align_items": null,
            "align_self": null,
            "border": null,
            "bottom": null,
            "display": null,
            "flex": null,
            "flex_flow": null,
            "grid_area": null,
            "grid_auto_columns": null,
            "grid_auto_flow": null,
            "grid_auto_rows": null,
            "grid_column": null,
            "grid_gap": null,
            "grid_row": null,
            "grid_template_areas": null,
            "grid_template_columns": null,
            "grid_template_rows": null,
            "height": null,
            "justify_content": null,
            "justify_items": null,
            "left": null,
            "margin": null,
            "max_height": null,
            "max_width": null,
            "min_height": null,
            "min_width": null,
            "object_fit": null,
            "object_position": null,
            "order": null,
            "overflow": null,
            "overflow_x": null,
            "overflow_y": null,
            "padding": null,
            "right": null,
            "top": null,
            "visibility": null,
            "width": null
          }
        },
        "8a76c53c34c244beb3eda93e48ba0ac6": {
          "model_module": "@jupyter-widgets/controls",
          "model_name": "ProgressStyleModel",
          "model_module_version": "1.5.0",
          "state": {
            "_model_module": "@jupyter-widgets/controls",
            "_model_module_version": "1.5.0",
            "_model_name": "ProgressStyleModel",
            "_view_count": null,
            "_view_module": "@jupyter-widgets/base",
            "_view_module_version": "1.2.0",
            "_view_name": "StyleView",
            "bar_color": null,
            "description_width": ""
          }
        },
        "276d125e8bcf43ab93562d49639737f4": {
          "model_module": "@jupyter-widgets/base",
          "model_name": "LayoutModel",
          "model_module_version": "1.2.0",
          "state": {
            "_model_module": "@jupyter-widgets/base",
            "_model_module_version": "1.2.0",
            "_model_name": "LayoutModel",
            "_view_count": null,
            "_view_module": "@jupyter-widgets/base",
            "_view_module_version": "1.2.0",
            "_view_name": "LayoutView",
            "align_content": null,
            "align_items": null,
            "align_self": null,
            "border": null,
            "bottom": null,
            "display": null,
            "flex": null,
            "flex_flow": null,
            "grid_area": null,
            "grid_auto_columns": null,
            "grid_auto_flow": null,
            "grid_auto_rows": null,
            "grid_column": null,
            "grid_gap": null,
            "grid_row": null,
            "grid_template_areas": null,
            "grid_template_columns": null,
            "grid_template_rows": null,
            "height": null,
            "justify_content": null,
            "justify_items": null,
            "left": null,
            "margin": null,
            "max_height": null,
            "max_width": null,
            "min_height": null,
            "min_width": null,
            "object_fit": null,
            "object_position": null,
            "order": null,
            "overflow": null,
            "overflow_x": null,
            "overflow_y": null,
            "padding": null,
            "right": null,
            "top": null,
            "visibility": null,
            "width": null
          }
        },
        "e8e6939e7a9b48428a7ec6d3d6ca22f2": {
          "model_module": "@jupyter-widgets/controls",
          "model_name": "DescriptionStyleModel",
          "model_module_version": "1.5.0",
          "state": {
            "_model_module": "@jupyter-widgets/controls",
            "_model_module_version": "1.5.0",
            "_model_name": "DescriptionStyleModel",
            "_view_count": null,
            "_view_module": "@jupyter-widgets/base",
            "_view_module_version": "1.2.0",
            "_view_name": "StyleView",
            "description_width": ""
          }
        },
        "d3ed2175518e45f8b7ffc2b15cff8366": {
          "model_module": "@jupyter-widgets/controls",
          "model_name": "HBoxModel",
          "model_module_version": "1.5.0",
          "state": {
            "_dom_classes": [],
            "_model_module": "@jupyter-widgets/controls",
            "_model_module_version": "1.5.0",
            "_model_name": "HBoxModel",
            "_view_count": null,
            "_view_module": "@jupyter-widgets/controls",
            "_view_module_version": "1.5.0",
            "_view_name": "HBoxView",
            "box_style": "",
            "children": [
              "IPY_MODEL_7375938559d145bdb31048f1225a9e3e",
              "IPY_MODEL_06f2680e851b4201be0bdd73fbd73feb",
              "IPY_MODEL_ac812497c117439b915087b5d3c41463"
            ],
            "layout": "IPY_MODEL_e97b1ac5693441e4b327ff1f2654ec0b"
          }
        },
        "7375938559d145bdb31048f1225a9e3e": {
          "model_module": "@jupyter-widgets/controls",
          "model_name": "HTMLModel",
          "model_module_version": "1.5.0",
          "state": {
            "_dom_classes": [],
            "_model_module": "@jupyter-widgets/controls",
            "_model_module_version": "1.5.0",
            "_model_name": "HTMLModel",
            "_view_count": null,
            "_view_module": "@jupyter-widgets/controls",
            "_view_module_version": "1.5.0",
            "_view_name": "HTMLView",
            "description": "",
            "description_tooltip": null,
            "layout": "IPY_MODEL_e6145d0751564acb82d4be59b4f87673",
            "placeholder": "​",
            "style": "IPY_MODEL_1be0d109c28b4674aee16322125d3801",
            "value": "100%"
          }
        },
        "06f2680e851b4201be0bdd73fbd73feb": {
          "model_module": "@jupyter-widgets/controls",
          "model_name": "FloatProgressModel",
          "model_module_version": "1.5.0",
          "state": {
            "_dom_classes": [],
            "_model_module": "@jupyter-widgets/controls",
            "_model_module_version": "1.5.0",
            "_model_name": "FloatProgressModel",
            "_view_count": null,
            "_view_module": "@jupyter-widgets/controls",
            "_view_module_version": "1.5.0",
            "_view_name": "ProgressView",
            "bar_style": "success",
            "description": "",
            "description_tooltip": null,
            "layout": "IPY_MODEL_0836be83643d445b9979286391f63f58",
            "max": 7,
            "min": 0,
            "orientation": "horizontal",
            "style": "IPY_MODEL_846d5387c73e4f8699f72a12d29fbff7",
            "value": 7
          }
        },
        "ac812497c117439b915087b5d3c41463": {
          "model_module": "@jupyter-widgets/controls",
          "model_name": "HTMLModel",
          "model_module_version": "1.5.0",
          "state": {
            "_dom_classes": [],
            "_model_module": "@jupyter-widgets/controls",
            "_model_module_version": "1.5.0",
            "_model_name": "HTMLModel",
            "_view_count": null,
            "_view_module": "@jupyter-widgets/controls",
            "_view_module_version": "1.5.0",
            "_view_name": "HTMLView",
            "description": "",
            "description_tooltip": null,
            "layout": "IPY_MODEL_e8e936b3e1b248abb25b990794f60673",
            "placeholder": "​",
            "style": "IPY_MODEL_a6b6c04ea0be41dfb6db5642cdb46333",
            "value": " 7/7 [00:03&lt;00:00,  2.19it/s]"
          }
        },
        "e97b1ac5693441e4b327ff1f2654ec0b": {
          "model_module": "@jupyter-widgets/base",
          "model_name": "LayoutModel",
          "model_module_version": "1.2.0",
          "state": {
            "_model_module": "@jupyter-widgets/base",
            "_model_module_version": "1.2.0",
            "_model_name": "LayoutModel",
            "_view_count": null,
            "_view_module": "@jupyter-widgets/base",
            "_view_module_version": "1.2.0",
            "_view_name": "LayoutView",
            "align_content": null,
            "align_items": null,
            "align_self": null,
            "border": null,
            "bottom": null,
            "display": null,
            "flex": null,
            "flex_flow": null,
            "grid_area": null,
            "grid_auto_columns": null,
            "grid_auto_flow": null,
            "grid_auto_rows": null,
            "grid_column": null,
            "grid_gap": null,
            "grid_row": null,
            "grid_template_areas": null,
            "grid_template_columns": null,
            "grid_template_rows": null,
            "height": null,
            "justify_content": null,
            "justify_items": null,
            "left": null,
            "margin": null,
            "max_height": null,
            "max_width": null,
            "min_height": null,
            "min_width": null,
            "object_fit": null,
            "object_position": null,
            "order": null,
            "overflow": null,
            "overflow_x": null,
            "overflow_y": null,
            "padding": null,
            "right": null,
            "top": null,
            "visibility": null,
            "width": null
          }
        },
        "e6145d0751564acb82d4be59b4f87673": {
          "model_module": "@jupyter-widgets/base",
          "model_name": "LayoutModel",
          "model_module_version": "1.2.0",
          "state": {
            "_model_module": "@jupyter-widgets/base",
            "_model_module_version": "1.2.0",
            "_model_name": "LayoutModel",
            "_view_count": null,
            "_view_module": "@jupyter-widgets/base",
            "_view_module_version": "1.2.0",
            "_view_name": "LayoutView",
            "align_content": null,
            "align_items": null,
            "align_self": null,
            "border": null,
            "bottom": null,
            "display": null,
            "flex": null,
            "flex_flow": null,
            "grid_area": null,
            "grid_auto_columns": null,
            "grid_auto_flow": null,
            "grid_auto_rows": null,
            "grid_column": null,
            "grid_gap": null,
            "grid_row": null,
            "grid_template_areas": null,
            "grid_template_columns": null,
            "grid_template_rows": null,
            "height": null,
            "justify_content": null,
            "justify_items": null,
            "left": null,
            "margin": null,
            "max_height": null,
            "max_width": null,
            "min_height": null,
            "min_width": null,
            "object_fit": null,
            "object_position": null,
            "order": null,
            "overflow": null,
            "overflow_x": null,
            "overflow_y": null,
            "padding": null,
            "right": null,
            "top": null,
            "visibility": null,
            "width": null
          }
        },
        "1be0d109c28b4674aee16322125d3801": {
          "model_module": "@jupyter-widgets/controls",
          "model_name": "DescriptionStyleModel",
          "model_module_version": "1.5.0",
          "state": {
            "_model_module": "@jupyter-widgets/controls",
            "_model_module_version": "1.5.0",
            "_model_name": "DescriptionStyleModel",
            "_view_count": null,
            "_view_module": "@jupyter-widgets/base",
            "_view_module_version": "1.2.0",
            "_view_name": "StyleView",
            "description_width": ""
          }
        },
        "0836be83643d445b9979286391f63f58": {
          "model_module": "@jupyter-widgets/base",
          "model_name": "LayoutModel",
          "model_module_version": "1.2.0",
          "state": {
            "_model_module": "@jupyter-widgets/base",
            "_model_module_version": "1.2.0",
            "_model_name": "LayoutModel",
            "_view_count": null,
            "_view_module": "@jupyter-widgets/base",
            "_view_module_version": "1.2.0",
            "_view_name": "LayoutView",
            "align_content": null,
            "align_items": null,
            "align_self": null,
            "border": null,
            "bottom": null,
            "display": null,
            "flex": null,
            "flex_flow": null,
            "grid_area": null,
            "grid_auto_columns": null,
            "grid_auto_flow": null,
            "grid_auto_rows": null,
            "grid_column": null,
            "grid_gap": null,
            "grid_row": null,
            "grid_template_areas": null,
            "grid_template_columns": null,
            "grid_template_rows": null,
            "height": null,
            "justify_content": null,
            "justify_items": null,
            "left": null,
            "margin": null,
            "max_height": null,
            "max_width": null,
            "min_height": null,
            "min_width": null,
            "object_fit": null,
            "object_position": null,
            "order": null,
            "overflow": null,
            "overflow_x": null,
            "overflow_y": null,
            "padding": null,
            "right": null,
            "top": null,
            "visibility": null,
            "width": null
          }
        },
        "846d5387c73e4f8699f72a12d29fbff7": {
          "model_module": "@jupyter-widgets/controls",
          "model_name": "ProgressStyleModel",
          "model_module_version": "1.5.0",
          "state": {
            "_model_module": "@jupyter-widgets/controls",
            "_model_module_version": "1.5.0",
            "_model_name": "ProgressStyleModel",
            "_view_count": null,
            "_view_module": "@jupyter-widgets/base",
            "_view_module_version": "1.2.0",
            "_view_name": "StyleView",
            "bar_color": null,
            "description_width": ""
          }
        },
        "e8e936b3e1b248abb25b990794f60673": {
          "model_module": "@jupyter-widgets/base",
          "model_name": "LayoutModel",
          "model_module_version": "1.2.0",
          "state": {
            "_model_module": "@jupyter-widgets/base",
            "_model_module_version": "1.2.0",
            "_model_name": "LayoutModel",
            "_view_count": null,
            "_view_module": "@jupyter-widgets/base",
            "_view_module_version": "1.2.0",
            "_view_name": "LayoutView",
            "align_content": null,
            "align_items": null,
            "align_self": null,
            "border": null,
            "bottom": null,
            "display": null,
            "flex": null,
            "flex_flow": null,
            "grid_area": null,
            "grid_auto_columns": null,
            "grid_auto_flow": null,
            "grid_auto_rows": null,
            "grid_column": null,
            "grid_gap": null,
            "grid_row": null,
            "grid_template_areas": null,
            "grid_template_columns": null,
            "grid_template_rows": null,
            "height": null,
            "justify_content": null,
            "justify_items": null,
            "left": null,
            "margin": null,
            "max_height": null,
            "max_width": null,
            "min_height": null,
            "min_width": null,
            "object_fit": null,
            "object_position": null,
            "order": null,
            "overflow": null,
            "overflow_x": null,
            "overflow_y": null,
            "padding": null,
            "right": null,
            "top": null,
            "visibility": null,
            "width": null
          }
        },
        "a6b6c04ea0be41dfb6db5642cdb46333": {
          "model_module": "@jupyter-widgets/controls",
          "model_name": "DescriptionStyleModel",
          "model_module_version": "1.5.0",
          "state": {
            "_model_module": "@jupyter-widgets/controls",
            "_model_module_version": "1.5.0",
            "_model_name": "DescriptionStyleModel",
            "_view_count": null,
            "_view_module": "@jupyter-widgets/base",
            "_view_module_version": "1.2.0",
            "_view_name": "StyleView",
            "description_width": ""
          }
        },
        "364edc48a4014883a2d304424a534dae": {
          "model_module": "@jupyter-widgets/controls",
          "model_name": "HBoxModel",
          "model_module_version": "1.5.0",
          "state": {
            "_dom_classes": [],
            "_model_module": "@jupyter-widgets/controls",
            "_model_module_version": "1.5.0",
            "_model_name": "HBoxModel",
            "_view_count": null,
            "_view_module": "@jupyter-widgets/controls",
            "_view_module_version": "1.5.0",
            "_view_name": "HBoxView",
            "box_style": "",
            "children": [
              "IPY_MODEL_6cd73456f49346c9b1ad983733c88abe",
              "IPY_MODEL_109ba696a8534d7087699b9d0a00e1c6",
              "IPY_MODEL_29e5f74a88fe41ee92f13c7b1d811bc7"
            ],
            "layout": "IPY_MODEL_605cd3b0dcc44fccaad01f59dd489693"
          }
        },
        "6cd73456f49346c9b1ad983733c88abe": {
          "model_module": "@jupyter-widgets/controls",
          "model_name": "HTMLModel",
          "model_module_version": "1.5.0",
          "state": {
            "_dom_classes": [],
            "_model_module": "@jupyter-widgets/controls",
            "_model_module_version": "1.5.0",
            "_model_name": "HTMLModel",
            "_view_count": null,
            "_view_module": "@jupyter-widgets/controls",
            "_view_module_version": "1.5.0",
            "_view_name": "HTMLView",
            "description": "",
            "description_tooltip": null,
            "layout": "IPY_MODEL_f324deddefea4f47a436da80895a7a94",
            "placeholder": "​",
            "style": "IPY_MODEL_e88c6169629a4725b25c229c66cac4b1",
            "value": "100%"
          }
        },
        "109ba696a8534d7087699b9d0a00e1c6": {
          "model_module": "@jupyter-widgets/controls",
          "model_name": "FloatProgressModel",
          "model_module_version": "1.5.0",
          "state": {
            "_dom_classes": [],
            "_model_module": "@jupyter-widgets/controls",
            "_model_module_version": "1.5.0",
            "_model_name": "FloatProgressModel",
            "_view_count": null,
            "_view_module": "@jupyter-widgets/controls",
            "_view_module_version": "1.5.0",
            "_view_name": "ProgressView",
            "bar_style": "success",
            "description": "",
            "description_tooltip": null,
            "layout": "IPY_MODEL_f3223fe9ed9143d58ee3467b9a0e3ef8",
            "max": 7,
            "min": 0,
            "orientation": "horizontal",
            "style": "IPY_MODEL_0a160b789dde41a2a4ae090ffb01f9d8",
            "value": 7
          }
        },
        "29e5f74a88fe41ee92f13c7b1d811bc7": {
          "model_module": "@jupyter-widgets/controls",
          "model_name": "HTMLModel",
          "model_module_version": "1.5.0",
          "state": {
            "_dom_classes": [],
            "_model_module": "@jupyter-widgets/controls",
            "_model_module_version": "1.5.0",
            "_model_name": "HTMLModel",
            "_view_count": null,
            "_view_module": "@jupyter-widgets/controls",
            "_view_module_version": "1.5.0",
            "_view_name": "HTMLView",
            "description": "",
            "description_tooltip": null,
            "layout": "IPY_MODEL_64f118254fbb4e7884c2ce16ae202305",
            "placeholder": "​",
            "style": "IPY_MODEL_a699ea191ae14742b62c2e6ffeb6b4ac",
            "value": " 7/7 [00:03&lt;00:00,  2.11it/s]"
          }
        },
        "605cd3b0dcc44fccaad01f59dd489693": {
          "model_module": "@jupyter-widgets/base",
          "model_name": "LayoutModel",
          "model_module_version": "1.2.0",
          "state": {
            "_model_module": "@jupyter-widgets/base",
            "_model_module_version": "1.2.0",
            "_model_name": "LayoutModel",
            "_view_count": null,
            "_view_module": "@jupyter-widgets/base",
            "_view_module_version": "1.2.0",
            "_view_name": "LayoutView",
            "align_content": null,
            "align_items": null,
            "align_self": null,
            "border": null,
            "bottom": null,
            "display": null,
            "flex": null,
            "flex_flow": null,
            "grid_area": null,
            "grid_auto_columns": null,
            "grid_auto_flow": null,
            "grid_auto_rows": null,
            "grid_column": null,
            "grid_gap": null,
            "grid_row": null,
            "grid_template_areas": null,
            "grid_template_columns": null,
            "grid_template_rows": null,
            "height": null,
            "justify_content": null,
            "justify_items": null,
            "left": null,
            "margin": null,
            "max_height": null,
            "max_width": null,
            "min_height": null,
            "min_width": null,
            "object_fit": null,
            "object_position": null,
            "order": null,
            "overflow": null,
            "overflow_x": null,
            "overflow_y": null,
            "padding": null,
            "right": null,
            "top": null,
            "visibility": null,
            "width": null
          }
        },
        "f324deddefea4f47a436da80895a7a94": {
          "model_module": "@jupyter-widgets/base",
          "model_name": "LayoutModel",
          "model_module_version": "1.2.0",
          "state": {
            "_model_module": "@jupyter-widgets/base",
            "_model_module_version": "1.2.0",
            "_model_name": "LayoutModel",
            "_view_count": null,
            "_view_module": "@jupyter-widgets/base",
            "_view_module_version": "1.2.0",
            "_view_name": "LayoutView",
            "align_content": null,
            "align_items": null,
            "align_self": null,
            "border": null,
            "bottom": null,
            "display": null,
            "flex": null,
            "flex_flow": null,
            "grid_area": null,
            "grid_auto_columns": null,
            "grid_auto_flow": null,
            "grid_auto_rows": null,
            "grid_column": null,
            "grid_gap": null,
            "grid_row": null,
            "grid_template_areas": null,
            "grid_template_columns": null,
            "grid_template_rows": null,
            "height": null,
            "justify_content": null,
            "justify_items": null,
            "left": null,
            "margin": null,
            "max_height": null,
            "max_width": null,
            "min_height": null,
            "min_width": null,
            "object_fit": null,
            "object_position": null,
            "order": null,
            "overflow": null,
            "overflow_x": null,
            "overflow_y": null,
            "padding": null,
            "right": null,
            "top": null,
            "visibility": null,
            "width": null
          }
        },
        "e88c6169629a4725b25c229c66cac4b1": {
          "model_module": "@jupyter-widgets/controls",
          "model_name": "DescriptionStyleModel",
          "model_module_version": "1.5.0",
          "state": {
            "_model_module": "@jupyter-widgets/controls",
            "_model_module_version": "1.5.0",
            "_model_name": "DescriptionStyleModel",
            "_view_count": null,
            "_view_module": "@jupyter-widgets/base",
            "_view_module_version": "1.2.0",
            "_view_name": "StyleView",
            "description_width": ""
          }
        },
        "f3223fe9ed9143d58ee3467b9a0e3ef8": {
          "model_module": "@jupyter-widgets/base",
          "model_name": "LayoutModel",
          "model_module_version": "1.2.0",
          "state": {
            "_model_module": "@jupyter-widgets/base",
            "_model_module_version": "1.2.0",
            "_model_name": "LayoutModel",
            "_view_count": null,
            "_view_module": "@jupyter-widgets/base",
            "_view_module_version": "1.2.0",
            "_view_name": "LayoutView",
            "align_content": null,
            "align_items": null,
            "align_self": null,
            "border": null,
            "bottom": null,
            "display": null,
            "flex": null,
            "flex_flow": null,
            "grid_area": null,
            "grid_auto_columns": null,
            "grid_auto_flow": null,
            "grid_auto_rows": null,
            "grid_column": null,
            "grid_gap": null,
            "grid_row": null,
            "grid_template_areas": null,
            "grid_template_columns": null,
            "grid_template_rows": null,
            "height": null,
            "justify_content": null,
            "justify_items": null,
            "left": null,
            "margin": null,
            "max_height": null,
            "max_width": null,
            "min_height": null,
            "min_width": null,
            "object_fit": null,
            "object_position": null,
            "order": null,
            "overflow": null,
            "overflow_x": null,
            "overflow_y": null,
            "padding": null,
            "right": null,
            "top": null,
            "visibility": null,
            "width": null
          }
        },
        "0a160b789dde41a2a4ae090ffb01f9d8": {
          "model_module": "@jupyter-widgets/controls",
          "model_name": "ProgressStyleModel",
          "model_module_version": "1.5.0",
          "state": {
            "_model_module": "@jupyter-widgets/controls",
            "_model_module_version": "1.5.0",
            "_model_name": "ProgressStyleModel",
            "_view_count": null,
            "_view_module": "@jupyter-widgets/base",
            "_view_module_version": "1.2.0",
            "_view_name": "StyleView",
            "bar_color": null,
            "description_width": ""
          }
        },
        "64f118254fbb4e7884c2ce16ae202305": {
          "model_module": "@jupyter-widgets/base",
          "model_name": "LayoutModel",
          "model_module_version": "1.2.0",
          "state": {
            "_model_module": "@jupyter-widgets/base",
            "_model_module_version": "1.2.0",
            "_model_name": "LayoutModel",
            "_view_count": null,
            "_view_module": "@jupyter-widgets/base",
            "_view_module_version": "1.2.0",
            "_view_name": "LayoutView",
            "align_content": null,
            "align_items": null,
            "align_self": null,
            "border": null,
            "bottom": null,
            "display": null,
            "flex": null,
            "flex_flow": null,
            "grid_area": null,
            "grid_auto_columns": null,
            "grid_auto_flow": null,
            "grid_auto_rows": null,
            "grid_column": null,
            "grid_gap": null,
            "grid_row": null,
            "grid_template_areas": null,
            "grid_template_columns": null,
            "grid_template_rows": null,
            "height": null,
            "justify_content": null,
            "justify_items": null,
            "left": null,
            "margin": null,
            "max_height": null,
            "max_width": null,
            "min_height": null,
            "min_width": null,
            "object_fit": null,
            "object_position": null,
            "order": null,
            "overflow": null,
            "overflow_x": null,
            "overflow_y": null,
            "padding": null,
            "right": null,
            "top": null,
            "visibility": null,
            "width": null
          }
        },
        "a699ea191ae14742b62c2e6ffeb6b4ac": {
          "model_module": "@jupyter-widgets/controls",
          "model_name": "DescriptionStyleModel",
          "model_module_version": "1.5.0",
          "state": {
            "_model_module": "@jupyter-widgets/controls",
            "_model_module_version": "1.5.0",
            "_model_name": "DescriptionStyleModel",
            "_view_count": null,
            "_view_module": "@jupyter-widgets/base",
            "_view_module_version": "1.2.0",
            "_view_name": "StyleView",
            "description_width": ""
          }
        },
        "6bc11912b8e248e3a36277e8f66e96e4": {
          "model_module": "@jupyter-widgets/controls",
          "model_name": "HBoxModel",
          "model_module_version": "1.5.0",
          "state": {
            "_dom_classes": [],
            "_model_module": "@jupyter-widgets/controls",
            "_model_module_version": "1.5.0",
            "_model_name": "HBoxModel",
            "_view_count": null,
            "_view_module": "@jupyter-widgets/controls",
            "_view_module_version": "1.5.0",
            "_view_name": "HBoxView",
            "box_style": "",
            "children": [
              "IPY_MODEL_70f7f27683e14becb9121dbdf52fadd9",
              "IPY_MODEL_aa864ec61d52406c8bedef7664fe2e93",
              "IPY_MODEL_e7f1133c46794cd8b0fe8b1381db5315"
            ],
            "layout": "IPY_MODEL_9941da94123e49a09cee364a915c7a4b"
          }
        },
        "70f7f27683e14becb9121dbdf52fadd9": {
          "model_module": "@jupyter-widgets/controls",
          "model_name": "HTMLModel",
          "model_module_version": "1.5.0",
          "state": {
            "_dom_classes": [],
            "_model_module": "@jupyter-widgets/controls",
            "_model_module_version": "1.5.0",
            "_model_name": "HTMLModel",
            "_view_count": null,
            "_view_module": "@jupyter-widgets/controls",
            "_view_module_version": "1.5.0",
            "_view_name": "HTMLView",
            "description": "",
            "description_tooltip": null,
            "layout": "IPY_MODEL_ccb0341a4ff7411db0e327b86c1c286a",
            "placeholder": "​",
            "style": "IPY_MODEL_5023b3d837314cfe8e6feb1f58d2b185",
            "value": "100%"
          }
        },
        "aa864ec61d52406c8bedef7664fe2e93": {
          "model_module": "@jupyter-widgets/controls",
          "model_name": "FloatProgressModel",
          "model_module_version": "1.5.0",
          "state": {
            "_dom_classes": [],
            "_model_module": "@jupyter-widgets/controls",
            "_model_module_version": "1.5.0",
            "_model_name": "FloatProgressModel",
            "_view_count": null,
            "_view_module": "@jupyter-widgets/controls",
            "_view_module_version": "1.5.0",
            "_view_name": "ProgressView",
            "bar_style": "success",
            "description": "",
            "description_tooltip": null,
            "layout": "IPY_MODEL_147aeea960974781af3fc8861349037c",
            "max": 7,
            "min": 0,
            "orientation": "horizontal",
            "style": "IPY_MODEL_1d19eaf2ac614d28bc2032ad15aa72ef",
            "value": 7
          }
        },
        "e7f1133c46794cd8b0fe8b1381db5315": {
          "model_module": "@jupyter-widgets/controls",
          "model_name": "HTMLModel",
          "model_module_version": "1.5.0",
          "state": {
            "_dom_classes": [],
            "_model_module": "@jupyter-widgets/controls",
            "_model_module_version": "1.5.0",
            "_model_name": "HTMLModel",
            "_view_count": null,
            "_view_module": "@jupyter-widgets/controls",
            "_view_module_version": "1.5.0",
            "_view_name": "HTMLView",
            "description": "",
            "description_tooltip": null,
            "layout": "IPY_MODEL_46de41cd20f94e52b6a9625b692fbf76",
            "placeholder": "​",
            "style": "IPY_MODEL_ab9e2a5282c14556b4c17448e388f666",
            "value": " 7/7 [00:03&lt;00:00,  1.99it/s]"
          }
        },
        "9941da94123e49a09cee364a915c7a4b": {
          "model_module": "@jupyter-widgets/base",
          "model_name": "LayoutModel",
          "model_module_version": "1.2.0",
          "state": {
            "_model_module": "@jupyter-widgets/base",
            "_model_module_version": "1.2.0",
            "_model_name": "LayoutModel",
            "_view_count": null,
            "_view_module": "@jupyter-widgets/base",
            "_view_module_version": "1.2.0",
            "_view_name": "LayoutView",
            "align_content": null,
            "align_items": null,
            "align_self": null,
            "border": null,
            "bottom": null,
            "display": null,
            "flex": null,
            "flex_flow": null,
            "grid_area": null,
            "grid_auto_columns": null,
            "grid_auto_flow": null,
            "grid_auto_rows": null,
            "grid_column": null,
            "grid_gap": null,
            "grid_row": null,
            "grid_template_areas": null,
            "grid_template_columns": null,
            "grid_template_rows": null,
            "height": null,
            "justify_content": null,
            "justify_items": null,
            "left": null,
            "margin": null,
            "max_height": null,
            "max_width": null,
            "min_height": null,
            "min_width": null,
            "object_fit": null,
            "object_position": null,
            "order": null,
            "overflow": null,
            "overflow_x": null,
            "overflow_y": null,
            "padding": null,
            "right": null,
            "top": null,
            "visibility": null,
            "width": null
          }
        },
        "ccb0341a4ff7411db0e327b86c1c286a": {
          "model_module": "@jupyter-widgets/base",
          "model_name": "LayoutModel",
          "model_module_version": "1.2.0",
          "state": {
            "_model_module": "@jupyter-widgets/base",
            "_model_module_version": "1.2.0",
            "_model_name": "LayoutModel",
            "_view_count": null,
            "_view_module": "@jupyter-widgets/base",
            "_view_module_version": "1.2.0",
            "_view_name": "LayoutView",
            "align_content": null,
            "align_items": null,
            "align_self": null,
            "border": null,
            "bottom": null,
            "display": null,
            "flex": null,
            "flex_flow": null,
            "grid_area": null,
            "grid_auto_columns": null,
            "grid_auto_flow": null,
            "grid_auto_rows": null,
            "grid_column": null,
            "grid_gap": null,
            "grid_row": null,
            "grid_template_areas": null,
            "grid_template_columns": null,
            "grid_template_rows": null,
            "height": null,
            "justify_content": null,
            "justify_items": null,
            "left": null,
            "margin": null,
            "max_height": null,
            "max_width": null,
            "min_height": null,
            "min_width": null,
            "object_fit": null,
            "object_position": null,
            "order": null,
            "overflow": null,
            "overflow_x": null,
            "overflow_y": null,
            "padding": null,
            "right": null,
            "top": null,
            "visibility": null,
            "width": null
          }
        },
        "5023b3d837314cfe8e6feb1f58d2b185": {
          "model_module": "@jupyter-widgets/controls",
          "model_name": "DescriptionStyleModel",
          "model_module_version": "1.5.0",
          "state": {
            "_model_module": "@jupyter-widgets/controls",
            "_model_module_version": "1.5.0",
            "_model_name": "DescriptionStyleModel",
            "_view_count": null,
            "_view_module": "@jupyter-widgets/base",
            "_view_module_version": "1.2.0",
            "_view_name": "StyleView",
            "description_width": ""
          }
        },
        "147aeea960974781af3fc8861349037c": {
          "model_module": "@jupyter-widgets/base",
          "model_name": "LayoutModel",
          "model_module_version": "1.2.0",
          "state": {
            "_model_module": "@jupyter-widgets/base",
            "_model_module_version": "1.2.0",
            "_model_name": "LayoutModel",
            "_view_count": null,
            "_view_module": "@jupyter-widgets/base",
            "_view_module_version": "1.2.0",
            "_view_name": "LayoutView",
            "align_content": null,
            "align_items": null,
            "align_self": null,
            "border": null,
            "bottom": null,
            "display": null,
            "flex": null,
            "flex_flow": null,
            "grid_area": null,
            "grid_auto_columns": null,
            "grid_auto_flow": null,
            "grid_auto_rows": null,
            "grid_column": null,
            "grid_gap": null,
            "grid_row": null,
            "grid_template_areas": null,
            "grid_template_columns": null,
            "grid_template_rows": null,
            "height": null,
            "justify_content": null,
            "justify_items": null,
            "left": null,
            "margin": null,
            "max_height": null,
            "max_width": null,
            "min_height": null,
            "min_width": null,
            "object_fit": null,
            "object_position": null,
            "order": null,
            "overflow": null,
            "overflow_x": null,
            "overflow_y": null,
            "padding": null,
            "right": null,
            "top": null,
            "visibility": null,
            "width": null
          }
        },
        "1d19eaf2ac614d28bc2032ad15aa72ef": {
          "model_module": "@jupyter-widgets/controls",
          "model_name": "ProgressStyleModel",
          "model_module_version": "1.5.0",
          "state": {
            "_model_module": "@jupyter-widgets/controls",
            "_model_module_version": "1.5.0",
            "_model_name": "ProgressStyleModel",
            "_view_count": null,
            "_view_module": "@jupyter-widgets/base",
            "_view_module_version": "1.2.0",
            "_view_name": "StyleView",
            "bar_color": null,
            "description_width": ""
          }
        },
        "46de41cd20f94e52b6a9625b692fbf76": {
          "model_module": "@jupyter-widgets/base",
          "model_name": "LayoutModel",
          "model_module_version": "1.2.0",
          "state": {
            "_model_module": "@jupyter-widgets/base",
            "_model_module_version": "1.2.0",
            "_model_name": "LayoutModel",
            "_view_count": null,
            "_view_module": "@jupyter-widgets/base",
            "_view_module_version": "1.2.0",
            "_view_name": "LayoutView",
            "align_content": null,
            "align_items": null,
            "align_self": null,
            "border": null,
            "bottom": null,
            "display": null,
            "flex": null,
            "flex_flow": null,
            "grid_area": null,
            "grid_auto_columns": null,
            "grid_auto_flow": null,
            "grid_auto_rows": null,
            "grid_column": null,
            "grid_gap": null,
            "grid_row": null,
            "grid_template_areas": null,
            "grid_template_columns": null,
            "grid_template_rows": null,
            "height": null,
            "justify_content": null,
            "justify_items": null,
            "left": null,
            "margin": null,
            "max_height": null,
            "max_width": null,
            "min_height": null,
            "min_width": null,
            "object_fit": null,
            "object_position": null,
            "order": null,
            "overflow": null,
            "overflow_x": null,
            "overflow_y": null,
            "padding": null,
            "right": null,
            "top": null,
            "visibility": null,
            "width": null
          }
        },
        "ab9e2a5282c14556b4c17448e388f666": {
          "model_module": "@jupyter-widgets/controls",
          "model_name": "DescriptionStyleModel",
          "model_module_version": "1.5.0",
          "state": {
            "_model_module": "@jupyter-widgets/controls",
            "_model_module_version": "1.5.0",
            "_model_name": "DescriptionStyleModel",
            "_view_count": null,
            "_view_module": "@jupyter-widgets/base",
            "_view_module_version": "1.2.0",
            "_view_name": "StyleView",
            "description_width": ""
          }
        },
        "534eb6532fc84925985c09e47c3e9910": {
          "model_module": "@jupyter-widgets/controls",
          "model_name": "HBoxModel",
          "model_module_version": "1.5.0",
          "state": {
            "_dom_classes": [],
            "_model_module": "@jupyter-widgets/controls",
            "_model_module_version": "1.5.0",
            "_model_name": "HBoxModel",
            "_view_count": null,
            "_view_module": "@jupyter-widgets/controls",
            "_view_module_version": "1.5.0",
            "_view_name": "HBoxView",
            "box_style": "",
            "children": [
              "IPY_MODEL_2b0d84ce45e9409093ae4dd204a984a5",
              "IPY_MODEL_b7c24e88abae4928a6b70297aa90bd26",
              "IPY_MODEL_017ba32cd3234161bd9cbfdcbdbbfe61"
            ],
            "layout": "IPY_MODEL_34e5979310fb439f88d854300ab303d9"
          }
        },
        "2b0d84ce45e9409093ae4dd204a984a5": {
          "model_module": "@jupyter-widgets/controls",
          "model_name": "HTMLModel",
          "model_module_version": "1.5.0",
          "state": {
            "_dom_classes": [],
            "_model_module": "@jupyter-widgets/controls",
            "_model_module_version": "1.5.0",
            "_model_name": "HTMLModel",
            "_view_count": null,
            "_view_module": "@jupyter-widgets/controls",
            "_view_module_version": "1.5.0",
            "_view_name": "HTMLView",
            "description": "",
            "description_tooltip": null,
            "layout": "IPY_MODEL_e2cc4089af6d44d99fa6f525bf5de8d1",
            "placeholder": "​",
            "style": "IPY_MODEL_768b36b0bdbc44fd9f775aaf97f4e004",
            "value": "100%"
          }
        },
        "b7c24e88abae4928a6b70297aa90bd26": {
          "model_module": "@jupyter-widgets/controls",
          "model_name": "FloatProgressModel",
          "model_module_version": "1.5.0",
          "state": {
            "_dom_classes": [],
            "_model_module": "@jupyter-widgets/controls",
            "_model_module_version": "1.5.0",
            "_model_name": "FloatProgressModel",
            "_view_count": null,
            "_view_module": "@jupyter-widgets/controls",
            "_view_module_version": "1.5.0",
            "_view_name": "ProgressView",
            "bar_style": "success",
            "description": "",
            "description_tooltip": null,
            "layout": "IPY_MODEL_c7184818528744f0b362cec2857c62be",
            "max": 7,
            "min": 0,
            "orientation": "horizontal",
            "style": "IPY_MODEL_e9ba97242e4f4fe5a5d587ce29b5bf54",
            "value": 7
          }
        },
        "017ba32cd3234161bd9cbfdcbdbbfe61": {
          "model_module": "@jupyter-widgets/controls",
          "model_name": "HTMLModel",
          "model_module_version": "1.5.0",
          "state": {
            "_dom_classes": [],
            "_model_module": "@jupyter-widgets/controls",
            "_model_module_version": "1.5.0",
            "_model_name": "HTMLModel",
            "_view_count": null,
            "_view_module": "@jupyter-widgets/controls",
            "_view_module_version": "1.5.0",
            "_view_name": "HTMLView",
            "description": "",
            "description_tooltip": null,
            "layout": "IPY_MODEL_cac5d42b7f634162944e806e01c8f0b4",
            "placeholder": "​",
            "style": "IPY_MODEL_701c43567a9d43208acd08fa513dfbec",
            "value": " 7/7 [00:03&lt;00:00,  2.19it/s]"
          }
        },
        "34e5979310fb439f88d854300ab303d9": {
          "model_module": "@jupyter-widgets/base",
          "model_name": "LayoutModel",
          "model_module_version": "1.2.0",
          "state": {
            "_model_module": "@jupyter-widgets/base",
            "_model_module_version": "1.2.0",
            "_model_name": "LayoutModel",
            "_view_count": null,
            "_view_module": "@jupyter-widgets/base",
            "_view_module_version": "1.2.0",
            "_view_name": "LayoutView",
            "align_content": null,
            "align_items": null,
            "align_self": null,
            "border": null,
            "bottom": null,
            "display": null,
            "flex": null,
            "flex_flow": null,
            "grid_area": null,
            "grid_auto_columns": null,
            "grid_auto_flow": null,
            "grid_auto_rows": null,
            "grid_column": null,
            "grid_gap": null,
            "grid_row": null,
            "grid_template_areas": null,
            "grid_template_columns": null,
            "grid_template_rows": null,
            "height": null,
            "justify_content": null,
            "justify_items": null,
            "left": null,
            "margin": null,
            "max_height": null,
            "max_width": null,
            "min_height": null,
            "min_width": null,
            "object_fit": null,
            "object_position": null,
            "order": null,
            "overflow": null,
            "overflow_x": null,
            "overflow_y": null,
            "padding": null,
            "right": null,
            "top": null,
            "visibility": null,
            "width": null
          }
        },
        "e2cc4089af6d44d99fa6f525bf5de8d1": {
          "model_module": "@jupyter-widgets/base",
          "model_name": "LayoutModel",
          "model_module_version": "1.2.0",
          "state": {
            "_model_module": "@jupyter-widgets/base",
            "_model_module_version": "1.2.0",
            "_model_name": "LayoutModel",
            "_view_count": null,
            "_view_module": "@jupyter-widgets/base",
            "_view_module_version": "1.2.0",
            "_view_name": "LayoutView",
            "align_content": null,
            "align_items": null,
            "align_self": null,
            "border": null,
            "bottom": null,
            "display": null,
            "flex": null,
            "flex_flow": null,
            "grid_area": null,
            "grid_auto_columns": null,
            "grid_auto_flow": null,
            "grid_auto_rows": null,
            "grid_column": null,
            "grid_gap": null,
            "grid_row": null,
            "grid_template_areas": null,
            "grid_template_columns": null,
            "grid_template_rows": null,
            "height": null,
            "justify_content": null,
            "justify_items": null,
            "left": null,
            "margin": null,
            "max_height": null,
            "max_width": null,
            "min_height": null,
            "min_width": null,
            "object_fit": null,
            "object_position": null,
            "order": null,
            "overflow": null,
            "overflow_x": null,
            "overflow_y": null,
            "padding": null,
            "right": null,
            "top": null,
            "visibility": null,
            "width": null
          }
        },
        "768b36b0bdbc44fd9f775aaf97f4e004": {
          "model_module": "@jupyter-widgets/controls",
          "model_name": "DescriptionStyleModel",
          "model_module_version": "1.5.0",
          "state": {
            "_model_module": "@jupyter-widgets/controls",
            "_model_module_version": "1.5.0",
            "_model_name": "DescriptionStyleModel",
            "_view_count": null,
            "_view_module": "@jupyter-widgets/base",
            "_view_module_version": "1.2.0",
            "_view_name": "StyleView",
            "description_width": ""
          }
        },
        "c7184818528744f0b362cec2857c62be": {
          "model_module": "@jupyter-widgets/base",
          "model_name": "LayoutModel",
          "model_module_version": "1.2.0",
          "state": {
            "_model_module": "@jupyter-widgets/base",
            "_model_module_version": "1.2.0",
            "_model_name": "LayoutModel",
            "_view_count": null,
            "_view_module": "@jupyter-widgets/base",
            "_view_module_version": "1.2.0",
            "_view_name": "LayoutView",
            "align_content": null,
            "align_items": null,
            "align_self": null,
            "border": null,
            "bottom": null,
            "display": null,
            "flex": null,
            "flex_flow": null,
            "grid_area": null,
            "grid_auto_columns": null,
            "grid_auto_flow": null,
            "grid_auto_rows": null,
            "grid_column": null,
            "grid_gap": null,
            "grid_row": null,
            "grid_template_areas": null,
            "grid_template_columns": null,
            "grid_template_rows": null,
            "height": null,
            "justify_content": null,
            "justify_items": null,
            "left": null,
            "margin": null,
            "max_height": null,
            "max_width": null,
            "min_height": null,
            "min_width": null,
            "object_fit": null,
            "object_position": null,
            "order": null,
            "overflow": null,
            "overflow_x": null,
            "overflow_y": null,
            "padding": null,
            "right": null,
            "top": null,
            "visibility": null,
            "width": null
          }
        },
        "e9ba97242e4f4fe5a5d587ce29b5bf54": {
          "model_module": "@jupyter-widgets/controls",
          "model_name": "ProgressStyleModel",
          "model_module_version": "1.5.0",
          "state": {
            "_model_module": "@jupyter-widgets/controls",
            "_model_module_version": "1.5.0",
            "_model_name": "ProgressStyleModel",
            "_view_count": null,
            "_view_module": "@jupyter-widgets/base",
            "_view_module_version": "1.2.0",
            "_view_name": "StyleView",
            "bar_color": null,
            "description_width": ""
          }
        },
        "cac5d42b7f634162944e806e01c8f0b4": {
          "model_module": "@jupyter-widgets/base",
          "model_name": "LayoutModel",
          "model_module_version": "1.2.0",
          "state": {
            "_model_module": "@jupyter-widgets/base",
            "_model_module_version": "1.2.0",
            "_model_name": "LayoutModel",
            "_view_count": null,
            "_view_module": "@jupyter-widgets/base",
            "_view_module_version": "1.2.0",
            "_view_name": "LayoutView",
            "align_content": null,
            "align_items": null,
            "align_self": null,
            "border": null,
            "bottom": null,
            "display": null,
            "flex": null,
            "flex_flow": null,
            "grid_area": null,
            "grid_auto_columns": null,
            "grid_auto_flow": null,
            "grid_auto_rows": null,
            "grid_column": null,
            "grid_gap": null,
            "grid_row": null,
            "grid_template_areas": null,
            "grid_template_columns": null,
            "grid_template_rows": null,
            "height": null,
            "justify_content": null,
            "justify_items": null,
            "left": null,
            "margin": null,
            "max_height": null,
            "max_width": null,
            "min_height": null,
            "min_width": null,
            "object_fit": null,
            "object_position": null,
            "order": null,
            "overflow": null,
            "overflow_x": null,
            "overflow_y": null,
            "padding": null,
            "right": null,
            "top": null,
            "visibility": null,
            "width": null
          }
        },
        "701c43567a9d43208acd08fa513dfbec": {
          "model_module": "@jupyter-widgets/controls",
          "model_name": "DescriptionStyleModel",
          "model_module_version": "1.5.0",
          "state": {
            "_model_module": "@jupyter-widgets/controls",
            "_model_module_version": "1.5.0",
            "_model_name": "DescriptionStyleModel",
            "_view_count": null,
            "_view_module": "@jupyter-widgets/base",
            "_view_module_version": "1.2.0",
            "_view_name": "StyleView",
            "description_width": ""
          }
        },
        "7871d0b03b00441ebb7cb1cfbeab44f8": {
          "model_module": "@jupyter-widgets/controls",
          "model_name": "HBoxModel",
          "model_module_version": "1.5.0",
          "state": {
            "_dom_classes": [],
            "_model_module": "@jupyter-widgets/controls",
            "_model_module_version": "1.5.0",
            "_model_name": "HBoxModel",
            "_view_count": null,
            "_view_module": "@jupyter-widgets/controls",
            "_view_module_version": "1.5.0",
            "_view_name": "HBoxView",
            "box_style": "",
            "children": [
              "IPY_MODEL_0b3418ec249f4843a1e995853bb043a6",
              "IPY_MODEL_19f7316020994042868e532c0aa2765d",
              "IPY_MODEL_6ef80ae9a883482a846b4088777b73af"
            ],
            "layout": "IPY_MODEL_67a5ae1c1dd144dd8a2bba01d0b97734"
          }
        },
        "0b3418ec249f4843a1e995853bb043a6": {
          "model_module": "@jupyter-widgets/controls",
          "model_name": "HTMLModel",
          "model_module_version": "1.5.0",
          "state": {
            "_dom_classes": [],
            "_model_module": "@jupyter-widgets/controls",
            "_model_module_version": "1.5.0",
            "_model_name": "HTMLModel",
            "_view_count": null,
            "_view_module": "@jupyter-widgets/controls",
            "_view_module_version": "1.5.0",
            "_view_name": "HTMLView",
            "description": "",
            "description_tooltip": null,
            "layout": "IPY_MODEL_95819923e5ec4d4cbf502e63f5e6dc4c",
            "placeholder": "​",
            "style": "IPY_MODEL_98735ec8ac924cb8a8bdb17fba0c43a9",
            "value": "100%"
          }
        },
        "19f7316020994042868e532c0aa2765d": {
          "model_module": "@jupyter-widgets/controls",
          "model_name": "FloatProgressModel",
          "model_module_version": "1.5.0",
          "state": {
            "_dom_classes": [],
            "_model_module": "@jupyter-widgets/controls",
            "_model_module_version": "1.5.0",
            "_model_name": "FloatProgressModel",
            "_view_count": null,
            "_view_module": "@jupyter-widgets/controls",
            "_view_module_version": "1.5.0",
            "_view_name": "ProgressView",
            "bar_style": "success",
            "description": "",
            "description_tooltip": null,
            "layout": "IPY_MODEL_f9043da2645f4b1cbae3c42c8c2d42d3",
            "max": 7,
            "min": 0,
            "orientation": "horizontal",
            "style": "IPY_MODEL_dfcc7cde754f4b47bf8b2719a2ca2b9f",
            "value": 7
          }
        },
        "6ef80ae9a883482a846b4088777b73af": {
          "model_module": "@jupyter-widgets/controls",
          "model_name": "HTMLModel",
          "model_module_version": "1.5.0",
          "state": {
            "_dom_classes": [],
            "_model_module": "@jupyter-widgets/controls",
            "_model_module_version": "1.5.0",
            "_model_name": "HTMLModel",
            "_view_count": null,
            "_view_module": "@jupyter-widgets/controls",
            "_view_module_version": "1.5.0",
            "_view_name": "HTMLView",
            "description": "",
            "description_tooltip": null,
            "layout": "IPY_MODEL_0203091886604850935be8f0425b8fca",
            "placeholder": "​",
            "style": "IPY_MODEL_5aa74a0dc3dc4f469f8a45377c69ccf5",
            "value": " 7/7 [00:03&lt;00:00,  2.24it/s]"
          }
        },
        "67a5ae1c1dd144dd8a2bba01d0b97734": {
          "model_module": "@jupyter-widgets/base",
          "model_name": "LayoutModel",
          "model_module_version": "1.2.0",
          "state": {
            "_model_module": "@jupyter-widgets/base",
            "_model_module_version": "1.2.0",
            "_model_name": "LayoutModel",
            "_view_count": null,
            "_view_module": "@jupyter-widgets/base",
            "_view_module_version": "1.2.0",
            "_view_name": "LayoutView",
            "align_content": null,
            "align_items": null,
            "align_self": null,
            "border": null,
            "bottom": null,
            "display": null,
            "flex": null,
            "flex_flow": null,
            "grid_area": null,
            "grid_auto_columns": null,
            "grid_auto_flow": null,
            "grid_auto_rows": null,
            "grid_column": null,
            "grid_gap": null,
            "grid_row": null,
            "grid_template_areas": null,
            "grid_template_columns": null,
            "grid_template_rows": null,
            "height": null,
            "justify_content": null,
            "justify_items": null,
            "left": null,
            "margin": null,
            "max_height": null,
            "max_width": null,
            "min_height": null,
            "min_width": null,
            "object_fit": null,
            "object_position": null,
            "order": null,
            "overflow": null,
            "overflow_x": null,
            "overflow_y": null,
            "padding": null,
            "right": null,
            "top": null,
            "visibility": null,
            "width": null
          }
        },
        "95819923e5ec4d4cbf502e63f5e6dc4c": {
          "model_module": "@jupyter-widgets/base",
          "model_name": "LayoutModel",
          "model_module_version": "1.2.0",
          "state": {
            "_model_module": "@jupyter-widgets/base",
            "_model_module_version": "1.2.0",
            "_model_name": "LayoutModel",
            "_view_count": null,
            "_view_module": "@jupyter-widgets/base",
            "_view_module_version": "1.2.0",
            "_view_name": "LayoutView",
            "align_content": null,
            "align_items": null,
            "align_self": null,
            "border": null,
            "bottom": null,
            "display": null,
            "flex": null,
            "flex_flow": null,
            "grid_area": null,
            "grid_auto_columns": null,
            "grid_auto_flow": null,
            "grid_auto_rows": null,
            "grid_column": null,
            "grid_gap": null,
            "grid_row": null,
            "grid_template_areas": null,
            "grid_template_columns": null,
            "grid_template_rows": null,
            "height": null,
            "justify_content": null,
            "justify_items": null,
            "left": null,
            "margin": null,
            "max_height": null,
            "max_width": null,
            "min_height": null,
            "min_width": null,
            "object_fit": null,
            "object_position": null,
            "order": null,
            "overflow": null,
            "overflow_x": null,
            "overflow_y": null,
            "padding": null,
            "right": null,
            "top": null,
            "visibility": null,
            "width": null
          }
        },
        "98735ec8ac924cb8a8bdb17fba0c43a9": {
          "model_module": "@jupyter-widgets/controls",
          "model_name": "DescriptionStyleModel",
          "model_module_version": "1.5.0",
          "state": {
            "_model_module": "@jupyter-widgets/controls",
            "_model_module_version": "1.5.0",
            "_model_name": "DescriptionStyleModel",
            "_view_count": null,
            "_view_module": "@jupyter-widgets/base",
            "_view_module_version": "1.2.0",
            "_view_name": "StyleView",
            "description_width": ""
          }
        },
        "f9043da2645f4b1cbae3c42c8c2d42d3": {
          "model_module": "@jupyter-widgets/base",
          "model_name": "LayoutModel",
          "model_module_version": "1.2.0",
          "state": {
            "_model_module": "@jupyter-widgets/base",
            "_model_module_version": "1.2.0",
            "_model_name": "LayoutModel",
            "_view_count": null,
            "_view_module": "@jupyter-widgets/base",
            "_view_module_version": "1.2.0",
            "_view_name": "LayoutView",
            "align_content": null,
            "align_items": null,
            "align_self": null,
            "border": null,
            "bottom": null,
            "display": null,
            "flex": null,
            "flex_flow": null,
            "grid_area": null,
            "grid_auto_columns": null,
            "grid_auto_flow": null,
            "grid_auto_rows": null,
            "grid_column": null,
            "grid_gap": null,
            "grid_row": null,
            "grid_template_areas": null,
            "grid_template_columns": null,
            "grid_template_rows": null,
            "height": null,
            "justify_content": null,
            "justify_items": null,
            "left": null,
            "margin": null,
            "max_height": null,
            "max_width": null,
            "min_height": null,
            "min_width": null,
            "object_fit": null,
            "object_position": null,
            "order": null,
            "overflow": null,
            "overflow_x": null,
            "overflow_y": null,
            "padding": null,
            "right": null,
            "top": null,
            "visibility": null,
            "width": null
          }
        },
        "dfcc7cde754f4b47bf8b2719a2ca2b9f": {
          "model_module": "@jupyter-widgets/controls",
          "model_name": "ProgressStyleModel",
          "model_module_version": "1.5.0",
          "state": {
            "_model_module": "@jupyter-widgets/controls",
            "_model_module_version": "1.5.0",
            "_model_name": "ProgressStyleModel",
            "_view_count": null,
            "_view_module": "@jupyter-widgets/base",
            "_view_module_version": "1.2.0",
            "_view_name": "StyleView",
            "bar_color": null,
            "description_width": ""
          }
        },
        "0203091886604850935be8f0425b8fca": {
          "model_module": "@jupyter-widgets/base",
          "model_name": "LayoutModel",
          "model_module_version": "1.2.0",
          "state": {
            "_model_module": "@jupyter-widgets/base",
            "_model_module_version": "1.2.0",
            "_model_name": "LayoutModel",
            "_view_count": null,
            "_view_module": "@jupyter-widgets/base",
            "_view_module_version": "1.2.0",
            "_view_name": "LayoutView",
            "align_content": null,
            "align_items": null,
            "align_self": null,
            "border": null,
            "bottom": null,
            "display": null,
            "flex": null,
            "flex_flow": null,
            "grid_area": null,
            "grid_auto_columns": null,
            "grid_auto_flow": null,
            "grid_auto_rows": null,
            "grid_column": null,
            "grid_gap": null,
            "grid_row": null,
            "grid_template_areas": null,
            "grid_template_columns": null,
            "grid_template_rows": null,
            "height": null,
            "justify_content": null,
            "justify_items": null,
            "left": null,
            "margin": null,
            "max_height": null,
            "max_width": null,
            "min_height": null,
            "min_width": null,
            "object_fit": null,
            "object_position": null,
            "order": null,
            "overflow": null,
            "overflow_x": null,
            "overflow_y": null,
            "padding": null,
            "right": null,
            "top": null,
            "visibility": null,
            "width": null
          }
        },
        "5aa74a0dc3dc4f469f8a45377c69ccf5": {
          "model_module": "@jupyter-widgets/controls",
          "model_name": "DescriptionStyleModel",
          "model_module_version": "1.5.0",
          "state": {
            "_model_module": "@jupyter-widgets/controls",
            "_model_module_version": "1.5.0",
            "_model_name": "DescriptionStyleModel",
            "_view_count": null,
            "_view_module": "@jupyter-widgets/base",
            "_view_module_version": "1.2.0",
            "_view_name": "StyleView",
            "description_width": ""
          }
        },
        "1e2d7185d4994db2ad669c82a6d934d8": {
          "model_module": "@jupyter-widgets/controls",
          "model_name": "HBoxModel",
          "model_module_version": "1.5.0",
          "state": {
            "_dom_classes": [],
            "_model_module": "@jupyter-widgets/controls",
            "_model_module_version": "1.5.0",
            "_model_name": "HBoxModel",
            "_view_count": null,
            "_view_module": "@jupyter-widgets/controls",
            "_view_module_version": "1.5.0",
            "_view_name": "HBoxView",
            "box_style": "",
            "children": [
              "IPY_MODEL_6efda68585d64c109e5f7415146f042e",
              "IPY_MODEL_c7386376156b4fe6af98fcf0d91cef34",
              "IPY_MODEL_3873295cb53e4b6880bc72d48fc937cb"
            ],
            "layout": "IPY_MODEL_4cf7c364391a484d910fffb092326d9c"
          }
        },
        "6efda68585d64c109e5f7415146f042e": {
          "model_module": "@jupyter-widgets/controls",
          "model_name": "HTMLModel",
          "model_module_version": "1.5.0",
          "state": {
            "_dom_classes": [],
            "_model_module": "@jupyter-widgets/controls",
            "_model_module_version": "1.5.0",
            "_model_name": "HTMLModel",
            "_view_count": null,
            "_view_module": "@jupyter-widgets/controls",
            "_view_module_version": "1.5.0",
            "_view_name": "HTMLView",
            "description": "",
            "description_tooltip": null,
            "layout": "IPY_MODEL_c8e11e9d185e4829bb14651f0207f6f2",
            "placeholder": "​",
            "style": "IPY_MODEL_9a4ab633f9af4f01940e37fb51a77abc",
            "value": "100%"
          }
        },
        "c7386376156b4fe6af98fcf0d91cef34": {
          "model_module": "@jupyter-widgets/controls",
          "model_name": "FloatProgressModel",
          "model_module_version": "1.5.0",
          "state": {
            "_dom_classes": [],
            "_model_module": "@jupyter-widgets/controls",
            "_model_module_version": "1.5.0",
            "_model_name": "FloatProgressModel",
            "_view_count": null,
            "_view_module": "@jupyter-widgets/controls",
            "_view_module_version": "1.5.0",
            "_view_name": "ProgressView",
            "bar_style": "success",
            "description": "",
            "description_tooltip": null,
            "layout": "IPY_MODEL_e47eb15cc78945b280e95b445fca0f71",
            "max": 7,
            "min": 0,
            "orientation": "horizontal",
            "style": "IPY_MODEL_c389e1d9dd424cefabd9ce72d3a6040b",
            "value": 7
          }
        },
        "3873295cb53e4b6880bc72d48fc937cb": {
          "model_module": "@jupyter-widgets/controls",
          "model_name": "HTMLModel",
          "model_module_version": "1.5.0",
          "state": {
            "_dom_classes": [],
            "_model_module": "@jupyter-widgets/controls",
            "_model_module_version": "1.5.0",
            "_model_name": "HTMLModel",
            "_view_count": null,
            "_view_module": "@jupyter-widgets/controls",
            "_view_module_version": "1.5.0",
            "_view_name": "HTMLView",
            "description": "",
            "description_tooltip": null,
            "layout": "IPY_MODEL_dbeedea979964026980267949d518168",
            "placeholder": "​",
            "style": "IPY_MODEL_37ff3da09add4a8cb620cd82223c2d29",
            "value": " 7/7 [00:03&lt;00:00,  2.14it/s]"
          }
        },
        "4cf7c364391a484d910fffb092326d9c": {
          "model_module": "@jupyter-widgets/base",
          "model_name": "LayoutModel",
          "model_module_version": "1.2.0",
          "state": {
            "_model_module": "@jupyter-widgets/base",
            "_model_module_version": "1.2.0",
            "_model_name": "LayoutModel",
            "_view_count": null,
            "_view_module": "@jupyter-widgets/base",
            "_view_module_version": "1.2.0",
            "_view_name": "LayoutView",
            "align_content": null,
            "align_items": null,
            "align_self": null,
            "border": null,
            "bottom": null,
            "display": null,
            "flex": null,
            "flex_flow": null,
            "grid_area": null,
            "grid_auto_columns": null,
            "grid_auto_flow": null,
            "grid_auto_rows": null,
            "grid_column": null,
            "grid_gap": null,
            "grid_row": null,
            "grid_template_areas": null,
            "grid_template_columns": null,
            "grid_template_rows": null,
            "height": null,
            "justify_content": null,
            "justify_items": null,
            "left": null,
            "margin": null,
            "max_height": null,
            "max_width": null,
            "min_height": null,
            "min_width": null,
            "object_fit": null,
            "object_position": null,
            "order": null,
            "overflow": null,
            "overflow_x": null,
            "overflow_y": null,
            "padding": null,
            "right": null,
            "top": null,
            "visibility": null,
            "width": null
          }
        },
        "c8e11e9d185e4829bb14651f0207f6f2": {
          "model_module": "@jupyter-widgets/base",
          "model_name": "LayoutModel",
          "model_module_version": "1.2.0",
          "state": {
            "_model_module": "@jupyter-widgets/base",
            "_model_module_version": "1.2.0",
            "_model_name": "LayoutModel",
            "_view_count": null,
            "_view_module": "@jupyter-widgets/base",
            "_view_module_version": "1.2.0",
            "_view_name": "LayoutView",
            "align_content": null,
            "align_items": null,
            "align_self": null,
            "border": null,
            "bottom": null,
            "display": null,
            "flex": null,
            "flex_flow": null,
            "grid_area": null,
            "grid_auto_columns": null,
            "grid_auto_flow": null,
            "grid_auto_rows": null,
            "grid_column": null,
            "grid_gap": null,
            "grid_row": null,
            "grid_template_areas": null,
            "grid_template_columns": null,
            "grid_template_rows": null,
            "height": null,
            "justify_content": null,
            "justify_items": null,
            "left": null,
            "margin": null,
            "max_height": null,
            "max_width": null,
            "min_height": null,
            "min_width": null,
            "object_fit": null,
            "object_position": null,
            "order": null,
            "overflow": null,
            "overflow_x": null,
            "overflow_y": null,
            "padding": null,
            "right": null,
            "top": null,
            "visibility": null,
            "width": null
          }
        },
        "9a4ab633f9af4f01940e37fb51a77abc": {
          "model_module": "@jupyter-widgets/controls",
          "model_name": "DescriptionStyleModel",
          "model_module_version": "1.5.0",
          "state": {
            "_model_module": "@jupyter-widgets/controls",
            "_model_module_version": "1.5.0",
            "_model_name": "DescriptionStyleModel",
            "_view_count": null,
            "_view_module": "@jupyter-widgets/base",
            "_view_module_version": "1.2.0",
            "_view_name": "StyleView",
            "description_width": ""
          }
        },
        "e47eb15cc78945b280e95b445fca0f71": {
          "model_module": "@jupyter-widgets/base",
          "model_name": "LayoutModel",
          "model_module_version": "1.2.0",
          "state": {
            "_model_module": "@jupyter-widgets/base",
            "_model_module_version": "1.2.0",
            "_model_name": "LayoutModel",
            "_view_count": null,
            "_view_module": "@jupyter-widgets/base",
            "_view_module_version": "1.2.0",
            "_view_name": "LayoutView",
            "align_content": null,
            "align_items": null,
            "align_self": null,
            "border": null,
            "bottom": null,
            "display": null,
            "flex": null,
            "flex_flow": null,
            "grid_area": null,
            "grid_auto_columns": null,
            "grid_auto_flow": null,
            "grid_auto_rows": null,
            "grid_column": null,
            "grid_gap": null,
            "grid_row": null,
            "grid_template_areas": null,
            "grid_template_columns": null,
            "grid_template_rows": null,
            "height": null,
            "justify_content": null,
            "justify_items": null,
            "left": null,
            "margin": null,
            "max_height": null,
            "max_width": null,
            "min_height": null,
            "min_width": null,
            "object_fit": null,
            "object_position": null,
            "order": null,
            "overflow": null,
            "overflow_x": null,
            "overflow_y": null,
            "padding": null,
            "right": null,
            "top": null,
            "visibility": null,
            "width": null
          }
        },
        "c389e1d9dd424cefabd9ce72d3a6040b": {
          "model_module": "@jupyter-widgets/controls",
          "model_name": "ProgressStyleModel",
          "model_module_version": "1.5.0",
          "state": {
            "_model_module": "@jupyter-widgets/controls",
            "_model_module_version": "1.5.0",
            "_model_name": "ProgressStyleModel",
            "_view_count": null,
            "_view_module": "@jupyter-widgets/base",
            "_view_module_version": "1.2.0",
            "_view_name": "StyleView",
            "bar_color": null,
            "description_width": ""
          }
        },
        "dbeedea979964026980267949d518168": {
          "model_module": "@jupyter-widgets/base",
          "model_name": "LayoutModel",
          "model_module_version": "1.2.0",
          "state": {
            "_model_module": "@jupyter-widgets/base",
            "_model_module_version": "1.2.0",
            "_model_name": "LayoutModel",
            "_view_count": null,
            "_view_module": "@jupyter-widgets/base",
            "_view_module_version": "1.2.0",
            "_view_name": "LayoutView",
            "align_content": null,
            "align_items": null,
            "align_self": null,
            "border": null,
            "bottom": null,
            "display": null,
            "flex": null,
            "flex_flow": null,
            "grid_area": null,
            "grid_auto_columns": null,
            "grid_auto_flow": null,
            "grid_auto_rows": null,
            "grid_column": null,
            "grid_gap": null,
            "grid_row": null,
            "grid_template_areas": null,
            "grid_template_columns": null,
            "grid_template_rows": null,
            "height": null,
            "justify_content": null,
            "justify_items": null,
            "left": null,
            "margin": null,
            "max_height": null,
            "max_width": null,
            "min_height": null,
            "min_width": null,
            "object_fit": null,
            "object_position": null,
            "order": null,
            "overflow": null,
            "overflow_x": null,
            "overflow_y": null,
            "padding": null,
            "right": null,
            "top": null,
            "visibility": null,
            "width": null
          }
        },
        "37ff3da09add4a8cb620cd82223c2d29": {
          "model_module": "@jupyter-widgets/controls",
          "model_name": "DescriptionStyleModel",
          "model_module_version": "1.5.0",
          "state": {
            "_model_module": "@jupyter-widgets/controls",
            "_model_module_version": "1.5.0",
            "_model_name": "DescriptionStyleModel",
            "_view_count": null,
            "_view_module": "@jupyter-widgets/base",
            "_view_module_version": "1.2.0",
            "_view_name": "StyleView",
            "description_width": ""
          }
        },
        "1a21591ca481462881c17ae9c5dabb2a": {
          "model_module": "@jupyter-widgets/controls",
          "model_name": "HBoxModel",
          "model_module_version": "1.5.0",
          "state": {
            "_dom_classes": [],
            "_model_module": "@jupyter-widgets/controls",
            "_model_module_version": "1.5.0",
            "_model_name": "HBoxModel",
            "_view_count": null,
            "_view_module": "@jupyter-widgets/controls",
            "_view_module_version": "1.5.0",
            "_view_name": "HBoxView",
            "box_style": "",
            "children": [
              "IPY_MODEL_f4ca5ff95dd84976b58f5a69a91ead17",
              "IPY_MODEL_db812184b9fb451895a21b523025a3c8",
              "IPY_MODEL_dcc96af24e694fc0bc32e08a344998f9"
            ],
            "layout": "IPY_MODEL_1807b993352f49f0a9fdf6c58481a903"
          }
        },
        "f4ca5ff95dd84976b58f5a69a91ead17": {
          "model_module": "@jupyter-widgets/controls",
          "model_name": "HTMLModel",
          "model_module_version": "1.5.0",
          "state": {
            "_dom_classes": [],
            "_model_module": "@jupyter-widgets/controls",
            "_model_module_version": "1.5.0",
            "_model_name": "HTMLModel",
            "_view_count": null,
            "_view_module": "@jupyter-widgets/controls",
            "_view_module_version": "1.5.0",
            "_view_name": "HTMLView",
            "description": "",
            "description_tooltip": null,
            "layout": "IPY_MODEL_f96672d6619e4e0ea51e5d8e79d438e5",
            "placeholder": "​",
            "style": "IPY_MODEL_8efc0f826129407ea9d641c2b49812a8",
            "value": "100%"
          }
        },
        "db812184b9fb451895a21b523025a3c8": {
          "model_module": "@jupyter-widgets/controls",
          "model_name": "FloatProgressModel",
          "model_module_version": "1.5.0",
          "state": {
            "_dom_classes": [],
            "_model_module": "@jupyter-widgets/controls",
            "_model_module_version": "1.5.0",
            "_model_name": "FloatProgressModel",
            "_view_count": null,
            "_view_module": "@jupyter-widgets/controls",
            "_view_module_version": "1.5.0",
            "_view_name": "ProgressView",
            "bar_style": "success",
            "description": "",
            "description_tooltip": null,
            "layout": "IPY_MODEL_6a8b79b31c9c4f8d8bcbc20b858906c7",
            "max": 7,
            "min": 0,
            "orientation": "horizontal",
            "style": "IPY_MODEL_19de5d21459a4ccabde677aa148bfae8",
            "value": 7
          }
        },
        "dcc96af24e694fc0bc32e08a344998f9": {
          "model_module": "@jupyter-widgets/controls",
          "model_name": "HTMLModel",
          "model_module_version": "1.5.0",
          "state": {
            "_dom_classes": [],
            "_model_module": "@jupyter-widgets/controls",
            "_model_module_version": "1.5.0",
            "_model_name": "HTMLModel",
            "_view_count": null,
            "_view_module": "@jupyter-widgets/controls",
            "_view_module_version": "1.5.0",
            "_view_name": "HTMLView",
            "description": "",
            "description_tooltip": null,
            "layout": "IPY_MODEL_e51859e8e827417b93ff9ce85599c051",
            "placeholder": "​",
            "style": "IPY_MODEL_1753fda0b6c04302ba7c1123a01abf6d",
            "value": " 7/7 [00:03&lt;00:00,  2.14it/s]"
          }
        },
        "1807b993352f49f0a9fdf6c58481a903": {
          "model_module": "@jupyter-widgets/base",
          "model_name": "LayoutModel",
          "model_module_version": "1.2.0",
          "state": {
            "_model_module": "@jupyter-widgets/base",
            "_model_module_version": "1.2.0",
            "_model_name": "LayoutModel",
            "_view_count": null,
            "_view_module": "@jupyter-widgets/base",
            "_view_module_version": "1.2.0",
            "_view_name": "LayoutView",
            "align_content": null,
            "align_items": null,
            "align_self": null,
            "border": null,
            "bottom": null,
            "display": null,
            "flex": null,
            "flex_flow": null,
            "grid_area": null,
            "grid_auto_columns": null,
            "grid_auto_flow": null,
            "grid_auto_rows": null,
            "grid_column": null,
            "grid_gap": null,
            "grid_row": null,
            "grid_template_areas": null,
            "grid_template_columns": null,
            "grid_template_rows": null,
            "height": null,
            "justify_content": null,
            "justify_items": null,
            "left": null,
            "margin": null,
            "max_height": null,
            "max_width": null,
            "min_height": null,
            "min_width": null,
            "object_fit": null,
            "object_position": null,
            "order": null,
            "overflow": null,
            "overflow_x": null,
            "overflow_y": null,
            "padding": null,
            "right": null,
            "top": null,
            "visibility": null,
            "width": null
          }
        },
        "f96672d6619e4e0ea51e5d8e79d438e5": {
          "model_module": "@jupyter-widgets/base",
          "model_name": "LayoutModel",
          "model_module_version": "1.2.0",
          "state": {
            "_model_module": "@jupyter-widgets/base",
            "_model_module_version": "1.2.0",
            "_model_name": "LayoutModel",
            "_view_count": null,
            "_view_module": "@jupyter-widgets/base",
            "_view_module_version": "1.2.0",
            "_view_name": "LayoutView",
            "align_content": null,
            "align_items": null,
            "align_self": null,
            "border": null,
            "bottom": null,
            "display": null,
            "flex": null,
            "flex_flow": null,
            "grid_area": null,
            "grid_auto_columns": null,
            "grid_auto_flow": null,
            "grid_auto_rows": null,
            "grid_column": null,
            "grid_gap": null,
            "grid_row": null,
            "grid_template_areas": null,
            "grid_template_columns": null,
            "grid_template_rows": null,
            "height": null,
            "justify_content": null,
            "justify_items": null,
            "left": null,
            "margin": null,
            "max_height": null,
            "max_width": null,
            "min_height": null,
            "min_width": null,
            "object_fit": null,
            "object_position": null,
            "order": null,
            "overflow": null,
            "overflow_x": null,
            "overflow_y": null,
            "padding": null,
            "right": null,
            "top": null,
            "visibility": null,
            "width": null
          }
        },
        "8efc0f826129407ea9d641c2b49812a8": {
          "model_module": "@jupyter-widgets/controls",
          "model_name": "DescriptionStyleModel",
          "model_module_version": "1.5.0",
          "state": {
            "_model_module": "@jupyter-widgets/controls",
            "_model_module_version": "1.5.0",
            "_model_name": "DescriptionStyleModel",
            "_view_count": null,
            "_view_module": "@jupyter-widgets/base",
            "_view_module_version": "1.2.0",
            "_view_name": "StyleView",
            "description_width": ""
          }
        },
        "6a8b79b31c9c4f8d8bcbc20b858906c7": {
          "model_module": "@jupyter-widgets/base",
          "model_name": "LayoutModel",
          "model_module_version": "1.2.0",
          "state": {
            "_model_module": "@jupyter-widgets/base",
            "_model_module_version": "1.2.0",
            "_model_name": "LayoutModel",
            "_view_count": null,
            "_view_module": "@jupyter-widgets/base",
            "_view_module_version": "1.2.0",
            "_view_name": "LayoutView",
            "align_content": null,
            "align_items": null,
            "align_self": null,
            "border": null,
            "bottom": null,
            "display": null,
            "flex": null,
            "flex_flow": null,
            "grid_area": null,
            "grid_auto_columns": null,
            "grid_auto_flow": null,
            "grid_auto_rows": null,
            "grid_column": null,
            "grid_gap": null,
            "grid_row": null,
            "grid_template_areas": null,
            "grid_template_columns": null,
            "grid_template_rows": null,
            "height": null,
            "justify_content": null,
            "justify_items": null,
            "left": null,
            "margin": null,
            "max_height": null,
            "max_width": null,
            "min_height": null,
            "min_width": null,
            "object_fit": null,
            "object_position": null,
            "order": null,
            "overflow": null,
            "overflow_x": null,
            "overflow_y": null,
            "padding": null,
            "right": null,
            "top": null,
            "visibility": null,
            "width": null
          }
        },
        "19de5d21459a4ccabde677aa148bfae8": {
          "model_module": "@jupyter-widgets/controls",
          "model_name": "ProgressStyleModel",
          "model_module_version": "1.5.0",
          "state": {
            "_model_module": "@jupyter-widgets/controls",
            "_model_module_version": "1.5.0",
            "_model_name": "ProgressStyleModel",
            "_view_count": null,
            "_view_module": "@jupyter-widgets/base",
            "_view_module_version": "1.2.0",
            "_view_name": "StyleView",
            "bar_color": null,
            "description_width": ""
          }
        },
        "e51859e8e827417b93ff9ce85599c051": {
          "model_module": "@jupyter-widgets/base",
          "model_name": "LayoutModel",
          "model_module_version": "1.2.0",
          "state": {
            "_model_module": "@jupyter-widgets/base",
            "_model_module_version": "1.2.0",
            "_model_name": "LayoutModel",
            "_view_count": null,
            "_view_module": "@jupyter-widgets/base",
            "_view_module_version": "1.2.0",
            "_view_name": "LayoutView",
            "align_content": null,
            "align_items": null,
            "align_self": null,
            "border": null,
            "bottom": null,
            "display": null,
            "flex": null,
            "flex_flow": null,
            "grid_area": null,
            "grid_auto_columns": null,
            "grid_auto_flow": null,
            "grid_auto_rows": null,
            "grid_column": null,
            "grid_gap": null,
            "grid_row": null,
            "grid_template_areas": null,
            "grid_template_columns": null,
            "grid_template_rows": null,
            "height": null,
            "justify_content": null,
            "justify_items": null,
            "left": null,
            "margin": null,
            "max_height": null,
            "max_width": null,
            "min_height": null,
            "min_width": null,
            "object_fit": null,
            "object_position": null,
            "order": null,
            "overflow": null,
            "overflow_x": null,
            "overflow_y": null,
            "padding": null,
            "right": null,
            "top": null,
            "visibility": null,
            "width": null
          }
        },
        "1753fda0b6c04302ba7c1123a01abf6d": {
          "model_module": "@jupyter-widgets/controls",
          "model_name": "DescriptionStyleModel",
          "model_module_version": "1.5.0",
          "state": {
            "_model_module": "@jupyter-widgets/controls",
            "_model_module_version": "1.5.0",
            "_model_name": "DescriptionStyleModel",
            "_view_count": null,
            "_view_module": "@jupyter-widgets/base",
            "_view_module_version": "1.2.0",
            "_view_name": "StyleView",
            "description_width": ""
          }
        },
        "bdaf757bc4ea42eda21a255ebe343e89": {
          "model_module": "@jupyter-widgets/controls",
          "model_name": "HBoxModel",
          "model_module_version": "1.5.0",
          "state": {
            "_dom_classes": [],
            "_model_module": "@jupyter-widgets/controls",
            "_model_module_version": "1.5.0",
            "_model_name": "HBoxModel",
            "_view_count": null,
            "_view_module": "@jupyter-widgets/controls",
            "_view_module_version": "1.5.0",
            "_view_name": "HBoxView",
            "box_style": "",
            "children": [
              "IPY_MODEL_ac2bc163f4fb4a71b370fba1f7b2869d",
              "IPY_MODEL_14864055c9604e149fe11a5726b140ad",
              "IPY_MODEL_6c34557fbbaa4fee9795c895b6b26c9f"
            ],
            "layout": "IPY_MODEL_9b7ba4609ed94c868b3215c02269336b"
          }
        },
        "ac2bc163f4fb4a71b370fba1f7b2869d": {
          "model_module": "@jupyter-widgets/controls",
          "model_name": "HTMLModel",
          "model_module_version": "1.5.0",
          "state": {
            "_dom_classes": [],
            "_model_module": "@jupyter-widgets/controls",
            "_model_module_version": "1.5.0",
            "_model_name": "HTMLModel",
            "_view_count": null,
            "_view_module": "@jupyter-widgets/controls",
            "_view_module_version": "1.5.0",
            "_view_name": "HTMLView",
            "description": "",
            "description_tooltip": null,
            "layout": "IPY_MODEL_3e776cd644cb4d95864f5b633bab8fb5",
            "placeholder": "​",
            "style": "IPY_MODEL_dba8f748aaf849f0a0489759b25e7c60",
            "value": "100%"
          }
        },
        "14864055c9604e149fe11a5726b140ad": {
          "model_module": "@jupyter-widgets/controls",
          "model_name": "FloatProgressModel",
          "model_module_version": "1.5.0",
          "state": {
            "_dom_classes": [],
            "_model_module": "@jupyter-widgets/controls",
            "_model_module_version": "1.5.0",
            "_model_name": "FloatProgressModel",
            "_view_count": null,
            "_view_module": "@jupyter-widgets/controls",
            "_view_module_version": "1.5.0",
            "_view_name": "ProgressView",
            "bar_style": "success",
            "description": "",
            "description_tooltip": null,
            "layout": "IPY_MODEL_2acd60deaa234204b5ef1c574a07e472",
            "max": 7,
            "min": 0,
            "orientation": "horizontal",
            "style": "IPY_MODEL_8d0e8d74c9ee4abe9d15f73dcfcd7487",
            "value": 7
          }
        },
        "6c34557fbbaa4fee9795c895b6b26c9f": {
          "model_module": "@jupyter-widgets/controls",
          "model_name": "HTMLModel",
          "model_module_version": "1.5.0",
          "state": {
            "_dom_classes": [],
            "_model_module": "@jupyter-widgets/controls",
            "_model_module_version": "1.5.0",
            "_model_name": "HTMLModel",
            "_view_count": null,
            "_view_module": "@jupyter-widgets/controls",
            "_view_module_version": "1.5.0",
            "_view_name": "HTMLView",
            "description": "",
            "description_tooltip": null,
            "layout": "IPY_MODEL_8abcb417e117400ea696b816a59fa26c",
            "placeholder": "​",
            "style": "IPY_MODEL_c46b57d3378e423caf64445310acc4f7",
            "value": " 7/7 [00:03&lt;00:00,  2.22it/s]"
          }
        },
        "9b7ba4609ed94c868b3215c02269336b": {
          "model_module": "@jupyter-widgets/base",
          "model_name": "LayoutModel",
          "model_module_version": "1.2.0",
          "state": {
            "_model_module": "@jupyter-widgets/base",
            "_model_module_version": "1.2.0",
            "_model_name": "LayoutModel",
            "_view_count": null,
            "_view_module": "@jupyter-widgets/base",
            "_view_module_version": "1.2.0",
            "_view_name": "LayoutView",
            "align_content": null,
            "align_items": null,
            "align_self": null,
            "border": null,
            "bottom": null,
            "display": null,
            "flex": null,
            "flex_flow": null,
            "grid_area": null,
            "grid_auto_columns": null,
            "grid_auto_flow": null,
            "grid_auto_rows": null,
            "grid_column": null,
            "grid_gap": null,
            "grid_row": null,
            "grid_template_areas": null,
            "grid_template_columns": null,
            "grid_template_rows": null,
            "height": null,
            "justify_content": null,
            "justify_items": null,
            "left": null,
            "margin": null,
            "max_height": null,
            "max_width": null,
            "min_height": null,
            "min_width": null,
            "object_fit": null,
            "object_position": null,
            "order": null,
            "overflow": null,
            "overflow_x": null,
            "overflow_y": null,
            "padding": null,
            "right": null,
            "top": null,
            "visibility": null,
            "width": null
          }
        },
        "3e776cd644cb4d95864f5b633bab8fb5": {
          "model_module": "@jupyter-widgets/base",
          "model_name": "LayoutModel",
          "model_module_version": "1.2.0",
          "state": {
            "_model_module": "@jupyter-widgets/base",
            "_model_module_version": "1.2.0",
            "_model_name": "LayoutModel",
            "_view_count": null,
            "_view_module": "@jupyter-widgets/base",
            "_view_module_version": "1.2.0",
            "_view_name": "LayoutView",
            "align_content": null,
            "align_items": null,
            "align_self": null,
            "border": null,
            "bottom": null,
            "display": null,
            "flex": null,
            "flex_flow": null,
            "grid_area": null,
            "grid_auto_columns": null,
            "grid_auto_flow": null,
            "grid_auto_rows": null,
            "grid_column": null,
            "grid_gap": null,
            "grid_row": null,
            "grid_template_areas": null,
            "grid_template_columns": null,
            "grid_template_rows": null,
            "height": null,
            "justify_content": null,
            "justify_items": null,
            "left": null,
            "margin": null,
            "max_height": null,
            "max_width": null,
            "min_height": null,
            "min_width": null,
            "object_fit": null,
            "object_position": null,
            "order": null,
            "overflow": null,
            "overflow_x": null,
            "overflow_y": null,
            "padding": null,
            "right": null,
            "top": null,
            "visibility": null,
            "width": null
          }
        },
        "dba8f748aaf849f0a0489759b25e7c60": {
          "model_module": "@jupyter-widgets/controls",
          "model_name": "DescriptionStyleModel",
          "model_module_version": "1.5.0",
          "state": {
            "_model_module": "@jupyter-widgets/controls",
            "_model_module_version": "1.5.0",
            "_model_name": "DescriptionStyleModel",
            "_view_count": null,
            "_view_module": "@jupyter-widgets/base",
            "_view_module_version": "1.2.0",
            "_view_name": "StyleView",
            "description_width": ""
          }
        },
        "2acd60deaa234204b5ef1c574a07e472": {
          "model_module": "@jupyter-widgets/base",
          "model_name": "LayoutModel",
          "model_module_version": "1.2.0",
          "state": {
            "_model_module": "@jupyter-widgets/base",
            "_model_module_version": "1.2.0",
            "_model_name": "LayoutModel",
            "_view_count": null,
            "_view_module": "@jupyter-widgets/base",
            "_view_module_version": "1.2.0",
            "_view_name": "LayoutView",
            "align_content": null,
            "align_items": null,
            "align_self": null,
            "border": null,
            "bottom": null,
            "display": null,
            "flex": null,
            "flex_flow": null,
            "grid_area": null,
            "grid_auto_columns": null,
            "grid_auto_flow": null,
            "grid_auto_rows": null,
            "grid_column": null,
            "grid_gap": null,
            "grid_row": null,
            "grid_template_areas": null,
            "grid_template_columns": null,
            "grid_template_rows": null,
            "height": null,
            "justify_content": null,
            "justify_items": null,
            "left": null,
            "margin": null,
            "max_height": null,
            "max_width": null,
            "min_height": null,
            "min_width": null,
            "object_fit": null,
            "object_position": null,
            "order": null,
            "overflow": null,
            "overflow_x": null,
            "overflow_y": null,
            "padding": null,
            "right": null,
            "top": null,
            "visibility": null,
            "width": null
          }
        },
        "8d0e8d74c9ee4abe9d15f73dcfcd7487": {
          "model_module": "@jupyter-widgets/controls",
          "model_name": "ProgressStyleModel",
          "model_module_version": "1.5.0",
          "state": {
            "_model_module": "@jupyter-widgets/controls",
            "_model_module_version": "1.5.0",
            "_model_name": "ProgressStyleModel",
            "_view_count": null,
            "_view_module": "@jupyter-widgets/base",
            "_view_module_version": "1.2.0",
            "_view_name": "StyleView",
            "bar_color": null,
            "description_width": ""
          }
        },
        "8abcb417e117400ea696b816a59fa26c": {
          "model_module": "@jupyter-widgets/base",
          "model_name": "LayoutModel",
          "model_module_version": "1.2.0",
          "state": {
            "_model_module": "@jupyter-widgets/base",
            "_model_module_version": "1.2.0",
            "_model_name": "LayoutModel",
            "_view_count": null,
            "_view_module": "@jupyter-widgets/base",
            "_view_module_version": "1.2.0",
            "_view_name": "LayoutView",
            "align_content": null,
            "align_items": null,
            "align_self": null,
            "border": null,
            "bottom": null,
            "display": null,
            "flex": null,
            "flex_flow": null,
            "grid_area": null,
            "grid_auto_columns": null,
            "grid_auto_flow": null,
            "grid_auto_rows": null,
            "grid_column": null,
            "grid_gap": null,
            "grid_row": null,
            "grid_template_areas": null,
            "grid_template_columns": null,
            "grid_template_rows": null,
            "height": null,
            "justify_content": null,
            "justify_items": null,
            "left": null,
            "margin": null,
            "max_height": null,
            "max_width": null,
            "min_height": null,
            "min_width": null,
            "object_fit": null,
            "object_position": null,
            "order": null,
            "overflow": null,
            "overflow_x": null,
            "overflow_y": null,
            "padding": null,
            "right": null,
            "top": null,
            "visibility": null,
            "width": null
          }
        },
        "c46b57d3378e423caf64445310acc4f7": {
          "model_module": "@jupyter-widgets/controls",
          "model_name": "DescriptionStyleModel",
          "model_module_version": "1.5.0",
          "state": {
            "_model_module": "@jupyter-widgets/controls",
            "_model_module_version": "1.5.0",
            "_model_name": "DescriptionStyleModel",
            "_view_count": null,
            "_view_module": "@jupyter-widgets/base",
            "_view_module_version": "1.2.0",
            "_view_name": "StyleView",
            "description_width": ""
          }
        },
        "ca6d60587e8f4f7aaadf2f943a914b55": {
          "model_module": "@jupyter-widgets/controls",
          "model_name": "HBoxModel",
          "model_module_version": "1.5.0",
          "state": {
            "_dom_classes": [],
            "_model_module": "@jupyter-widgets/controls",
            "_model_module_version": "1.5.0",
            "_model_name": "HBoxModel",
            "_view_count": null,
            "_view_module": "@jupyter-widgets/controls",
            "_view_module_version": "1.5.0",
            "_view_name": "HBoxView",
            "box_style": "",
            "children": [
              "IPY_MODEL_f0314e2472bb4c95b869ab14f34223d8",
              "IPY_MODEL_439c99b6be5c4e4d91871cb9e3426e85",
              "IPY_MODEL_3f72ce6ae0b543dea4ac29986728a641"
            ],
            "layout": "IPY_MODEL_7a2337cecad047f59087fd768b9fe06c"
          }
        },
        "f0314e2472bb4c95b869ab14f34223d8": {
          "model_module": "@jupyter-widgets/controls",
          "model_name": "HTMLModel",
          "model_module_version": "1.5.0",
          "state": {
            "_dom_classes": [],
            "_model_module": "@jupyter-widgets/controls",
            "_model_module_version": "1.5.0",
            "_model_name": "HTMLModel",
            "_view_count": null,
            "_view_module": "@jupyter-widgets/controls",
            "_view_module_version": "1.5.0",
            "_view_name": "HTMLView",
            "description": "",
            "description_tooltip": null,
            "layout": "IPY_MODEL_6a927103f9a84e6da369aed8b3777272",
            "placeholder": "​",
            "style": "IPY_MODEL_1a49faa916e6488ba251a57a068340d8",
            "value": "100%"
          }
        },
        "439c99b6be5c4e4d91871cb9e3426e85": {
          "model_module": "@jupyter-widgets/controls",
          "model_name": "FloatProgressModel",
          "model_module_version": "1.5.0",
          "state": {
            "_dom_classes": [],
            "_model_module": "@jupyter-widgets/controls",
            "_model_module_version": "1.5.0",
            "_model_name": "FloatProgressModel",
            "_view_count": null,
            "_view_module": "@jupyter-widgets/controls",
            "_view_module_version": "1.5.0",
            "_view_name": "ProgressView",
            "bar_style": "success",
            "description": "",
            "description_tooltip": null,
            "layout": "IPY_MODEL_47f4891343bb4525842abbcbe9443770",
            "max": 7,
            "min": 0,
            "orientation": "horizontal",
            "style": "IPY_MODEL_df06c1395dc448d38cca3196645e875f",
            "value": 7
          }
        },
        "3f72ce6ae0b543dea4ac29986728a641": {
          "model_module": "@jupyter-widgets/controls",
          "model_name": "HTMLModel",
          "model_module_version": "1.5.0",
          "state": {
            "_dom_classes": [],
            "_model_module": "@jupyter-widgets/controls",
            "_model_module_version": "1.5.0",
            "_model_name": "HTMLModel",
            "_view_count": null,
            "_view_module": "@jupyter-widgets/controls",
            "_view_module_version": "1.5.0",
            "_view_name": "HTMLView",
            "description": "",
            "description_tooltip": null,
            "layout": "IPY_MODEL_909aa64bec5f482894ffc3578f462efd",
            "placeholder": "​",
            "style": "IPY_MODEL_e224538836b548f9ac77923472931285",
            "value": " 7/7 [00:03&lt;00:00,  2.19it/s]"
          }
        },
        "7a2337cecad047f59087fd768b9fe06c": {
          "model_module": "@jupyter-widgets/base",
          "model_name": "LayoutModel",
          "model_module_version": "1.2.0",
          "state": {
            "_model_module": "@jupyter-widgets/base",
            "_model_module_version": "1.2.0",
            "_model_name": "LayoutModel",
            "_view_count": null,
            "_view_module": "@jupyter-widgets/base",
            "_view_module_version": "1.2.0",
            "_view_name": "LayoutView",
            "align_content": null,
            "align_items": null,
            "align_self": null,
            "border": null,
            "bottom": null,
            "display": null,
            "flex": null,
            "flex_flow": null,
            "grid_area": null,
            "grid_auto_columns": null,
            "grid_auto_flow": null,
            "grid_auto_rows": null,
            "grid_column": null,
            "grid_gap": null,
            "grid_row": null,
            "grid_template_areas": null,
            "grid_template_columns": null,
            "grid_template_rows": null,
            "height": null,
            "justify_content": null,
            "justify_items": null,
            "left": null,
            "margin": null,
            "max_height": null,
            "max_width": null,
            "min_height": null,
            "min_width": null,
            "object_fit": null,
            "object_position": null,
            "order": null,
            "overflow": null,
            "overflow_x": null,
            "overflow_y": null,
            "padding": null,
            "right": null,
            "top": null,
            "visibility": null,
            "width": null
          }
        },
        "6a927103f9a84e6da369aed8b3777272": {
          "model_module": "@jupyter-widgets/base",
          "model_name": "LayoutModel",
          "model_module_version": "1.2.0",
          "state": {
            "_model_module": "@jupyter-widgets/base",
            "_model_module_version": "1.2.0",
            "_model_name": "LayoutModel",
            "_view_count": null,
            "_view_module": "@jupyter-widgets/base",
            "_view_module_version": "1.2.0",
            "_view_name": "LayoutView",
            "align_content": null,
            "align_items": null,
            "align_self": null,
            "border": null,
            "bottom": null,
            "display": null,
            "flex": null,
            "flex_flow": null,
            "grid_area": null,
            "grid_auto_columns": null,
            "grid_auto_flow": null,
            "grid_auto_rows": null,
            "grid_column": null,
            "grid_gap": null,
            "grid_row": null,
            "grid_template_areas": null,
            "grid_template_columns": null,
            "grid_template_rows": null,
            "height": null,
            "justify_content": null,
            "justify_items": null,
            "left": null,
            "margin": null,
            "max_height": null,
            "max_width": null,
            "min_height": null,
            "min_width": null,
            "object_fit": null,
            "object_position": null,
            "order": null,
            "overflow": null,
            "overflow_x": null,
            "overflow_y": null,
            "padding": null,
            "right": null,
            "top": null,
            "visibility": null,
            "width": null
          }
        },
        "1a49faa916e6488ba251a57a068340d8": {
          "model_module": "@jupyter-widgets/controls",
          "model_name": "DescriptionStyleModel",
          "model_module_version": "1.5.0",
          "state": {
            "_model_module": "@jupyter-widgets/controls",
            "_model_module_version": "1.5.0",
            "_model_name": "DescriptionStyleModel",
            "_view_count": null,
            "_view_module": "@jupyter-widgets/base",
            "_view_module_version": "1.2.0",
            "_view_name": "StyleView",
            "description_width": ""
          }
        },
        "47f4891343bb4525842abbcbe9443770": {
          "model_module": "@jupyter-widgets/base",
          "model_name": "LayoutModel",
          "model_module_version": "1.2.0",
          "state": {
            "_model_module": "@jupyter-widgets/base",
            "_model_module_version": "1.2.0",
            "_model_name": "LayoutModel",
            "_view_count": null,
            "_view_module": "@jupyter-widgets/base",
            "_view_module_version": "1.2.0",
            "_view_name": "LayoutView",
            "align_content": null,
            "align_items": null,
            "align_self": null,
            "border": null,
            "bottom": null,
            "display": null,
            "flex": null,
            "flex_flow": null,
            "grid_area": null,
            "grid_auto_columns": null,
            "grid_auto_flow": null,
            "grid_auto_rows": null,
            "grid_column": null,
            "grid_gap": null,
            "grid_row": null,
            "grid_template_areas": null,
            "grid_template_columns": null,
            "grid_template_rows": null,
            "height": null,
            "justify_content": null,
            "justify_items": null,
            "left": null,
            "margin": null,
            "max_height": null,
            "max_width": null,
            "min_height": null,
            "min_width": null,
            "object_fit": null,
            "object_position": null,
            "order": null,
            "overflow": null,
            "overflow_x": null,
            "overflow_y": null,
            "padding": null,
            "right": null,
            "top": null,
            "visibility": null,
            "width": null
          }
        },
        "df06c1395dc448d38cca3196645e875f": {
          "model_module": "@jupyter-widgets/controls",
          "model_name": "ProgressStyleModel",
          "model_module_version": "1.5.0",
          "state": {
            "_model_module": "@jupyter-widgets/controls",
            "_model_module_version": "1.5.0",
            "_model_name": "ProgressStyleModel",
            "_view_count": null,
            "_view_module": "@jupyter-widgets/base",
            "_view_module_version": "1.2.0",
            "_view_name": "StyleView",
            "bar_color": null,
            "description_width": ""
          }
        },
        "909aa64bec5f482894ffc3578f462efd": {
          "model_module": "@jupyter-widgets/base",
          "model_name": "LayoutModel",
          "model_module_version": "1.2.0",
          "state": {
            "_model_module": "@jupyter-widgets/base",
            "_model_module_version": "1.2.0",
            "_model_name": "LayoutModel",
            "_view_count": null,
            "_view_module": "@jupyter-widgets/base",
            "_view_module_version": "1.2.0",
            "_view_name": "LayoutView",
            "align_content": null,
            "align_items": null,
            "align_self": null,
            "border": null,
            "bottom": null,
            "display": null,
            "flex": null,
            "flex_flow": null,
            "grid_area": null,
            "grid_auto_columns": null,
            "grid_auto_flow": null,
            "grid_auto_rows": null,
            "grid_column": null,
            "grid_gap": null,
            "grid_row": null,
            "grid_template_areas": null,
            "grid_template_columns": null,
            "grid_template_rows": null,
            "height": null,
            "justify_content": null,
            "justify_items": null,
            "left": null,
            "margin": null,
            "max_height": null,
            "max_width": null,
            "min_height": null,
            "min_width": null,
            "object_fit": null,
            "object_position": null,
            "order": null,
            "overflow": null,
            "overflow_x": null,
            "overflow_y": null,
            "padding": null,
            "right": null,
            "top": null,
            "visibility": null,
            "width": null
          }
        },
        "e224538836b548f9ac77923472931285": {
          "model_module": "@jupyter-widgets/controls",
          "model_name": "DescriptionStyleModel",
          "model_module_version": "1.5.0",
          "state": {
            "_model_module": "@jupyter-widgets/controls",
            "_model_module_version": "1.5.0",
            "_model_name": "DescriptionStyleModel",
            "_view_count": null,
            "_view_module": "@jupyter-widgets/base",
            "_view_module_version": "1.2.0",
            "_view_name": "StyleView",
            "description_width": ""
          }
        },
        "98467aa077794e55a70d6f9602618795": {
          "model_module": "@jupyter-widgets/controls",
          "model_name": "HBoxModel",
          "model_module_version": "1.5.0",
          "state": {
            "_dom_classes": [],
            "_model_module": "@jupyter-widgets/controls",
            "_model_module_version": "1.5.0",
            "_model_name": "HBoxModel",
            "_view_count": null,
            "_view_module": "@jupyter-widgets/controls",
            "_view_module_version": "1.5.0",
            "_view_name": "HBoxView",
            "box_style": "",
            "children": [
              "IPY_MODEL_0804c60fb8de4d8d977da7bf95f885c2",
              "IPY_MODEL_250dea51073e46ed81fb49a401fef424",
              "IPY_MODEL_ddc1513eb6dc4eb2b12387eadcd26b50"
            ],
            "layout": "IPY_MODEL_6da0d4fb5b2e47bbaca38fbcb3296740"
          }
        },
        "0804c60fb8de4d8d977da7bf95f885c2": {
          "model_module": "@jupyter-widgets/controls",
          "model_name": "HTMLModel",
          "model_module_version": "1.5.0",
          "state": {
            "_dom_classes": [],
            "_model_module": "@jupyter-widgets/controls",
            "_model_module_version": "1.5.0",
            "_model_name": "HTMLModel",
            "_view_count": null,
            "_view_module": "@jupyter-widgets/controls",
            "_view_module_version": "1.5.0",
            "_view_name": "HTMLView",
            "description": "",
            "description_tooltip": null,
            "layout": "IPY_MODEL_d8ba951c933a41fda9283d06456293c7",
            "placeholder": "​",
            "style": "IPY_MODEL_29964074325f4d46a77839530147420c",
            "value": "100%"
          }
        },
        "250dea51073e46ed81fb49a401fef424": {
          "model_module": "@jupyter-widgets/controls",
          "model_name": "FloatProgressModel",
          "model_module_version": "1.5.0",
          "state": {
            "_dom_classes": [],
            "_model_module": "@jupyter-widgets/controls",
            "_model_module_version": "1.5.0",
            "_model_name": "FloatProgressModel",
            "_view_count": null,
            "_view_module": "@jupyter-widgets/controls",
            "_view_module_version": "1.5.0",
            "_view_name": "ProgressView",
            "bar_style": "success",
            "description": "",
            "description_tooltip": null,
            "layout": "IPY_MODEL_1a6233737ce5402e9a8f31fe5145d828",
            "max": 7,
            "min": 0,
            "orientation": "horizontal",
            "style": "IPY_MODEL_f549a76f556c49f29eeeb32d74cfbf5e",
            "value": 7
          }
        },
        "ddc1513eb6dc4eb2b12387eadcd26b50": {
          "model_module": "@jupyter-widgets/controls",
          "model_name": "HTMLModel",
          "model_module_version": "1.5.0",
          "state": {
            "_dom_classes": [],
            "_model_module": "@jupyter-widgets/controls",
            "_model_module_version": "1.5.0",
            "_model_name": "HTMLModel",
            "_view_count": null,
            "_view_module": "@jupyter-widgets/controls",
            "_view_module_version": "1.5.0",
            "_view_name": "HTMLView",
            "description": "",
            "description_tooltip": null,
            "layout": "IPY_MODEL_5dfc24ea9e004cc8a24275949bfc2a3f",
            "placeholder": "​",
            "style": "IPY_MODEL_533bd7590ba84757900fd54d6399cee8",
            "value": " 7/7 [00:03&lt;00:00,  2.27it/s]"
          }
        },
        "6da0d4fb5b2e47bbaca38fbcb3296740": {
          "model_module": "@jupyter-widgets/base",
          "model_name": "LayoutModel",
          "model_module_version": "1.2.0",
          "state": {
            "_model_module": "@jupyter-widgets/base",
            "_model_module_version": "1.2.0",
            "_model_name": "LayoutModel",
            "_view_count": null,
            "_view_module": "@jupyter-widgets/base",
            "_view_module_version": "1.2.0",
            "_view_name": "LayoutView",
            "align_content": null,
            "align_items": null,
            "align_self": null,
            "border": null,
            "bottom": null,
            "display": null,
            "flex": null,
            "flex_flow": null,
            "grid_area": null,
            "grid_auto_columns": null,
            "grid_auto_flow": null,
            "grid_auto_rows": null,
            "grid_column": null,
            "grid_gap": null,
            "grid_row": null,
            "grid_template_areas": null,
            "grid_template_columns": null,
            "grid_template_rows": null,
            "height": null,
            "justify_content": null,
            "justify_items": null,
            "left": null,
            "margin": null,
            "max_height": null,
            "max_width": null,
            "min_height": null,
            "min_width": null,
            "object_fit": null,
            "object_position": null,
            "order": null,
            "overflow": null,
            "overflow_x": null,
            "overflow_y": null,
            "padding": null,
            "right": null,
            "top": null,
            "visibility": null,
            "width": null
          }
        },
        "d8ba951c933a41fda9283d06456293c7": {
          "model_module": "@jupyter-widgets/base",
          "model_name": "LayoutModel",
          "model_module_version": "1.2.0",
          "state": {
            "_model_module": "@jupyter-widgets/base",
            "_model_module_version": "1.2.0",
            "_model_name": "LayoutModel",
            "_view_count": null,
            "_view_module": "@jupyter-widgets/base",
            "_view_module_version": "1.2.0",
            "_view_name": "LayoutView",
            "align_content": null,
            "align_items": null,
            "align_self": null,
            "border": null,
            "bottom": null,
            "display": null,
            "flex": null,
            "flex_flow": null,
            "grid_area": null,
            "grid_auto_columns": null,
            "grid_auto_flow": null,
            "grid_auto_rows": null,
            "grid_column": null,
            "grid_gap": null,
            "grid_row": null,
            "grid_template_areas": null,
            "grid_template_columns": null,
            "grid_template_rows": null,
            "height": null,
            "justify_content": null,
            "justify_items": null,
            "left": null,
            "margin": null,
            "max_height": null,
            "max_width": null,
            "min_height": null,
            "min_width": null,
            "object_fit": null,
            "object_position": null,
            "order": null,
            "overflow": null,
            "overflow_x": null,
            "overflow_y": null,
            "padding": null,
            "right": null,
            "top": null,
            "visibility": null,
            "width": null
          }
        },
        "29964074325f4d46a77839530147420c": {
          "model_module": "@jupyter-widgets/controls",
          "model_name": "DescriptionStyleModel",
          "model_module_version": "1.5.0",
          "state": {
            "_model_module": "@jupyter-widgets/controls",
            "_model_module_version": "1.5.0",
            "_model_name": "DescriptionStyleModel",
            "_view_count": null,
            "_view_module": "@jupyter-widgets/base",
            "_view_module_version": "1.2.0",
            "_view_name": "StyleView",
            "description_width": ""
          }
        },
        "1a6233737ce5402e9a8f31fe5145d828": {
          "model_module": "@jupyter-widgets/base",
          "model_name": "LayoutModel",
          "model_module_version": "1.2.0",
          "state": {
            "_model_module": "@jupyter-widgets/base",
            "_model_module_version": "1.2.0",
            "_model_name": "LayoutModel",
            "_view_count": null,
            "_view_module": "@jupyter-widgets/base",
            "_view_module_version": "1.2.0",
            "_view_name": "LayoutView",
            "align_content": null,
            "align_items": null,
            "align_self": null,
            "border": null,
            "bottom": null,
            "display": null,
            "flex": null,
            "flex_flow": null,
            "grid_area": null,
            "grid_auto_columns": null,
            "grid_auto_flow": null,
            "grid_auto_rows": null,
            "grid_column": null,
            "grid_gap": null,
            "grid_row": null,
            "grid_template_areas": null,
            "grid_template_columns": null,
            "grid_template_rows": null,
            "height": null,
            "justify_content": null,
            "justify_items": null,
            "left": null,
            "margin": null,
            "max_height": null,
            "max_width": null,
            "min_height": null,
            "min_width": null,
            "object_fit": null,
            "object_position": null,
            "order": null,
            "overflow": null,
            "overflow_x": null,
            "overflow_y": null,
            "padding": null,
            "right": null,
            "top": null,
            "visibility": null,
            "width": null
          }
        },
        "f549a76f556c49f29eeeb32d74cfbf5e": {
          "model_module": "@jupyter-widgets/controls",
          "model_name": "ProgressStyleModel",
          "model_module_version": "1.5.0",
          "state": {
            "_model_module": "@jupyter-widgets/controls",
            "_model_module_version": "1.5.0",
            "_model_name": "ProgressStyleModel",
            "_view_count": null,
            "_view_module": "@jupyter-widgets/base",
            "_view_module_version": "1.2.0",
            "_view_name": "StyleView",
            "bar_color": null,
            "description_width": ""
          }
        },
        "5dfc24ea9e004cc8a24275949bfc2a3f": {
          "model_module": "@jupyter-widgets/base",
          "model_name": "LayoutModel",
          "model_module_version": "1.2.0",
          "state": {
            "_model_module": "@jupyter-widgets/base",
            "_model_module_version": "1.2.0",
            "_model_name": "LayoutModel",
            "_view_count": null,
            "_view_module": "@jupyter-widgets/base",
            "_view_module_version": "1.2.0",
            "_view_name": "LayoutView",
            "align_content": null,
            "align_items": null,
            "align_self": null,
            "border": null,
            "bottom": null,
            "display": null,
            "flex": null,
            "flex_flow": null,
            "grid_area": null,
            "grid_auto_columns": null,
            "grid_auto_flow": null,
            "grid_auto_rows": null,
            "grid_column": null,
            "grid_gap": null,
            "grid_row": null,
            "grid_template_areas": null,
            "grid_template_columns": null,
            "grid_template_rows": null,
            "height": null,
            "justify_content": null,
            "justify_items": null,
            "left": null,
            "margin": null,
            "max_height": null,
            "max_width": null,
            "min_height": null,
            "min_width": null,
            "object_fit": null,
            "object_position": null,
            "order": null,
            "overflow": null,
            "overflow_x": null,
            "overflow_y": null,
            "padding": null,
            "right": null,
            "top": null,
            "visibility": null,
            "width": null
          }
        },
        "533bd7590ba84757900fd54d6399cee8": {
          "model_module": "@jupyter-widgets/controls",
          "model_name": "DescriptionStyleModel",
          "model_module_version": "1.5.0",
          "state": {
            "_model_module": "@jupyter-widgets/controls",
            "_model_module_version": "1.5.0",
            "_model_name": "DescriptionStyleModel",
            "_view_count": null,
            "_view_module": "@jupyter-widgets/base",
            "_view_module_version": "1.2.0",
            "_view_name": "StyleView",
            "description_width": ""
          }
        },
        "8d35f2736cb54a778802db89b30929a0": {
          "model_module": "@jupyter-widgets/controls",
          "model_name": "HBoxModel",
          "model_module_version": "1.5.0",
          "state": {
            "_dom_classes": [],
            "_model_module": "@jupyter-widgets/controls",
            "_model_module_version": "1.5.0",
            "_model_name": "HBoxModel",
            "_view_count": null,
            "_view_module": "@jupyter-widgets/controls",
            "_view_module_version": "1.5.0",
            "_view_name": "HBoxView",
            "box_style": "",
            "children": [
              "IPY_MODEL_e0736d36d1774537b3baafaaf0aba673",
              "IPY_MODEL_98137c8467924e83b0991b32724f5605",
              "IPY_MODEL_a0d5b6825c1b4aa5bd890b46528eebd3"
            ],
            "layout": "IPY_MODEL_2b8ef37b76364c0b8088b320a56bedd0"
          }
        },
        "e0736d36d1774537b3baafaaf0aba673": {
          "model_module": "@jupyter-widgets/controls",
          "model_name": "HTMLModel",
          "model_module_version": "1.5.0",
          "state": {
            "_dom_classes": [],
            "_model_module": "@jupyter-widgets/controls",
            "_model_module_version": "1.5.0",
            "_model_name": "HTMLModel",
            "_view_count": null,
            "_view_module": "@jupyter-widgets/controls",
            "_view_module_version": "1.5.0",
            "_view_name": "HTMLView",
            "description": "",
            "description_tooltip": null,
            "layout": "IPY_MODEL_219018c40ca14f82b6ed9e3eefcdb38f",
            "placeholder": "​",
            "style": "IPY_MODEL_b69e6b9771db445daa7e6d3fa5a63aaf",
            "value": "100%"
          }
        },
        "98137c8467924e83b0991b32724f5605": {
          "model_module": "@jupyter-widgets/controls",
          "model_name": "FloatProgressModel",
          "model_module_version": "1.5.0",
          "state": {
            "_dom_classes": [],
            "_model_module": "@jupyter-widgets/controls",
            "_model_module_version": "1.5.0",
            "_model_name": "FloatProgressModel",
            "_view_count": null,
            "_view_module": "@jupyter-widgets/controls",
            "_view_module_version": "1.5.0",
            "_view_name": "ProgressView",
            "bar_style": "success",
            "description": "",
            "description_tooltip": null,
            "layout": "IPY_MODEL_7e455d28141e47e8b214abde29d4e4ef",
            "max": 7,
            "min": 0,
            "orientation": "horizontal",
            "style": "IPY_MODEL_4a8b468fe3954aea9c65180d82e4d2ab",
            "value": 7
          }
        },
        "a0d5b6825c1b4aa5bd890b46528eebd3": {
          "model_module": "@jupyter-widgets/controls",
          "model_name": "HTMLModel",
          "model_module_version": "1.5.0",
          "state": {
            "_dom_classes": [],
            "_model_module": "@jupyter-widgets/controls",
            "_model_module_version": "1.5.0",
            "_model_name": "HTMLModel",
            "_view_count": null,
            "_view_module": "@jupyter-widgets/controls",
            "_view_module_version": "1.5.0",
            "_view_name": "HTMLView",
            "description": "",
            "description_tooltip": null,
            "layout": "IPY_MODEL_42489199b2044ca297b4a0a1018d649d",
            "placeholder": "​",
            "style": "IPY_MODEL_d55801073123481a90ecdad4944d18fa",
            "value": " 7/7 [00:03&lt;00:00,  2.25it/s]"
          }
        },
        "2b8ef37b76364c0b8088b320a56bedd0": {
          "model_module": "@jupyter-widgets/base",
          "model_name": "LayoutModel",
          "model_module_version": "1.2.0",
          "state": {
            "_model_module": "@jupyter-widgets/base",
            "_model_module_version": "1.2.0",
            "_model_name": "LayoutModel",
            "_view_count": null,
            "_view_module": "@jupyter-widgets/base",
            "_view_module_version": "1.2.0",
            "_view_name": "LayoutView",
            "align_content": null,
            "align_items": null,
            "align_self": null,
            "border": null,
            "bottom": null,
            "display": null,
            "flex": null,
            "flex_flow": null,
            "grid_area": null,
            "grid_auto_columns": null,
            "grid_auto_flow": null,
            "grid_auto_rows": null,
            "grid_column": null,
            "grid_gap": null,
            "grid_row": null,
            "grid_template_areas": null,
            "grid_template_columns": null,
            "grid_template_rows": null,
            "height": null,
            "justify_content": null,
            "justify_items": null,
            "left": null,
            "margin": null,
            "max_height": null,
            "max_width": null,
            "min_height": null,
            "min_width": null,
            "object_fit": null,
            "object_position": null,
            "order": null,
            "overflow": null,
            "overflow_x": null,
            "overflow_y": null,
            "padding": null,
            "right": null,
            "top": null,
            "visibility": null,
            "width": null
          }
        },
        "219018c40ca14f82b6ed9e3eefcdb38f": {
          "model_module": "@jupyter-widgets/base",
          "model_name": "LayoutModel",
          "model_module_version": "1.2.0",
          "state": {
            "_model_module": "@jupyter-widgets/base",
            "_model_module_version": "1.2.0",
            "_model_name": "LayoutModel",
            "_view_count": null,
            "_view_module": "@jupyter-widgets/base",
            "_view_module_version": "1.2.0",
            "_view_name": "LayoutView",
            "align_content": null,
            "align_items": null,
            "align_self": null,
            "border": null,
            "bottom": null,
            "display": null,
            "flex": null,
            "flex_flow": null,
            "grid_area": null,
            "grid_auto_columns": null,
            "grid_auto_flow": null,
            "grid_auto_rows": null,
            "grid_column": null,
            "grid_gap": null,
            "grid_row": null,
            "grid_template_areas": null,
            "grid_template_columns": null,
            "grid_template_rows": null,
            "height": null,
            "justify_content": null,
            "justify_items": null,
            "left": null,
            "margin": null,
            "max_height": null,
            "max_width": null,
            "min_height": null,
            "min_width": null,
            "object_fit": null,
            "object_position": null,
            "order": null,
            "overflow": null,
            "overflow_x": null,
            "overflow_y": null,
            "padding": null,
            "right": null,
            "top": null,
            "visibility": null,
            "width": null
          }
        },
        "b69e6b9771db445daa7e6d3fa5a63aaf": {
          "model_module": "@jupyter-widgets/controls",
          "model_name": "DescriptionStyleModel",
          "model_module_version": "1.5.0",
          "state": {
            "_model_module": "@jupyter-widgets/controls",
            "_model_module_version": "1.5.0",
            "_model_name": "DescriptionStyleModel",
            "_view_count": null,
            "_view_module": "@jupyter-widgets/base",
            "_view_module_version": "1.2.0",
            "_view_name": "StyleView",
            "description_width": ""
          }
        },
        "7e455d28141e47e8b214abde29d4e4ef": {
          "model_module": "@jupyter-widgets/base",
          "model_name": "LayoutModel",
          "model_module_version": "1.2.0",
          "state": {
            "_model_module": "@jupyter-widgets/base",
            "_model_module_version": "1.2.0",
            "_model_name": "LayoutModel",
            "_view_count": null,
            "_view_module": "@jupyter-widgets/base",
            "_view_module_version": "1.2.0",
            "_view_name": "LayoutView",
            "align_content": null,
            "align_items": null,
            "align_self": null,
            "border": null,
            "bottom": null,
            "display": null,
            "flex": null,
            "flex_flow": null,
            "grid_area": null,
            "grid_auto_columns": null,
            "grid_auto_flow": null,
            "grid_auto_rows": null,
            "grid_column": null,
            "grid_gap": null,
            "grid_row": null,
            "grid_template_areas": null,
            "grid_template_columns": null,
            "grid_template_rows": null,
            "height": null,
            "justify_content": null,
            "justify_items": null,
            "left": null,
            "margin": null,
            "max_height": null,
            "max_width": null,
            "min_height": null,
            "min_width": null,
            "object_fit": null,
            "object_position": null,
            "order": null,
            "overflow": null,
            "overflow_x": null,
            "overflow_y": null,
            "padding": null,
            "right": null,
            "top": null,
            "visibility": null,
            "width": null
          }
        },
        "4a8b468fe3954aea9c65180d82e4d2ab": {
          "model_module": "@jupyter-widgets/controls",
          "model_name": "ProgressStyleModel",
          "model_module_version": "1.5.0",
          "state": {
            "_model_module": "@jupyter-widgets/controls",
            "_model_module_version": "1.5.0",
            "_model_name": "ProgressStyleModel",
            "_view_count": null,
            "_view_module": "@jupyter-widgets/base",
            "_view_module_version": "1.2.0",
            "_view_name": "StyleView",
            "bar_color": null,
            "description_width": ""
          }
        },
        "42489199b2044ca297b4a0a1018d649d": {
          "model_module": "@jupyter-widgets/base",
          "model_name": "LayoutModel",
          "model_module_version": "1.2.0",
          "state": {
            "_model_module": "@jupyter-widgets/base",
            "_model_module_version": "1.2.0",
            "_model_name": "LayoutModel",
            "_view_count": null,
            "_view_module": "@jupyter-widgets/base",
            "_view_module_version": "1.2.0",
            "_view_name": "LayoutView",
            "align_content": null,
            "align_items": null,
            "align_self": null,
            "border": null,
            "bottom": null,
            "display": null,
            "flex": null,
            "flex_flow": null,
            "grid_area": null,
            "grid_auto_columns": null,
            "grid_auto_flow": null,
            "grid_auto_rows": null,
            "grid_column": null,
            "grid_gap": null,
            "grid_row": null,
            "grid_template_areas": null,
            "grid_template_columns": null,
            "grid_template_rows": null,
            "height": null,
            "justify_content": null,
            "justify_items": null,
            "left": null,
            "margin": null,
            "max_height": null,
            "max_width": null,
            "min_height": null,
            "min_width": null,
            "object_fit": null,
            "object_position": null,
            "order": null,
            "overflow": null,
            "overflow_x": null,
            "overflow_y": null,
            "padding": null,
            "right": null,
            "top": null,
            "visibility": null,
            "width": null
          }
        },
        "d55801073123481a90ecdad4944d18fa": {
          "model_module": "@jupyter-widgets/controls",
          "model_name": "DescriptionStyleModel",
          "model_module_version": "1.5.0",
          "state": {
            "_model_module": "@jupyter-widgets/controls",
            "_model_module_version": "1.5.0",
            "_model_name": "DescriptionStyleModel",
            "_view_count": null,
            "_view_module": "@jupyter-widgets/base",
            "_view_module_version": "1.2.0",
            "_view_name": "StyleView",
            "description_width": ""
          }
        },
        "22ad72b840c24e838c4190d4adf29dfe": {
          "model_module": "@jupyter-widgets/controls",
          "model_name": "HBoxModel",
          "model_module_version": "1.5.0",
          "state": {
            "_dom_classes": [],
            "_model_module": "@jupyter-widgets/controls",
            "_model_module_version": "1.5.0",
            "_model_name": "HBoxModel",
            "_view_count": null,
            "_view_module": "@jupyter-widgets/controls",
            "_view_module_version": "1.5.0",
            "_view_name": "HBoxView",
            "box_style": "",
            "children": [
              "IPY_MODEL_51a75a4cebca47e6ae96e523b4dc8b8c",
              "IPY_MODEL_741fac13493c4cc0a24e96f1a281ae8e",
              "IPY_MODEL_d43d328f201343edbbae928138b11b06"
            ],
            "layout": "IPY_MODEL_fb91372f349447b5af1a70f0f1963e41"
          }
        },
        "51a75a4cebca47e6ae96e523b4dc8b8c": {
          "model_module": "@jupyter-widgets/controls",
          "model_name": "HTMLModel",
          "model_module_version": "1.5.0",
          "state": {
            "_dom_classes": [],
            "_model_module": "@jupyter-widgets/controls",
            "_model_module_version": "1.5.0",
            "_model_name": "HTMLModel",
            "_view_count": null,
            "_view_module": "@jupyter-widgets/controls",
            "_view_module_version": "1.5.0",
            "_view_name": "HTMLView",
            "description": "",
            "description_tooltip": null,
            "layout": "IPY_MODEL_434cfcfdd8ca49e992af550b4b63ec30",
            "placeholder": "​",
            "style": "IPY_MODEL_f03cc0d861b7446984816a1ff93b0c99",
            "value": "100%"
          }
        },
        "741fac13493c4cc0a24e96f1a281ae8e": {
          "model_module": "@jupyter-widgets/controls",
          "model_name": "FloatProgressModel",
          "model_module_version": "1.5.0",
          "state": {
            "_dom_classes": [],
            "_model_module": "@jupyter-widgets/controls",
            "_model_module_version": "1.5.0",
            "_model_name": "FloatProgressModel",
            "_view_count": null,
            "_view_module": "@jupyter-widgets/controls",
            "_view_module_version": "1.5.0",
            "_view_name": "ProgressView",
            "bar_style": "success",
            "description": "",
            "description_tooltip": null,
            "layout": "IPY_MODEL_861c4167616a4ea2abd76511ca6309f9",
            "max": 7,
            "min": 0,
            "orientation": "horizontal",
            "style": "IPY_MODEL_06540ebd74bf4a888b4548fa4f626780",
            "value": 7
          }
        },
        "d43d328f201343edbbae928138b11b06": {
          "model_module": "@jupyter-widgets/controls",
          "model_name": "HTMLModel",
          "model_module_version": "1.5.0",
          "state": {
            "_dom_classes": [],
            "_model_module": "@jupyter-widgets/controls",
            "_model_module_version": "1.5.0",
            "_model_name": "HTMLModel",
            "_view_count": null,
            "_view_module": "@jupyter-widgets/controls",
            "_view_module_version": "1.5.0",
            "_view_name": "HTMLView",
            "description": "",
            "description_tooltip": null,
            "layout": "IPY_MODEL_b05f8f65907f4efdbda2a491d0b2360c",
            "placeholder": "​",
            "style": "IPY_MODEL_1f9e9bf12db14874b2f1cbf8e9fd9cb1",
            "value": " 7/7 [00:03&lt;00:00,  2.16it/s]"
          }
        },
        "fb91372f349447b5af1a70f0f1963e41": {
          "model_module": "@jupyter-widgets/base",
          "model_name": "LayoutModel",
          "model_module_version": "1.2.0",
          "state": {
            "_model_module": "@jupyter-widgets/base",
            "_model_module_version": "1.2.0",
            "_model_name": "LayoutModel",
            "_view_count": null,
            "_view_module": "@jupyter-widgets/base",
            "_view_module_version": "1.2.0",
            "_view_name": "LayoutView",
            "align_content": null,
            "align_items": null,
            "align_self": null,
            "border": null,
            "bottom": null,
            "display": null,
            "flex": null,
            "flex_flow": null,
            "grid_area": null,
            "grid_auto_columns": null,
            "grid_auto_flow": null,
            "grid_auto_rows": null,
            "grid_column": null,
            "grid_gap": null,
            "grid_row": null,
            "grid_template_areas": null,
            "grid_template_columns": null,
            "grid_template_rows": null,
            "height": null,
            "justify_content": null,
            "justify_items": null,
            "left": null,
            "margin": null,
            "max_height": null,
            "max_width": null,
            "min_height": null,
            "min_width": null,
            "object_fit": null,
            "object_position": null,
            "order": null,
            "overflow": null,
            "overflow_x": null,
            "overflow_y": null,
            "padding": null,
            "right": null,
            "top": null,
            "visibility": null,
            "width": null
          }
        },
        "434cfcfdd8ca49e992af550b4b63ec30": {
          "model_module": "@jupyter-widgets/base",
          "model_name": "LayoutModel",
          "model_module_version": "1.2.0",
          "state": {
            "_model_module": "@jupyter-widgets/base",
            "_model_module_version": "1.2.0",
            "_model_name": "LayoutModel",
            "_view_count": null,
            "_view_module": "@jupyter-widgets/base",
            "_view_module_version": "1.2.0",
            "_view_name": "LayoutView",
            "align_content": null,
            "align_items": null,
            "align_self": null,
            "border": null,
            "bottom": null,
            "display": null,
            "flex": null,
            "flex_flow": null,
            "grid_area": null,
            "grid_auto_columns": null,
            "grid_auto_flow": null,
            "grid_auto_rows": null,
            "grid_column": null,
            "grid_gap": null,
            "grid_row": null,
            "grid_template_areas": null,
            "grid_template_columns": null,
            "grid_template_rows": null,
            "height": null,
            "justify_content": null,
            "justify_items": null,
            "left": null,
            "margin": null,
            "max_height": null,
            "max_width": null,
            "min_height": null,
            "min_width": null,
            "object_fit": null,
            "object_position": null,
            "order": null,
            "overflow": null,
            "overflow_x": null,
            "overflow_y": null,
            "padding": null,
            "right": null,
            "top": null,
            "visibility": null,
            "width": null
          }
        },
        "f03cc0d861b7446984816a1ff93b0c99": {
          "model_module": "@jupyter-widgets/controls",
          "model_name": "DescriptionStyleModel",
          "model_module_version": "1.5.0",
          "state": {
            "_model_module": "@jupyter-widgets/controls",
            "_model_module_version": "1.5.0",
            "_model_name": "DescriptionStyleModel",
            "_view_count": null,
            "_view_module": "@jupyter-widgets/base",
            "_view_module_version": "1.2.0",
            "_view_name": "StyleView",
            "description_width": ""
          }
        },
        "861c4167616a4ea2abd76511ca6309f9": {
          "model_module": "@jupyter-widgets/base",
          "model_name": "LayoutModel",
          "model_module_version": "1.2.0",
          "state": {
            "_model_module": "@jupyter-widgets/base",
            "_model_module_version": "1.2.0",
            "_model_name": "LayoutModel",
            "_view_count": null,
            "_view_module": "@jupyter-widgets/base",
            "_view_module_version": "1.2.0",
            "_view_name": "LayoutView",
            "align_content": null,
            "align_items": null,
            "align_self": null,
            "border": null,
            "bottom": null,
            "display": null,
            "flex": null,
            "flex_flow": null,
            "grid_area": null,
            "grid_auto_columns": null,
            "grid_auto_flow": null,
            "grid_auto_rows": null,
            "grid_column": null,
            "grid_gap": null,
            "grid_row": null,
            "grid_template_areas": null,
            "grid_template_columns": null,
            "grid_template_rows": null,
            "height": null,
            "justify_content": null,
            "justify_items": null,
            "left": null,
            "margin": null,
            "max_height": null,
            "max_width": null,
            "min_height": null,
            "min_width": null,
            "object_fit": null,
            "object_position": null,
            "order": null,
            "overflow": null,
            "overflow_x": null,
            "overflow_y": null,
            "padding": null,
            "right": null,
            "top": null,
            "visibility": null,
            "width": null
          }
        },
        "06540ebd74bf4a888b4548fa4f626780": {
          "model_module": "@jupyter-widgets/controls",
          "model_name": "ProgressStyleModel",
          "model_module_version": "1.5.0",
          "state": {
            "_model_module": "@jupyter-widgets/controls",
            "_model_module_version": "1.5.0",
            "_model_name": "ProgressStyleModel",
            "_view_count": null,
            "_view_module": "@jupyter-widgets/base",
            "_view_module_version": "1.2.0",
            "_view_name": "StyleView",
            "bar_color": null,
            "description_width": ""
          }
        },
        "b05f8f65907f4efdbda2a491d0b2360c": {
          "model_module": "@jupyter-widgets/base",
          "model_name": "LayoutModel",
          "model_module_version": "1.2.0",
          "state": {
            "_model_module": "@jupyter-widgets/base",
            "_model_module_version": "1.2.0",
            "_model_name": "LayoutModel",
            "_view_count": null,
            "_view_module": "@jupyter-widgets/base",
            "_view_module_version": "1.2.0",
            "_view_name": "LayoutView",
            "align_content": null,
            "align_items": null,
            "align_self": null,
            "border": null,
            "bottom": null,
            "display": null,
            "flex": null,
            "flex_flow": null,
            "grid_area": null,
            "grid_auto_columns": null,
            "grid_auto_flow": null,
            "grid_auto_rows": null,
            "grid_column": null,
            "grid_gap": null,
            "grid_row": null,
            "grid_template_areas": null,
            "grid_template_columns": null,
            "grid_template_rows": null,
            "height": null,
            "justify_content": null,
            "justify_items": null,
            "left": null,
            "margin": null,
            "max_height": null,
            "max_width": null,
            "min_height": null,
            "min_width": null,
            "object_fit": null,
            "object_position": null,
            "order": null,
            "overflow": null,
            "overflow_x": null,
            "overflow_y": null,
            "padding": null,
            "right": null,
            "top": null,
            "visibility": null,
            "width": null
          }
        },
        "1f9e9bf12db14874b2f1cbf8e9fd9cb1": {
          "model_module": "@jupyter-widgets/controls",
          "model_name": "DescriptionStyleModel",
          "model_module_version": "1.5.0",
          "state": {
            "_model_module": "@jupyter-widgets/controls",
            "_model_module_version": "1.5.0",
            "_model_name": "DescriptionStyleModel",
            "_view_count": null,
            "_view_module": "@jupyter-widgets/base",
            "_view_module_version": "1.2.0",
            "_view_name": "StyleView",
            "description_width": ""
          }
        },
        "687b9262521e4061892a7cd005c990c5": {
          "model_module": "@jupyter-widgets/controls",
          "model_name": "HBoxModel",
          "model_module_version": "1.5.0",
          "state": {
            "_dom_classes": [],
            "_model_module": "@jupyter-widgets/controls",
            "_model_module_version": "1.5.0",
            "_model_name": "HBoxModel",
            "_view_count": null,
            "_view_module": "@jupyter-widgets/controls",
            "_view_module_version": "1.5.0",
            "_view_name": "HBoxView",
            "box_style": "",
            "children": [
              "IPY_MODEL_5d46247e0f7c4b568e63a5bde19a6b9f",
              "IPY_MODEL_386652232a5e41e3bcfa5cc65a1d711f",
              "IPY_MODEL_6efe4622e09f4975ab1fe0c61856f6b0"
            ],
            "layout": "IPY_MODEL_d346d40308aa4967a5132904f559edcb"
          }
        },
        "5d46247e0f7c4b568e63a5bde19a6b9f": {
          "model_module": "@jupyter-widgets/controls",
          "model_name": "HTMLModel",
          "model_module_version": "1.5.0",
          "state": {
            "_dom_classes": [],
            "_model_module": "@jupyter-widgets/controls",
            "_model_module_version": "1.5.0",
            "_model_name": "HTMLModel",
            "_view_count": null,
            "_view_module": "@jupyter-widgets/controls",
            "_view_module_version": "1.5.0",
            "_view_name": "HTMLView",
            "description": "",
            "description_tooltip": null,
            "layout": "IPY_MODEL_7a720a20314842f5a496d1331f764810",
            "placeholder": "​",
            "style": "IPY_MODEL_4f07e2d04a6e47e39ab988621d6ebdd3",
            "value": "100%"
          }
        },
        "386652232a5e41e3bcfa5cc65a1d711f": {
          "model_module": "@jupyter-widgets/controls",
          "model_name": "FloatProgressModel",
          "model_module_version": "1.5.0",
          "state": {
            "_dom_classes": [],
            "_model_module": "@jupyter-widgets/controls",
            "_model_module_version": "1.5.0",
            "_model_name": "FloatProgressModel",
            "_view_count": null,
            "_view_module": "@jupyter-widgets/controls",
            "_view_module_version": "1.5.0",
            "_view_name": "ProgressView",
            "bar_style": "success",
            "description": "",
            "description_tooltip": null,
            "layout": "IPY_MODEL_3f20345379ff4ec7bab3ac0bc6940cc1",
            "max": 7,
            "min": 0,
            "orientation": "horizontal",
            "style": "IPY_MODEL_38b003889adc479484bca96f8602a30d",
            "value": 7
          }
        },
        "6efe4622e09f4975ab1fe0c61856f6b0": {
          "model_module": "@jupyter-widgets/controls",
          "model_name": "HTMLModel",
          "model_module_version": "1.5.0",
          "state": {
            "_dom_classes": [],
            "_model_module": "@jupyter-widgets/controls",
            "_model_module_version": "1.5.0",
            "_model_name": "HTMLModel",
            "_view_count": null,
            "_view_module": "@jupyter-widgets/controls",
            "_view_module_version": "1.5.0",
            "_view_name": "HTMLView",
            "description": "",
            "description_tooltip": null,
            "layout": "IPY_MODEL_e995b2e20bf94f8fbc87b37c1b16f788",
            "placeholder": "​",
            "style": "IPY_MODEL_8bb7628f3ea94e8580aac645a0bd364d",
            "value": " 7/7 [00:03&lt;00:00,  2.19it/s]"
          }
        },
        "d346d40308aa4967a5132904f559edcb": {
          "model_module": "@jupyter-widgets/base",
          "model_name": "LayoutModel",
          "model_module_version": "1.2.0",
          "state": {
            "_model_module": "@jupyter-widgets/base",
            "_model_module_version": "1.2.0",
            "_model_name": "LayoutModel",
            "_view_count": null,
            "_view_module": "@jupyter-widgets/base",
            "_view_module_version": "1.2.0",
            "_view_name": "LayoutView",
            "align_content": null,
            "align_items": null,
            "align_self": null,
            "border": null,
            "bottom": null,
            "display": null,
            "flex": null,
            "flex_flow": null,
            "grid_area": null,
            "grid_auto_columns": null,
            "grid_auto_flow": null,
            "grid_auto_rows": null,
            "grid_column": null,
            "grid_gap": null,
            "grid_row": null,
            "grid_template_areas": null,
            "grid_template_columns": null,
            "grid_template_rows": null,
            "height": null,
            "justify_content": null,
            "justify_items": null,
            "left": null,
            "margin": null,
            "max_height": null,
            "max_width": null,
            "min_height": null,
            "min_width": null,
            "object_fit": null,
            "object_position": null,
            "order": null,
            "overflow": null,
            "overflow_x": null,
            "overflow_y": null,
            "padding": null,
            "right": null,
            "top": null,
            "visibility": null,
            "width": null
          }
        },
        "7a720a20314842f5a496d1331f764810": {
          "model_module": "@jupyter-widgets/base",
          "model_name": "LayoutModel",
          "model_module_version": "1.2.0",
          "state": {
            "_model_module": "@jupyter-widgets/base",
            "_model_module_version": "1.2.0",
            "_model_name": "LayoutModel",
            "_view_count": null,
            "_view_module": "@jupyter-widgets/base",
            "_view_module_version": "1.2.0",
            "_view_name": "LayoutView",
            "align_content": null,
            "align_items": null,
            "align_self": null,
            "border": null,
            "bottom": null,
            "display": null,
            "flex": null,
            "flex_flow": null,
            "grid_area": null,
            "grid_auto_columns": null,
            "grid_auto_flow": null,
            "grid_auto_rows": null,
            "grid_column": null,
            "grid_gap": null,
            "grid_row": null,
            "grid_template_areas": null,
            "grid_template_columns": null,
            "grid_template_rows": null,
            "height": null,
            "justify_content": null,
            "justify_items": null,
            "left": null,
            "margin": null,
            "max_height": null,
            "max_width": null,
            "min_height": null,
            "min_width": null,
            "object_fit": null,
            "object_position": null,
            "order": null,
            "overflow": null,
            "overflow_x": null,
            "overflow_y": null,
            "padding": null,
            "right": null,
            "top": null,
            "visibility": null,
            "width": null
          }
        },
        "4f07e2d04a6e47e39ab988621d6ebdd3": {
          "model_module": "@jupyter-widgets/controls",
          "model_name": "DescriptionStyleModel",
          "model_module_version": "1.5.0",
          "state": {
            "_model_module": "@jupyter-widgets/controls",
            "_model_module_version": "1.5.0",
            "_model_name": "DescriptionStyleModel",
            "_view_count": null,
            "_view_module": "@jupyter-widgets/base",
            "_view_module_version": "1.2.0",
            "_view_name": "StyleView",
            "description_width": ""
          }
        },
        "3f20345379ff4ec7bab3ac0bc6940cc1": {
          "model_module": "@jupyter-widgets/base",
          "model_name": "LayoutModel",
          "model_module_version": "1.2.0",
          "state": {
            "_model_module": "@jupyter-widgets/base",
            "_model_module_version": "1.2.0",
            "_model_name": "LayoutModel",
            "_view_count": null,
            "_view_module": "@jupyter-widgets/base",
            "_view_module_version": "1.2.0",
            "_view_name": "LayoutView",
            "align_content": null,
            "align_items": null,
            "align_self": null,
            "border": null,
            "bottom": null,
            "display": null,
            "flex": null,
            "flex_flow": null,
            "grid_area": null,
            "grid_auto_columns": null,
            "grid_auto_flow": null,
            "grid_auto_rows": null,
            "grid_column": null,
            "grid_gap": null,
            "grid_row": null,
            "grid_template_areas": null,
            "grid_template_columns": null,
            "grid_template_rows": null,
            "height": null,
            "justify_content": null,
            "justify_items": null,
            "left": null,
            "margin": null,
            "max_height": null,
            "max_width": null,
            "min_height": null,
            "min_width": null,
            "object_fit": null,
            "object_position": null,
            "order": null,
            "overflow": null,
            "overflow_x": null,
            "overflow_y": null,
            "padding": null,
            "right": null,
            "top": null,
            "visibility": null,
            "width": null
          }
        },
        "38b003889adc479484bca96f8602a30d": {
          "model_module": "@jupyter-widgets/controls",
          "model_name": "ProgressStyleModel",
          "model_module_version": "1.5.0",
          "state": {
            "_model_module": "@jupyter-widgets/controls",
            "_model_module_version": "1.5.0",
            "_model_name": "ProgressStyleModel",
            "_view_count": null,
            "_view_module": "@jupyter-widgets/base",
            "_view_module_version": "1.2.0",
            "_view_name": "StyleView",
            "bar_color": null,
            "description_width": ""
          }
        },
        "e995b2e20bf94f8fbc87b37c1b16f788": {
          "model_module": "@jupyter-widgets/base",
          "model_name": "LayoutModel",
          "model_module_version": "1.2.0",
          "state": {
            "_model_module": "@jupyter-widgets/base",
            "_model_module_version": "1.2.0",
            "_model_name": "LayoutModel",
            "_view_count": null,
            "_view_module": "@jupyter-widgets/base",
            "_view_module_version": "1.2.0",
            "_view_name": "LayoutView",
            "align_content": null,
            "align_items": null,
            "align_self": null,
            "border": null,
            "bottom": null,
            "display": null,
            "flex": null,
            "flex_flow": null,
            "grid_area": null,
            "grid_auto_columns": null,
            "grid_auto_flow": null,
            "grid_auto_rows": null,
            "grid_column": null,
            "grid_gap": null,
            "grid_row": null,
            "grid_template_areas": null,
            "grid_template_columns": null,
            "grid_template_rows": null,
            "height": null,
            "justify_content": null,
            "justify_items": null,
            "left": null,
            "margin": null,
            "max_height": null,
            "max_width": null,
            "min_height": null,
            "min_width": null,
            "object_fit": null,
            "object_position": null,
            "order": null,
            "overflow": null,
            "overflow_x": null,
            "overflow_y": null,
            "padding": null,
            "right": null,
            "top": null,
            "visibility": null,
            "width": null
          }
        },
        "8bb7628f3ea94e8580aac645a0bd364d": {
          "model_module": "@jupyter-widgets/controls",
          "model_name": "DescriptionStyleModel",
          "model_module_version": "1.5.0",
          "state": {
            "_model_module": "@jupyter-widgets/controls",
            "_model_module_version": "1.5.0",
            "_model_name": "DescriptionStyleModel",
            "_view_count": null,
            "_view_module": "@jupyter-widgets/base",
            "_view_module_version": "1.2.0",
            "_view_name": "StyleView",
            "description_width": ""
          }
        },
        "e71b872153fa487ca1b33b67d7016e4e": {
          "model_module": "@jupyter-widgets/controls",
          "model_name": "HBoxModel",
          "model_module_version": "1.5.0",
          "state": {
            "_dom_classes": [],
            "_model_module": "@jupyter-widgets/controls",
            "_model_module_version": "1.5.0",
            "_model_name": "HBoxModel",
            "_view_count": null,
            "_view_module": "@jupyter-widgets/controls",
            "_view_module_version": "1.5.0",
            "_view_name": "HBoxView",
            "box_style": "",
            "children": [
              "IPY_MODEL_c3ab14fd8b0742e4a224af62f8989472",
              "IPY_MODEL_b08c51e493a44b09a442e297d02d1684",
              "IPY_MODEL_72f6df6889fc4c24b8bac0edd344423c"
            ],
            "layout": "IPY_MODEL_e989ebca224b4c9dabe39e882b85235b"
          }
        },
        "c3ab14fd8b0742e4a224af62f8989472": {
          "model_module": "@jupyter-widgets/controls",
          "model_name": "HTMLModel",
          "model_module_version": "1.5.0",
          "state": {
            "_dom_classes": [],
            "_model_module": "@jupyter-widgets/controls",
            "_model_module_version": "1.5.0",
            "_model_name": "HTMLModel",
            "_view_count": null,
            "_view_module": "@jupyter-widgets/controls",
            "_view_module_version": "1.5.0",
            "_view_name": "HTMLView",
            "description": "",
            "description_tooltip": null,
            "layout": "IPY_MODEL_2538ffaa9ba448a5b765736323f13186",
            "placeholder": "​",
            "style": "IPY_MODEL_b80e7139236a474a9bef3047dc5a90d4",
            "value": "100%"
          }
        },
        "b08c51e493a44b09a442e297d02d1684": {
          "model_module": "@jupyter-widgets/controls",
          "model_name": "FloatProgressModel",
          "model_module_version": "1.5.0",
          "state": {
            "_dom_classes": [],
            "_model_module": "@jupyter-widgets/controls",
            "_model_module_version": "1.5.0",
            "_model_name": "FloatProgressModel",
            "_view_count": null,
            "_view_module": "@jupyter-widgets/controls",
            "_view_module_version": "1.5.0",
            "_view_name": "ProgressView",
            "bar_style": "success",
            "description": "",
            "description_tooltip": null,
            "layout": "IPY_MODEL_40ffdbd25e5b4bae9c394d79fc9092b3",
            "max": 7,
            "min": 0,
            "orientation": "horizontal",
            "style": "IPY_MODEL_ba341e177a254234a799950649e32e52",
            "value": 7
          }
        },
        "72f6df6889fc4c24b8bac0edd344423c": {
          "model_module": "@jupyter-widgets/controls",
          "model_name": "HTMLModel",
          "model_module_version": "1.5.0",
          "state": {
            "_dom_classes": [],
            "_model_module": "@jupyter-widgets/controls",
            "_model_module_version": "1.5.0",
            "_model_name": "HTMLModel",
            "_view_count": null,
            "_view_module": "@jupyter-widgets/controls",
            "_view_module_version": "1.5.0",
            "_view_name": "HTMLView",
            "description": "",
            "description_tooltip": null,
            "layout": "IPY_MODEL_b1a32a962cf3463ead78b463d26af280",
            "placeholder": "​",
            "style": "IPY_MODEL_1fb24094772b4acfaed9923a939adf3e",
            "value": " 7/7 [00:03&lt;00:00,  2.26it/s]"
          }
        },
        "e989ebca224b4c9dabe39e882b85235b": {
          "model_module": "@jupyter-widgets/base",
          "model_name": "LayoutModel",
          "model_module_version": "1.2.0",
          "state": {
            "_model_module": "@jupyter-widgets/base",
            "_model_module_version": "1.2.0",
            "_model_name": "LayoutModel",
            "_view_count": null,
            "_view_module": "@jupyter-widgets/base",
            "_view_module_version": "1.2.0",
            "_view_name": "LayoutView",
            "align_content": null,
            "align_items": null,
            "align_self": null,
            "border": null,
            "bottom": null,
            "display": null,
            "flex": null,
            "flex_flow": null,
            "grid_area": null,
            "grid_auto_columns": null,
            "grid_auto_flow": null,
            "grid_auto_rows": null,
            "grid_column": null,
            "grid_gap": null,
            "grid_row": null,
            "grid_template_areas": null,
            "grid_template_columns": null,
            "grid_template_rows": null,
            "height": null,
            "justify_content": null,
            "justify_items": null,
            "left": null,
            "margin": null,
            "max_height": null,
            "max_width": null,
            "min_height": null,
            "min_width": null,
            "object_fit": null,
            "object_position": null,
            "order": null,
            "overflow": null,
            "overflow_x": null,
            "overflow_y": null,
            "padding": null,
            "right": null,
            "top": null,
            "visibility": null,
            "width": null
          }
        },
        "2538ffaa9ba448a5b765736323f13186": {
          "model_module": "@jupyter-widgets/base",
          "model_name": "LayoutModel",
          "model_module_version": "1.2.0",
          "state": {
            "_model_module": "@jupyter-widgets/base",
            "_model_module_version": "1.2.0",
            "_model_name": "LayoutModel",
            "_view_count": null,
            "_view_module": "@jupyter-widgets/base",
            "_view_module_version": "1.2.0",
            "_view_name": "LayoutView",
            "align_content": null,
            "align_items": null,
            "align_self": null,
            "border": null,
            "bottom": null,
            "display": null,
            "flex": null,
            "flex_flow": null,
            "grid_area": null,
            "grid_auto_columns": null,
            "grid_auto_flow": null,
            "grid_auto_rows": null,
            "grid_column": null,
            "grid_gap": null,
            "grid_row": null,
            "grid_template_areas": null,
            "grid_template_columns": null,
            "grid_template_rows": null,
            "height": null,
            "justify_content": null,
            "justify_items": null,
            "left": null,
            "margin": null,
            "max_height": null,
            "max_width": null,
            "min_height": null,
            "min_width": null,
            "object_fit": null,
            "object_position": null,
            "order": null,
            "overflow": null,
            "overflow_x": null,
            "overflow_y": null,
            "padding": null,
            "right": null,
            "top": null,
            "visibility": null,
            "width": null
          }
        },
        "b80e7139236a474a9bef3047dc5a90d4": {
          "model_module": "@jupyter-widgets/controls",
          "model_name": "DescriptionStyleModel",
          "model_module_version": "1.5.0",
          "state": {
            "_model_module": "@jupyter-widgets/controls",
            "_model_module_version": "1.5.0",
            "_model_name": "DescriptionStyleModel",
            "_view_count": null,
            "_view_module": "@jupyter-widgets/base",
            "_view_module_version": "1.2.0",
            "_view_name": "StyleView",
            "description_width": ""
          }
        },
        "40ffdbd25e5b4bae9c394d79fc9092b3": {
          "model_module": "@jupyter-widgets/base",
          "model_name": "LayoutModel",
          "model_module_version": "1.2.0",
          "state": {
            "_model_module": "@jupyter-widgets/base",
            "_model_module_version": "1.2.0",
            "_model_name": "LayoutModel",
            "_view_count": null,
            "_view_module": "@jupyter-widgets/base",
            "_view_module_version": "1.2.0",
            "_view_name": "LayoutView",
            "align_content": null,
            "align_items": null,
            "align_self": null,
            "border": null,
            "bottom": null,
            "display": null,
            "flex": null,
            "flex_flow": null,
            "grid_area": null,
            "grid_auto_columns": null,
            "grid_auto_flow": null,
            "grid_auto_rows": null,
            "grid_column": null,
            "grid_gap": null,
            "grid_row": null,
            "grid_template_areas": null,
            "grid_template_columns": null,
            "grid_template_rows": null,
            "height": null,
            "justify_content": null,
            "justify_items": null,
            "left": null,
            "margin": null,
            "max_height": null,
            "max_width": null,
            "min_height": null,
            "min_width": null,
            "object_fit": null,
            "object_position": null,
            "order": null,
            "overflow": null,
            "overflow_x": null,
            "overflow_y": null,
            "padding": null,
            "right": null,
            "top": null,
            "visibility": null,
            "width": null
          }
        },
        "ba341e177a254234a799950649e32e52": {
          "model_module": "@jupyter-widgets/controls",
          "model_name": "ProgressStyleModel",
          "model_module_version": "1.5.0",
          "state": {
            "_model_module": "@jupyter-widgets/controls",
            "_model_module_version": "1.5.0",
            "_model_name": "ProgressStyleModel",
            "_view_count": null,
            "_view_module": "@jupyter-widgets/base",
            "_view_module_version": "1.2.0",
            "_view_name": "StyleView",
            "bar_color": null,
            "description_width": ""
          }
        },
        "b1a32a962cf3463ead78b463d26af280": {
          "model_module": "@jupyter-widgets/base",
          "model_name": "LayoutModel",
          "model_module_version": "1.2.0",
          "state": {
            "_model_module": "@jupyter-widgets/base",
            "_model_module_version": "1.2.0",
            "_model_name": "LayoutModel",
            "_view_count": null,
            "_view_module": "@jupyter-widgets/base",
            "_view_module_version": "1.2.0",
            "_view_name": "LayoutView",
            "align_content": null,
            "align_items": null,
            "align_self": null,
            "border": null,
            "bottom": null,
            "display": null,
            "flex": null,
            "flex_flow": null,
            "grid_area": null,
            "grid_auto_columns": null,
            "grid_auto_flow": null,
            "grid_auto_rows": null,
            "grid_column": null,
            "grid_gap": null,
            "grid_row": null,
            "grid_template_areas": null,
            "grid_template_columns": null,
            "grid_template_rows": null,
            "height": null,
            "justify_content": null,
            "justify_items": null,
            "left": null,
            "margin": null,
            "max_height": null,
            "max_width": null,
            "min_height": null,
            "min_width": null,
            "object_fit": null,
            "object_position": null,
            "order": null,
            "overflow": null,
            "overflow_x": null,
            "overflow_y": null,
            "padding": null,
            "right": null,
            "top": null,
            "visibility": null,
            "width": null
          }
        },
        "1fb24094772b4acfaed9923a939adf3e": {
          "model_module": "@jupyter-widgets/controls",
          "model_name": "DescriptionStyleModel",
          "model_module_version": "1.5.0",
          "state": {
            "_model_module": "@jupyter-widgets/controls",
            "_model_module_version": "1.5.0",
            "_model_name": "DescriptionStyleModel",
            "_view_count": null,
            "_view_module": "@jupyter-widgets/base",
            "_view_module_version": "1.2.0",
            "_view_name": "StyleView",
            "description_width": ""
          }
        },
        "ca62ae774b2148068a6d4620948f0334": {
          "model_module": "@jupyter-widgets/controls",
          "model_name": "HBoxModel",
          "model_module_version": "1.5.0",
          "state": {
            "_dom_classes": [],
            "_model_module": "@jupyter-widgets/controls",
            "_model_module_version": "1.5.0",
            "_model_name": "HBoxModel",
            "_view_count": null,
            "_view_module": "@jupyter-widgets/controls",
            "_view_module_version": "1.5.0",
            "_view_name": "HBoxView",
            "box_style": "",
            "children": [
              "IPY_MODEL_ee96681232304e16ac5ea226a5a95996",
              "IPY_MODEL_ddd674c08a01414d8236d0fe81aaf088",
              "IPY_MODEL_de25672f21bc44e6899056d2bd22f818"
            ],
            "layout": "IPY_MODEL_0f29f822d4734290b26da4c0c5e70058"
          }
        },
        "ee96681232304e16ac5ea226a5a95996": {
          "model_module": "@jupyter-widgets/controls",
          "model_name": "HTMLModel",
          "model_module_version": "1.5.0",
          "state": {
            "_dom_classes": [],
            "_model_module": "@jupyter-widgets/controls",
            "_model_module_version": "1.5.0",
            "_model_name": "HTMLModel",
            "_view_count": null,
            "_view_module": "@jupyter-widgets/controls",
            "_view_module_version": "1.5.0",
            "_view_name": "HTMLView",
            "description": "",
            "description_tooltip": null,
            "layout": "IPY_MODEL_641f9ad8f49143748575254f077514d3",
            "placeholder": "​",
            "style": "IPY_MODEL_b5e4141b442c42e6b82965e63708c3cc",
            "value": "Evaluating: 100%"
          }
        },
        "ddd674c08a01414d8236d0fe81aaf088": {
          "model_module": "@jupyter-widgets/controls",
          "model_name": "FloatProgressModel",
          "model_module_version": "1.5.0",
          "state": {
            "_dom_classes": [],
            "_model_module": "@jupyter-widgets/controls",
            "_model_module_version": "1.5.0",
            "_model_name": "FloatProgressModel",
            "_view_count": null,
            "_view_module": "@jupyter-widgets/controls",
            "_view_module_version": "1.5.0",
            "_view_name": "ProgressView",
            "bar_style": "success",
            "description": "",
            "description_tooltip": null,
            "layout": "IPY_MODEL_04a158c8562c4e9d812982a0745d1d3f",
            "max": 2,
            "min": 0,
            "orientation": "horizontal",
            "style": "IPY_MODEL_3c6151d9a8c24549b276483657c85266",
            "value": 2
          }
        },
        "de25672f21bc44e6899056d2bd22f818": {
          "model_module": "@jupyter-widgets/controls",
          "model_name": "HTMLModel",
          "model_module_version": "1.5.0",
          "state": {
            "_dom_classes": [],
            "_model_module": "@jupyter-widgets/controls",
            "_model_module_version": "1.5.0",
            "_model_name": "HTMLModel",
            "_view_count": null,
            "_view_module": "@jupyter-widgets/controls",
            "_view_module_version": "1.5.0",
            "_view_name": "HTMLView",
            "description": "",
            "description_tooltip": null,
            "layout": "IPY_MODEL_4f7ef81ce67c4c40b95a0aa80a937176",
            "placeholder": "​",
            "style": "IPY_MODEL_7c8a61ea38454b02be1117b9b8f833a3",
            "value": " 2/2 [00:00&lt;00:00,  3.96it/s]"
          }
        },
        "0f29f822d4734290b26da4c0c5e70058": {
          "model_module": "@jupyter-widgets/base",
          "model_name": "LayoutModel",
          "model_module_version": "1.2.0",
          "state": {
            "_model_module": "@jupyter-widgets/base",
            "_model_module_version": "1.2.0",
            "_model_name": "LayoutModel",
            "_view_count": null,
            "_view_module": "@jupyter-widgets/base",
            "_view_module_version": "1.2.0",
            "_view_name": "LayoutView",
            "align_content": null,
            "align_items": null,
            "align_self": null,
            "border": null,
            "bottom": null,
            "display": null,
            "flex": null,
            "flex_flow": null,
            "grid_area": null,
            "grid_auto_columns": null,
            "grid_auto_flow": null,
            "grid_auto_rows": null,
            "grid_column": null,
            "grid_gap": null,
            "grid_row": null,
            "grid_template_areas": null,
            "grid_template_columns": null,
            "grid_template_rows": null,
            "height": null,
            "justify_content": null,
            "justify_items": null,
            "left": null,
            "margin": null,
            "max_height": null,
            "max_width": null,
            "min_height": null,
            "min_width": null,
            "object_fit": null,
            "object_position": null,
            "order": null,
            "overflow": null,
            "overflow_x": null,
            "overflow_y": null,
            "padding": null,
            "right": null,
            "top": null,
            "visibility": null,
            "width": null
          }
        },
        "641f9ad8f49143748575254f077514d3": {
          "model_module": "@jupyter-widgets/base",
          "model_name": "LayoutModel",
          "model_module_version": "1.2.0",
          "state": {
            "_model_module": "@jupyter-widgets/base",
            "_model_module_version": "1.2.0",
            "_model_name": "LayoutModel",
            "_view_count": null,
            "_view_module": "@jupyter-widgets/base",
            "_view_module_version": "1.2.0",
            "_view_name": "LayoutView",
            "align_content": null,
            "align_items": null,
            "align_self": null,
            "border": null,
            "bottom": null,
            "display": null,
            "flex": null,
            "flex_flow": null,
            "grid_area": null,
            "grid_auto_columns": null,
            "grid_auto_flow": null,
            "grid_auto_rows": null,
            "grid_column": null,
            "grid_gap": null,
            "grid_row": null,
            "grid_template_areas": null,
            "grid_template_columns": null,
            "grid_template_rows": null,
            "height": null,
            "justify_content": null,
            "justify_items": null,
            "left": null,
            "margin": null,
            "max_height": null,
            "max_width": null,
            "min_height": null,
            "min_width": null,
            "object_fit": null,
            "object_position": null,
            "order": null,
            "overflow": null,
            "overflow_x": null,
            "overflow_y": null,
            "padding": null,
            "right": null,
            "top": null,
            "visibility": null,
            "width": null
          }
        },
        "b5e4141b442c42e6b82965e63708c3cc": {
          "model_module": "@jupyter-widgets/controls",
          "model_name": "DescriptionStyleModel",
          "model_module_version": "1.5.0",
          "state": {
            "_model_module": "@jupyter-widgets/controls",
            "_model_module_version": "1.5.0",
            "_model_name": "DescriptionStyleModel",
            "_view_count": null,
            "_view_module": "@jupyter-widgets/base",
            "_view_module_version": "1.2.0",
            "_view_name": "StyleView",
            "description_width": ""
          }
        },
        "04a158c8562c4e9d812982a0745d1d3f": {
          "model_module": "@jupyter-widgets/base",
          "model_name": "LayoutModel",
          "model_module_version": "1.2.0",
          "state": {
            "_model_module": "@jupyter-widgets/base",
            "_model_module_version": "1.2.0",
            "_model_name": "LayoutModel",
            "_view_count": null,
            "_view_module": "@jupyter-widgets/base",
            "_view_module_version": "1.2.0",
            "_view_name": "LayoutView",
            "align_content": null,
            "align_items": null,
            "align_self": null,
            "border": null,
            "bottom": null,
            "display": null,
            "flex": null,
            "flex_flow": null,
            "grid_area": null,
            "grid_auto_columns": null,
            "grid_auto_flow": null,
            "grid_auto_rows": null,
            "grid_column": null,
            "grid_gap": null,
            "grid_row": null,
            "grid_template_areas": null,
            "grid_template_columns": null,
            "grid_template_rows": null,
            "height": null,
            "justify_content": null,
            "justify_items": null,
            "left": null,
            "margin": null,
            "max_height": null,
            "max_width": null,
            "min_height": null,
            "min_width": null,
            "object_fit": null,
            "object_position": null,
            "order": null,
            "overflow": null,
            "overflow_x": null,
            "overflow_y": null,
            "padding": null,
            "right": null,
            "top": null,
            "visibility": null,
            "width": null
          }
        },
        "3c6151d9a8c24549b276483657c85266": {
          "model_module": "@jupyter-widgets/controls",
          "model_name": "ProgressStyleModel",
          "model_module_version": "1.5.0",
          "state": {
            "_model_module": "@jupyter-widgets/controls",
            "_model_module_version": "1.5.0",
            "_model_name": "ProgressStyleModel",
            "_view_count": null,
            "_view_module": "@jupyter-widgets/base",
            "_view_module_version": "1.2.0",
            "_view_name": "StyleView",
            "bar_color": null,
            "description_width": ""
          }
        },
        "4f7ef81ce67c4c40b95a0aa80a937176": {
          "model_module": "@jupyter-widgets/base",
          "model_name": "LayoutModel",
          "model_module_version": "1.2.0",
          "state": {
            "_model_module": "@jupyter-widgets/base",
            "_model_module_version": "1.2.0",
            "_model_name": "LayoutModel",
            "_view_count": null,
            "_view_module": "@jupyter-widgets/base",
            "_view_module_version": "1.2.0",
            "_view_name": "LayoutView",
            "align_content": null,
            "align_items": null,
            "align_self": null,
            "border": null,
            "bottom": null,
            "display": null,
            "flex": null,
            "flex_flow": null,
            "grid_area": null,
            "grid_auto_columns": null,
            "grid_auto_flow": null,
            "grid_auto_rows": null,
            "grid_column": null,
            "grid_gap": null,
            "grid_row": null,
            "grid_template_areas": null,
            "grid_template_columns": null,
            "grid_template_rows": null,
            "height": null,
            "justify_content": null,
            "justify_items": null,
            "left": null,
            "margin": null,
            "max_height": null,
            "max_width": null,
            "min_height": null,
            "min_width": null,
            "object_fit": null,
            "object_position": null,
            "order": null,
            "overflow": null,
            "overflow_x": null,
            "overflow_y": null,
            "padding": null,
            "right": null,
            "top": null,
            "visibility": null,
            "width": null
          }
        },
        "7c8a61ea38454b02be1117b9b8f833a3": {
          "model_module": "@jupyter-widgets/controls",
          "model_name": "DescriptionStyleModel",
          "model_module_version": "1.5.0",
          "state": {
            "_model_module": "@jupyter-widgets/controls",
            "_model_module_version": "1.5.0",
            "_model_name": "DescriptionStyleModel",
            "_view_count": null,
            "_view_module": "@jupyter-widgets/base",
            "_view_module_version": "1.2.0",
            "_view_name": "StyleView",
            "description_width": ""
          }
        }
      }
    },
    "gpuClass": "standard"
  },
  "cells": [
    {
      "cell_type": "markdown",
      "metadata": {
        "id": "view-in-github",
        "colab_type": "text"
      },
      "source": [
        "<a href=\"https://colab.research.google.com/github/ethvedbitdesjan/NLP/blob/main/Fine_tuning_LayoutLMv2.ipynb\" target=\"_parent\"><img src=\"https://colab.research.google.com/assets/colab-badge.svg\" alt=\"Open In Colab\"/></a>"
      ]
    },
    {
      "cell_type": "markdown",
      "metadata": {
        "id": "Z7E3hFdIQBYu"
      },
      "source": [
        "In this notebook, we are going to fine-tune `LayoutLMv2ForTokenClassification` on the [CORD](https://github.com/clovaai/cord) dataset. The goal for the model is to label words appearing in scanned documents (namely, receipts) appropriately. This task is treated as a NER problem (sequence labeling). However, compared to BERT, LayoutLMv2 also incorporates visual and layout information about the tokens when encoding them into vectors. This makes the LayoutLMv2 model very powerful for document understanding tasks.\n",
        "\n",
        "LayoutLMv2 is itself an upgrade of LayoutLM. The main novelty of LayoutLMv2 is that it also pre-trains visual embeddings, whereas the original LayoutLM only adds visual embeddings during fine-tuning.\n",
        "\n",
        "* Paper: https://arxiv.org/abs/2012.14740\n",
        "* Original repo: https://github.com/microsoft/unilm/tree/master/layoutlmv2\n",
        "\n",
        "NOTES: \n",
        "\n",
        "* you first need to prepare the CORD dataset for LayoutLMv2. For that, check out the notebook \"Prepare CORD for LayoutLMv2\".\n",
        "* this notebook is heavily inspired by [this Github repository](https://github.com/omarsou/layoutlm_CORD), which fine-tunes both BERT and LayoutLM (v1) on the CORD dataset.\n",
        "\n",
        "\n",
        "\n",
        "## Install dependencies\n",
        "\n",
        "First, we install the required libraries:\n",
        "* Transformers (for the LayoutLMv2 model)\n",
        "* Datasets (for data preprocessing)\n",
        "* Seqeval (for metrics)\n",
        "* Detectron2 (which LayoutLMv2 requires for its visual backbone).\n",
        "\n"
      ]
    },
    {
      "cell_type": "code",
      "metadata": {
        "colab": {
          "base_uri": "https://localhost:8080/"
        },
        "id": "vL18fbJlmXn8",
        "outputId": "3c622ac6-ee34-4d42-de9d-95113906276a"
      },
      "source": [
        "!rm -r transformers\n",
        "!git clone -b modeling_layoutlmv2_v2 https://github.com/NielsRogge/transformers.git\n",
        "!cd tranformers\n",
        "!pip install -q ./transformers"
      ],
      "execution_count": 1,
      "outputs": [
        {
          "output_type": "stream",
          "name": "stdout",
          "text": [
            "Cloning into 'transformers'...\n",
            "remote: Enumerating objects: 156369, done.\u001b[K\n",
            "remote: Total 156369 (delta 0), reused 0 (delta 0), pack-reused 156369\u001b[K\n",
            "Receiving objects: 100% (156369/156369), 128.35 MiB | 16.42 MiB/s, done.\n",
            "Resolving deltas: 100% (116133/116133), done.\n",
            "/bin/bash: line 0: cd: tranformers: No such file or directory\n",
            "\u001b[33m  DEPRECATION: A future pip version will change local packages to be built in-place without first copying to a temporary directory. We recommend you use --use-feature=in-tree-build to test your packages with this new behavior before it becomes the default.\n",
            "   pip 21.3 will remove support for this functionality. You can find discussion regarding this at https://github.com/pypa/pip/issues/7555.\u001b[0m\n",
            "  Installing build dependencies ... \u001b[?25l\u001b[?25hdone\n",
            "  Getting requirements to build wheel ... \u001b[?25l\u001b[?25hdone\n",
            "    Preparing wheel metadata ... \u001b[?25l\u001b[?25hdone\n",
            "  Building wheel for transformers (PEP 517) ... \u001b[?25l\u001b[?25hdone\n"
          ]
        }
      ]
    },
    {
      "cell_type": "code",
      "metadata": {
        "id": "Byx9C8bmGVLe"
      },
      "source": [
        "!pip install -q datasets seqeval"
      ],
      "execution_count": 2,
      "outputs": []
    },
    {
      "cell_type": "code",
      "source": [
        "\"\"\"\n",
        "!sudo apt install tesseract-ocr\n",
        "!pip install pytesseract\n",
        "\"\"\""
      ],
      "metadata": {
        "colab": {
          "base_uri": "https://localhost:8080/",
          "height": 36
        },
        "id": "lMQ-CnX3FhMH",
        "outputId": "2318b00a-d260-459d-bf3a-73466306804c"
      },
      "execution_count": 3,
      "outputs": [
        {
          "output_type": "execute_result",
          "data": {
            "text/plain": [
              "'\\n!sudo apt install tesseract-ocr\\n!pip install pytesseract\\n'"
            ],
            "application/vnd.google.colaboratory.intrinsic+json": {
              "type": "string"
            }
          },
          "metadata": {},
          "execution_count": 3
        }
      ]
    },
    {
      "cell_type": "code",
      "metadata": {
        "colab": {
          "base_uri": "https://localhost:8080/",
          "height": 88
        },
        "id": "B1CNb7_MP2Z-",
        "outputId": "7130729b-267e-4d75-a267-a88b2b3e6efd"
      },
      "source": [
        "\"\"\"\n",
        "!pip install pyyaml==5.1\n",
        "# workaround: install old version of pytorch since detectron2 hasn't released packages for pytorch 1.9 (issue: https://github.com/facebookresearch/detectron2/issues/3158)\n",
        "!pip install torch==1.8.0+cu101 torchvision==0.9.0+cu101 -f https://download.pytorch.org/whl/torch_stable.html\n",
        "\n",
        "# install detectron2 that matches pytorch 1.8\n",
        "# See https://detectron2.readthedocs.io/tutorials/install.html for instructions\n",
        "!pip install -q detectron2 -f https://dl.fbaipublicfiles.com/detectron2/wheels/cu101/torch1.8/index.html\n",
        "# exit(0)  # After installation, you need to \"restart runtime\" in Colab. This line can also restart runtime\n",
        "\"\"\""
      ],
      "execution_count": 4,
      "outputs": [
        {
          "output_type": "execute_result",
          "data": {
            "text/plain": [
              "'\\n!pip install pyyaml==5.1\\n# workaround: install old version of pytorch since detectron2 hasn\\'t released packages for pytorch 1.9 (issue: https://github.com/facebookresearch/detectron2/issues/3158)\\n!pip install torch==1.8.0+cu101 torchvision==0.9.0+cu101 -f https://download.pytorch.org/whl/torch_stable.html\\n\\n# install detectron2 that matches pytorch 1.8\\n# See https://detectron2.readthedocs.io/tutorials/install.html for instructions\\n!pip install -q detectron2 -f https://dl.fbaipublicfiles.com/detectron2/wheels/cu101/torch1.8/index.html\\n# exit(0)  # After installation, you need to \"restart runtime\" in Colab. This line can also restart runtime\\n'"
            ],
            "application/vnd.google.colaboratory.intrinsic+json": {
              "type": "string"
            }
          },
          "metadata": {},
          "execution_count": 4
        }
      ]
    },
    {
      "cell_type": "code",
      "source": [
        "import torch\n",
        "print(torch.__version__)"
      ],
      "metadata": {
        "colab": {
          "base_uri": "https://localhost:8080/"
        },
        "id": "OyGdI8UT5Xk-",
        "outputId": "8f380d45-6949-4d06-e950-8810f490ec2a"
      },
      "execution_count": 5,
      "outputs": [
        {
          "output_type": "stream",
          "name": "stdout",
          "text": [
            "1.8.0+cu101\n"
          ]
        }
      ]
    },
    {
      "cell_type": "markdown",
      "metadata": {
        "id": "iOxLV0JnQJWJ"
      },
      "source": [
        "## Prepare the data\n",
        "\n",
        "First, let's read in the annotations which we prepared in the other notebook. These contain the word-level annotations (words, labels, normalized bounding boxes)."
      ]
    },
    {
      "cell_type": "code",
      "source": [
        "from google.colab import drive\n",
        "drive.mount('/content/gdrive/')"
      ],
      "metadata": {
        "colab": {
          "base_uri": "https://localhost:8080/"
        },
        "id": "4q2w4Aw-5dsT",
        "outputId": "b8405a70-bcee-4fa8-9659-3675f83614dd"
      },
      "execution_count": 6,
      "outputs": [
        {
          "output_type": "stream",
          "name": "stdout",
          "text": [
            "Drive already mounted at /content/gdrive/; to attempt to forcibly remount, call drive.mount(\"/content/gdrive/\", force_remount=True).\n"
          ]
        }
      ]
    },
    {
      "cell_type": "code",
      "source": [
        "%cd '/content/gdrive/MyDrive/Resume_Info_Extraction/'"
      ],
      "metadata": {
        "colab": {
          "base_uri": "https://localhost:8080/"
        },
        "id": "Gep16FjZ5m55",
        "outputId": "7c29e670-e069-43a1-9437-c3f864706a66"
      },
      "execution_count": 7,
      "outputs": [
        {
          "output_type": "stream",
          "name": "stdout",
          "text": [
            "/content/gdrive/MyDrive/Resume_Info_Extraction\n"
          ]
        }
      ]
    },
    {
      "cell_type": "code",
      "metadata": {
        "id": "f4ZyOsDcEGQL"
      },
      "source": [
        "import pandas as pd\n",
        "\n",
        "train = pd.read_pickle('train.pkl')\n",
        "test = pd.read_pickle('test.pkl')"
      ],
      "execution_count": 8,
      "outputs": []
    },
    {
      "cell_type": "markdown",
      "metadata": {
        "id": "1cXWGK_yOuOf"
      },
      "source": [
        "Let's define a list of all unique labels. For that, let's first count the number of occurrences for each label:"
      ]
    },
    {
      "cell_type": "code",
      "metadata": {
        "colab": {
          "base_uri": "https://localhost:8080/"
        },
        "id": "1RJLFClPIYjt",
        "outputId": "506317ee-b0a4-471c-b7ba-a65d1dd2637d"
      },
      "source": [
        "from collections import Counter\n",
        "\n",
        "all_labels = [item for sublist in train[3] for item in sublist] + [item for sublist in test[3] for item in sublist]\n",
        "Counter(all_labels)"
      ],
      "execution_count": 9,
      "outputs": [
        {
          "output_type": "execute_result",
          "data": {
            "text/plain": [
              "Counter({'Name': 17,\n",
              "         'Other': 148,\n",
              "         'Universities': 23,\n",
              "         'Skills': 46,\n",
              "         'Past_Companies': 45,\n",
              "         'Email': 14,\n",
              "         'Phone': 14,\n",
              "         'Degrees': 26,\n",
              "         'Designations': 54})"
            ]
          },
          "metadata": {},
          "execution_count": 9
        }
      ]
    },
    {
      "cell_type": "markdown",
      "metadata": {
        "id": "h5jvOQR2Ivs5"
      },
      "source": [
        "As we can see, there are some labels that contain very few examples. Let's replace them by the \"neutral\" label \"O\" (which stands for \"Outside\")."
      ]
    },
    {
      "cell_type": "code",
      "metadata": {
        "colab": {
          "base_uri": "https://localhost:8080/"
        },
        "id": "YIN8ptH4JD3T",
        "outputId": "030b8bc7-4d6e-48ca-f70f-9158fd6f199c"
      },
      "source": [
        "all_labels = [item for sublist in train[3] for item in sublist] + [item for sublist in test[3] for item in sublist]\n",
        "Counter(all_labels)"
      ],
      "execution_count": 10,
      "outputs": [
        {
          "output_type": "execute_result",
          "data": {
            "text/plain": [
              "Counter({'Name': 17,\n",
              "         'Other': 148,\n",
              "         'Universities': 23,\n",
              "         'Skills': 46,\n",
              "         'Past_Companies': 45,\n",
              "         'Email': 14,\n",
              "         'Phone': 14,\n",
              "         'Degrees': 26,\n",
              "         'Designations': 54})"
            ]
          },
          "metadata": {},
          "execution_count": 10
        }
      ]
    },
    {
      "cell_type": "markdown",
      "metadata": {
        "id": "shn-dMRbJGuu"
      },
      "source": [
        "Now we have to save all the unique labels in a list."
      ]
    },
    {
      "cell_type": "code",
      "metadata": {
        "colab": {
          "base_uri": "https://localhost:8080/"
        },
        "id": "EyK3lnaCJHWn",
        "outputId": "2524998e-b887-4b05-f1b1-6bcaef73fa79"
      },
      "source": [
        "labels = list(set(all_labels))\n",
        "print(labels)"
      ],
      "execution_count": 11,
      "outputs": [
        {
          "output_type": "stream",
          "name": "stdout",
          "text": [
            "['Name', 'Phone', 'Email', 'Degrees', 'Designations', 'Skills', 'Universities', 'Other', 'Past_Companies']\n"
          ]
        }
      ]
    },
    {
      "cell_type": "code",
      "metadata": {
        "colab": {
          "base_uri": "https://localhost:8080/"
        },
        "id": "lvYHvmk1J2a2",
        "outputId": "168dda79-49be-41c1-da8f-a65f79e32555"
      },
      "source": [
        "label2id = {label: idx for idx, label in enumerate(labels)}\n",
        "id2label = {idx: label for idx, label in enumerate(labels)}\n",
        "print(label2id)\n",
        "print(id2label)"
      ],
      "execution_count": 12,
      "outputs": [
        {
          "output_type": "stream",
          "name": "stdout",
          "text": [
            "{'Name': 0, 'Phone': 1, 'Email': 2, 'Degrees': 3, 'Designations': 4, 'Skills': 5, 'Universities': 6, 'Other': 7, 'Past_Companies': 8}\n",
            "{0: 'Name', 1: 'Phone', 2: 'Email', 3: 'Degrees', 4: 'Designations', 5: 'Skills', 6: 'Universities', 7: 'Other', 8: 'Past_Companies'}\n"
          ]
        }
      ]
    },
    {
      "cell_type": "code",
      "metadata": {
        "id": "Gq5CmIRZUy9O"
      },
      "source": [
        "\n",
        "from os import listdir\n",
        "from torch.utils.data import Dataset\n",
        "import torch\n",
        "from PIL import Image\n",
        "\n",
        "class ResumeDataset(Dataset):\n",
        "    \"\"\"CORD dataset.\"\"\"\n",
        "\n",
        "    def __init__(self, annotations, image_dir, processor=None, max_length=512):\n",
        "        \"\"\"\n",
        "        Args:\n",
        "            annotations (List[List]): List of lists containing the word-level annotations (words, labels, boxes).\n",
        "            image_dir (string): Directory with all the document images.\n",
        "            processor (LayoutLMv2Processor): Processor to prepare the text + image.\n",
        "        \"\"\"\n",
        "        image_file_names_temp, self.words, self.boxes, self.labels = annotations\n",
        "        self.image_dir = image_dir\n",
        "        self.image_file_names = [f[-10:] for f in image_file_names_temp]\n",
        "        self.processor = processor\n",
        "\n",
        "    def __len__(self):\n",
        "        return len(self.image_file_names)\n",
        "\n",
        "    def __getitem__(self, idx):\n",
        "        # first, take an image\n",
        "        item = self.image_file_names[idx]\n",
        "        image = Image.open(self.image_dir + item).convert(\"RGB\")\n",
        "\n",
        "        # get word-level annotations \n",
        "        words = self.words[idx]\n",
        "        boxes = self.boxes[idx]\n",
        "        word_labels = self.labels[idx]\n",
        "\n",
        "        assert len(words) == len(boxes) == len(word_labels)\n",
        "        \n",
        "        word_labels = [label2id[label] for label in word_labels]\n",
        "        # use processor to prepare everything\n",
        "        encoded_inputs = self.processor(image, words, boxes=boxes, word_labels=word_labels, \n",
        "                                        padding=\"max_length\", truncation=True, \n",
        "                                        return_tensors=\"pt\")\n",
        "        \n",
        "        # remove batch dimension\n",
        "        for k,v in encoded_inputs.items():\n",
        "          encoded_inputs[k] = v.squeeze()\n",
        "\n",
        "        assert encoded_inputs.input_ids.shape == torch.Size([512])\n",
        "        assert encoded_inputs.attention_mask.shape == torch.Size([512])\n",
        "        assert encoded_inputs.token_type_ids.shape == torch.Size([512])\n",
        "        assert encoded_inputs.bbox.shape == torch.Size([512, 4])\n",
        "        assert encoded_inputs.image.shape == torch.Size([3, 224, 224])\n",
        "        assert encoded_inputs.labels.shape == torch.Size([512]) \n",
        "      \n",
        "        return encoded_inputs"
      ],
      "execution_count": 13,
      "outputs": []
    },
    {
      "cell_type": "code",
      "metadata": {
        "id": "izA9k5e-egyy"
      },
      "source": [
        "from transformers import LayoutLMv2Processor\n",
        "\n",
        "processor = LayoutLMv2Processor.from_pretrained(\"microsoft/layoutlmv2-base-uncased\", revision=\"no_ocr\")\n",
        "\n",
        "train_dataset = ResumeDataset(annotations=train,\n",
        "                            image_dir='/content/gdrive/MyDrive/Resume_Info_Extraction/Images/', \n",
        "                            processor=processor)\n",
        "test_dataset = ResumeDataset(annotations=test,\n",
        "                            image_dir='/content/gdrive/MyDrive/Resume_Info_Extraction/Images/', \n",
        "                            processor=processor)"
      ],
      "execution_count": 14,
      "outputs": []
    },
    {
      "cell_type": "markdown",
      "metadata": {
        "id": "9qGt51RyetD2"
      },
      "source": [
        "Let's verify an example:"
      ]
    },
    {
      "cell_type": "code",
      "metadata": {
        "colab": {
          "base_uri": "https://localhost:8080/"
        },
        "id": "pHg2--KMeuRN",
        "outputId": "2ef6a959-2784-49e7-d580-fbace9ad428f"
      },
      "source": [
        "encoding = train_dataset[0]\n",
        "encoding.keys()"
      ],
      "execution_count": 15,
      "outputs": [
        {
          "output_type": "execute_result",
          "data": {
            "text/plain": [
              "dict_keys(['input_ids', 'token_type_ids', 'attention_mask', 'bbox', 'labels', 'image'])"
            ]
          },
          "metadata": {},
          "execution_count": 15
        }
      ]
    },
    {
      "cell_type": "code",
      "metadata": {
        "colab": {
          "base_uri": "https://localhost:8080/"
        },
        "id": "6bpvNOncff8J",
        "outputId": "a7ce6d00-748e-4b47-c0ba-f8cdfa315bc6"
      },
      "source": [
        "for k,v in encoding.items():\n",
        "  print(k, v.shape)"
      ],
      "execution_count": 16,
      "outputs": [
        {
          "output_type": "stream",
          "name": "stdout",
          "text": [
            "input_ids torch.Size([512])\n",
            "token_type_ids torch.Size([512])\n",
            "attention_mask torch.Size([512])\n",
            "bbox torch.Size([512, 4])\n",
            "labels torch.Size([512])\n",
            "image torch.Size([3, 224, 224])\n"
          ]
        }
      ]
    },
    {
      "cell_type": "code",
      "metadata": {
        "colab": {
          "base_uri": "https://localhost:8080/"
        },
        "id": "Uxnt2KXBMSxn",
        "outputId": "b5c7ef50-9a2c-4c2b-b2c2-d1d07f5d152e"
      },
      "source": [
        "print(processor.tokenizer.decode(encoding['input_ids']))"
      ],
      "execution_count": 17,
      "outputs": [
        {
          "output_type": "stream",
          "name": "stdout",
          "text": [
            "[CLS] nicole winowiec objective education university of colorado boulder grand valley state university license state of colorado professional teaching license expires : 3 / 2016 special education generalist state of michigan teaching license expires : 6 / 2014 special education k - 12 general education k - 5 endorsements : cognitive impairment & emotional impairment accomplishments + initiated, developed, and taught school to work program at horizon hs + nominee for the iva dean cook teacher of the year award ( through dcdt ) seedpaths llc colorado disability benefit supports program winowien @ gmail. com ( 586 ) 855 - 2445 masters in curriculum and instruction, math and science psychology / special education major director of employment disability advocate [SEP] [PAD] [PAD] [PAD] [PAD] [PAD] [PAD] [PAD] [PAD] [PAD] [PAD] [PAD] [PAD] [PAD] [PAD] [PAD] [PAD] [PAD] [PAD] [PAD] [PAD] [PAD] [PAD] [PAD] [PAD] [PAD] [PAD] [PAD] [PAD] [PAD] [PAD] [PAD] [PAD] [PAD] [PAD] [PAD] [PAD] [PAD] [PAD] [PAD] [PAD] [PAD] [PAD] [PAD] [PAD] [PAD] [PAD] [PAD] [PAD] [PAD] [PAD] [PAD] [PAD] [PAD] [PAD] [PAD] [PAD] [PAD] [PAD] [PAD] [PAD] [PAD] [PAD] [PAD] [PAD] [PAD] [PAD] [PAD] [PAD] [PAD] [PAD] [PAD] [PAD] [PAD] [PAD] [PAD] [PAD] [PAD] [PAD] [PAD] [PAD] [PAD] [PAD] [PAD] [PAD] [PAD] [PAD] [PAD] [PAD] [PAD] [PAD] [PAD] [PAD] [PAD] [PAD] [PAD] [PAD] [PAD] [PAD] [PAD] [PAD] [PAD] [PAD] [PAD] [PAD] [PAD] [PAD] [PAD] [PAD] [PAD] [PAD] [PAD] [PAD] [PAD] [PAD] [PAD] [PAD] [PAD] [PAD] [PAD] [PAD] [PAD] [PAD] [PAD] [PAD] [PAD] [PAD] [PAD] [PAD] [PAD] [PAD] [PAD] [PAD] [PAD] [PAD] [PAD] [PAD] [PAD] [PAD] [PAD] [PAD] [PAD] [PAD] [PAD] [PAD] [PAD] [PAD] [PAD] [PAD] [PAD] [PAD] [PAD] [PAD] [PAD] [PAD] [PAD] [PAD] [PAD] [PAD] [PAD] [PAD] [PAD] [PAD] [PAD] [PAD] [PAD] [PAD] [PAD] [PAD] [PAD] [PAD] [PAD] [PAD] [PAD] [PAD] [PAD] [PAD] [PAD] [PAD] [PAD] [PAD] [PAD] [PAD] [PAD] [PAD] [PAD] [PAD] [PAD] [PAD] [PAD] [PAD] [PAD] [PAD] [PAD] [PAD] [PAD] [PAD] [PAD] [PAD] [PAD] [PAD] [PAD] [PAD] [PAD] [PAD] [PAD] [PAD] [PAD] [PAD] [PAD] [PAD] [PAD] [PAD] [PAD] [PAD] [PAD] [PAD] [PAD] [PAD] [PAD] [PAD] [PAD] [PAD] [PAD] [PAD] [PAD] [PAD] [PAD] [PAD] [PAD] [PAD] [PAD] [PAD] [PAD] [PAD] [PAD] [PAD] [PAD] [PAD] [PAD] [PAD] [PAD] [PAD] [PAD] [PAD] [PAD] [PAD] [PAD] [PAD] [PAD] [PAD] [PAD] [PAD] [PAD] [PAD] [PAD] [PAD] [PAD] [PAD] [PAD] [PAD] [PAD] [PAD] [PAD] [PAD] [PAD] [PAD] [PAD] [PAD] [PAD] [PAD] [PAD] [PAD] [PAD] [PAD] [PAD] [PAD] [PAD] [PAD] [PAD] [PAD] [PAD] [PAD] [PAD] [PAD] [PAD] [PAD] [PAD] [PAD] [PAD] [PAD] [PAD] [PAD] [PAD] [PAD] [PAD] [PAD] [PAD] [PAD] [PAD] [PAD] [PAD] [PAD] [PAD] [PAD] [PAD] [PAD] [PAD] [PAD] [PAD] [PAD] [PAD] [PAD] [PAD] [PAD] [PAD] [PAD] [PAD] [PAD] [PAD] [PAD] [PAD] [PAD] [PAD] [PAD] [PAD] [PAD] [PAD] [PAD] [PAD] [PAD] [PAD] [PAD] [PAD] [PAD] [PAD] [PAD] [PAD] [PAD] [PAD] [PAD] [PAD] [PAD] [PAD] [PAD] [PAD] [PAD] [PAD] [PAD] [PAD] [PAD] [PAD] [PAD] [PAD] [PAD] [PAD] [PAD] [PAD] [PAD] [PAD] [PAD] [PAD] [PAD] [PAD] [PAD] [PAD] [PAD] [PAD] [PAD] [PAD] [PAD]\n"
          ]
        }
      ]
    },
    {
      "cell_type": "code",
      "metadata": {
        "colab": {
          "base_uri": "https://localhost:8080/"
        },
        "id": "3Ct1Ut9trlbn",
        "outputId": "2f5de2d1-33f7-41e1-d63e-c5ed079a972e"
      },
      "source": [
        "train[1][0]"
      ],
      "execution_count": 18,
      "outputs": [
        {
          "output_type": "execute_result",
          "data": {
            "text/plain": [
              "['Nicole Winowiec',\n",
              " 'Objective',\n",
              " 'Education',\n",
              " 'University of Colorado Boulder',\n",
              " 'Grand Valley State University',\n",
              " 'License',\n",
              " 'State of Colorado Professional Teaching License Expires: 3/2016  Special Education Generalist',\n",
              " 'State of Michigan Teaching License Expires: 6/2014  Special Education k-12 General Education k-5  Endorsements: Cognitive Impairment & Emotional Impairment',\n",
              " 'Accomplishments  + Initiated, developed, and taught School to Work program at Horizon HS  + Nominee for the Iva Dean Cook Teacher of the Year Award (through DCDT)',\n",
              " 'SeedPaths LLC',\n",
              " 'Colorado Disability Benefit Supports Program',\n",
              " 'Winowien@gmail.com',\n",
              " '(586) 855-2445',\n",
              " 'Masters in Curriculum and Instruction, Math and Science',\n",
              " 'Psychology/ Special Education Major',\n",
              " 'Director of Employment',\n",
              " 'Disability Advocate']"
            ]
          },
          "metadata": {},
          "execution_count": 18
        }
      ]
    },
    {
      "cell_type": "code",
      "metadata": {
        "colab": {
          "base_uri": "https://localhost:8080/"
        },
        "id": "vFzAqOpUrojk",
        "outputId": "18830c72-ec1b-4745-d447-d43b69bb5471"
      },
      "source": [
        "train[3][0]"
      ],
      "execution_count": 19,
      "outputs": [
        {
          "output_type": "execute_result",
          "data": {
            "text/plain": [
              "['Name',\n",
              " 'Other',\n",
              " 'Other',\n",
              " 'Other',\n",
              " 'Universities',\n",
              " 'Other',\n",
              " 'Skills',\n",
              " 'Skills',\n",
              " 'Other',\n",
              " 'Past_Companies',\n",
              " 'Past_Companies',\n",
              " 'Email',\n",
              " 'Phone',\n",
              " 'Degrees',\n",
              " 'Degrees',\n",
              " 'Designations',\n",
              " 'Designations']"
            ]
          },
          "metadata": {},
          "execution_count": 19
        }
      ]
    },
    {
      "cell_type": "code",
      "metadata": {
        "colab": {
          "base_uri": "https://localhost:8080/"
        },
        "id": "laq33rnBri4T",
        "outputId": "ea363db5-7936-44bd-ee6e-0f93cfeb59f6"
      },
      "source": [
        "[id2label[label] for label in encoding['labels'].tolist() if label != -100]"
      ],
      "execution_count": 20,
      "outputs": [
        {
          "output_type": "execute_result",
          "data": {
            "text/plain": [
              "['Name',\n",
              " 'Other',\n",
              " 'Other',\n",
              " 'Other',\n",
              " 'Universities',\n",
              " 'Other',\n",
              " 'Skills',\n",
              " 'Skills',\n",
              " 'Other',\n",
              " 'Past_Companies',\n",
              " 'Past_Companies',\n",
              " 'Email',\n",
              " 'Phone',\n",
              " 'Degrees',\n",
              " 'Degrees',\n",
              " 'Designations',\n",
              " 'Designations']"
            ]
          },
          "metadata": {},
          "execution_count": 20
        }
      ]
    },
    {
      "cell_type": "code",
      "metadata": {
        "colab": {
          "base_uri": "https://localhost:8080/"
        },
        "id": "qkCH2Q-_MnRV",
        "outputId": "6bc4bb19-9753-405a-d66a-3e580c9324db"
      },
      "source": [
        "for id, label in zip(encoding['input_ids'][:30], encoding['labels'][:30]):\n",
        "  print(processor.tokenizer.decode([id]), label.item())"
      ],
      "execution_count": 21,
      "outputs": [
        {
          "output_type": "stream",
          "name": "stdout",
          "text": [
            "[CLS] -100\n",
            "nicole 0\n",
            "win -100\n",
            "##ow -100\n",
            "##iec -100\n",
            "objective 7\n",
            "education 7\n",
            "university 7\n",
            "of -100\n",
            "colorado -100\n",
            "boulder -100\n",
            "grand 6\n",
            "valley -100\n",
            "state -100\n",
            "university -100\n",
            "license 7\n",
            "state 5\n",
            "of -100\n",
            "colorado -100\n",
            "professional -100\n",
            "teaching -100\n",
            "license -100\n",
            "ex -100\n",
            "##pire -100\n",
            "##s -100\n",
            ": -100\n",
            "3 -100\n",
            "/ -100\n",
            "2016 -100\n",
            "special -100\n"
          ]
        }
      ]
    },
    {
      "cell_type": "markdown",
      "metadata": {
        "id": "PAQJLuPPf27V"
      },
      "source": [
        "Next, we create corresponding dataloaders."
      ]
    },
    {
      "cell_type": "code",
      "metadata": {
        "id": "XI-eM0m4fmfF"
      },
      "source": [
        "from torch.utils.data import DataLoader\n",
        "\n",
        "train_dataloader = DataLoader(train_dataset, batch_size=2, shuffle=True)\n",
        "test_dataloader = DataLoader(test_dataset, batch_size=2, shuffle=True)"
      ],
      "execution_count": 22,
      "outputs": []
    },
    {
      "cell_type": "markdown",
      "metadata": {
        "id": "hHgKGixHgIIC"
      },
      "source": [
        "## Train the model\n",
        "\n",
        "Let's train the model using native PyTorch. We use the AdamW optimizer with learning rate = 5e-5 (this is a good default value when fine-tuning Transformer-based models).\n",
        "\n"
      ]
    },
    {
      "cell_type": "code",
      "metadata": {
        "colab": {
          "base_uri": "https://localhost:8080/",
          "height": 1000,
          "referenced_widgets": [
            "c9345b17060b4a98ac53b932a32cdc1e",
            "415621aa2b694f84ad8944946c5594ea",
            "9f5b0dcdd7784a83bf666bd2dfecf8ae",
            "68e1d9a2df3848f293d34082f0af6f1d",
            "027a0a127d8e4d849fa19d44116aaeb7",
            "698d93bb7fa444cb9894686bf5c775a7",
            "4672c38dcf7e4b1a9d5a1cebba977315",
            "129be67aa1774a818a5ee18f5f5480fb",
            "8a76c53c34c244beb3eda93e48ba0ac6",
            "276d125e8bcf43ab93562d49639737f4",
            "e8e6939e7a9b48428a7ec6d3d6ca22f2",
            "d3ed2175518e45f8b7ffc2b15cff8366",
            "7375938559d145bdb31048f1225a9e3e",
            "06f2680e851b4201be0bdd73fbd73feb",
            "ac812497c117439b915087b5d3c41463",
            "e97b1ac5693441e4b327ff1f2654ec0b",
            "e6145d0751564acb82d4be59b4f87673",
            "1be0d109c28b4674aee16322125d3801",
            "0836be83643d445b9979286391f63f58",
            "846d5387c73e4f8699f72a12d29fbff7",
            "e8e936b3e1b248abb25b990794f60673",
            "a6b6c04ea0be41dfb6db5642cdb46333",
            "364edc48a4014883a2d304424a534dae",
            "6cd73456f49346c9b1ad983733c88abe",
            "109ba696a8534d7087699b9d0a00e1c6",
            "29e5f74a88fe41ee92f13c7b1d811bc7",
            "605cd3b0dcc44fccaad01f59dd489693",
            "f324deddefea4f47a436da80895a7a94",
            "e88c6169629a4725b25c229c66cac4b1",
            "f3223fe9ed9143d58ee3467b9a0e3ef8",
            "0a160b789dde41a2a4ae090ffb01f9d8",
            "64f118254fbb4e7884c2ce16ae202305",
            "a699ea191ae14742b62c2e6ffeb6b4ac",
            "6bc11912b8e248e3a36277e8f66e96e4",
            "70f7f27683e14becb9121dbdf52fadd9",
            "aa864ec61d52406c8bedef7664fe2e93",
            "e7f1133c46794cd8b0fe8b1381db5315",
            "9941da94123e49a09cee364a915c7a4b",
            "ccb0341a4ff7411db0e327b86c1c286a",
            "5023b3d837314cfe8e6feb1f58d2b185",
            "147aeea960974781af3fc8861349037c",
            "1d19eaf2ac614d28bc2032ad15aa72ef",
            "46de41cd20f94e52b6a9625b692fbf76",
            "ab9e2a5282c14556b4c17448e388f666",
            "534eb6532fc84925985c09e47c3e9910",
            "2b0d84ce45e9409093ae4dd204a984a5",
            "b7c24e88abae4928a6b70297aa90bd26",
            "017ba32cd3234161bd9cbfdcbdbbfe61",
            "34e5979310fb439f88d854300ab303d9",
            "e2cc4089af6d44d99fa6f525bf5de8d1",
            "768b36b0bdbc44fd9f775aaf97f4e004",
            "c7184818528744f0b362cec2857c62be",
            "e9ba97242e4f4fe5a5d587ce29b5bf54",
            "cac5d42b7f634162944e806e01c8f0b4",
            "701c43567a9d43208acd08fa513dfbec",
            "7871d0b03b00441ebb7cb1cfbeab44f8",
            "0b3418ec249f4843a1e995853bb043a6",
            "19f7316020994042868e532c0aa2765d",
            "6ef80ae9a883482a846b4088777b73af",
            "67a5ae1c1dd144dd8a2bba01d0b97734",
            "95819923e5ec4d4cbf502e63f5e6dc4c",
            "98735ec8ac924cb8a8bdb17fba0c43a9",
            "f9043da2645f4b1cbae3c42c8c2d42d3",
            "dfcc7cde754f4b47bf8b2719a2ca2b9f",
            "0203091886604850935be8f0425b8fca",
            "5aa74a0dc3dc4f469f8a45377c69ccf5",
            "1e2d7185d4994db2ad669c82a6d934d8",
            "6efda68585d64c109e5f7415146f042e",
            "c7386376156b4fe6af98fcf0d91cef34",
            "3873295cb53e4b6880bc72d48fc937cb",
            "4cf7c364391a484d910fffb092326d9c",
            "c8e11e9d185e4829bb14651f0207f6f2",
            "9a4ab633f9af4f01940e37fb51a77abc",
            "e47eb15cc78945b280e95b445fca0f71",
            "c389e1d9dd424cefabd9ce72d3a6040b",
            "dbeedea979964026980267949d518168",
            "37ff3da09add4a8cb620cd82223c2d29",
            "1a21591ca481462881c17ae9c5dabb2a",
            "f4ca5ff95dd84976b58f5a69a91ead17",
            "db812184b9fb451895a21b523025a3c8",
            "dcc96af24e694fc0bc32e08a344998f9",
            "1807b993352f49f0a9fdf6c58481a903",
            "f96672d6619e4e0ea51e5d8e79d438e5",
            "8efc0f826129407ea9d641c2b49812a8",
            "6a8b79b31c9c4f8d8bcbc20b858906c7",
            "19de5d21459a4ccabde677aa148bfae8",
            "e51859e8e827417b93ff9ce85599c051",
            "1753fda0b6c04302ba7c1123a01abf6d",
            "bdaf757bc4ea42eda21a255ebe343e89",
            "ac2bc163f4fb4a71b370fba1f7b2869d",
            "14864055c9604e149fe11a5726b140ad",
            "6c34557fbbaa4fee9795c895b6b26c9f",
            "9b7ba4609ed94c868b3215c02269336b",
            "3e776cd644cb4d95864f5b633bab8fb5",
            "dba8f748aaf849f0a0489759b25e7c60",
            "2acd60deaa234204b5ef1c574a07e472",
            "8d0e8d74c9ee4abe9d15f73dcfcd7487",
            "8abcb417e117400ea696b816a59fa26c",
            "c46b57d3378e423caf64445310acc4f7",
            "ca6d60587e8f4f7aaadf2f943a914b55",
            "f0314e2472bb4c95b869ab14f34223d8",
            "439c99b6be5c4e4d91871cb9e3426e85",
            "3f72ce6ae0b543dea4ac29986728a641",
            "7a2337cecad047f59087fd768b9fe06c",
            "6a927103f9a84e6da369aed8b3777272",
            "1a49faa916e6488ba251a57a068340d8",
            "47f4891343bb4525842abbcbe9443770",
            "df06c1395dc448d38cca3196645e875f",
            "909aa64bec5f482894ffc3578f462efd",
            "e224538836b548f9ac77923472931285",
            "98467aa077794e55a70d6f9602618795",
            "0804c60fb8de4d8d977da7bf95f885c2",
            "250dea51073e46ed81fb49a401fef424",
            "ddc1513eb6dc4eb2b12387eadcd26b50",
            "6da0d4fb5b2e47bbaca38fbcb3296740",
            "d8ba951c933a41fda9283d06456293c7",
            "29964074325f4d46a77839530147420c",
            "1a6233737ce5402e9a8f31fe5145d828",
            "f549a76f556c49f29eeeb32d74cfbf5e",
            "5dfc24ea9e004cc8a24275949bfc2a3f",
            "533bd7590ba84757900fd54d6399cee8",
            "8d35f2736cb54a778802db89b30929a0",
            "e0736d36d1774537b3baafaaf0aba673",
            "98137c8467924e83b0991b32724f5605",
            "a0d5b6825c1b4aa5bd890b46528eebd3",
            "2b8ef37b76364c0b8088b320a56bedd0",
            "219018c40ca14f82b6ed9e3eefcdb38f",
            "b69e6b9771db445daa7e6d3fa5a63aaf",
            "7e455d28141e47e8b214abde29d4e4ef",
            "4a8b468fe3954aea9c65180d82e4d2ab",
            "42489199b2044ca297b4a0a1018d649d",
            "d55801073123481a90ecdad4944d18fa",
            "22ad72b840c24e838c4190d4adf29dfe",
            "51a75a4cebca47e6ae96e523b4dc8b8c",
            "741fac13493c4cc0a24e96f1a281ae8e",
            "d43d328f201343edbbae928138b11b06",
            "fb91372f349447b5af1a70f0f1963e41",
            "434cfcfdd8ca49e992af550b4b63ec30",
            "f03cc0d861b7446984816a1ff93b0c99",
            "861c4167616a4ea2abd76511ca6309f9",
            "06540ebd74bf4a888b4548fa4f626780",
            "b05f8f65907f4efdbda2a491d0b2360c",
            "1f9e9bf12db14874b2f1cbf8e9fd9cb1",
            "687b9262521e4061892a7cd005c990c5",
            "5d46247e0f7c4b568e63a5bde19a6b9f",
            "386652232a5e41e3bcfa5cc65a1d711f",
            "6efe4622e09f4975ab1fe0c61856f6b0",
            "d346d40308aa4967a5132904f559edcb",
            "7a720a20314842f5a496d1331f764810",
            "4f07e2d04a6e47e39ab988621d6ebdd3",
            "3f20345379ff4ec7bab3ac0bc6940cc1",
            "38b003889adc479484bca96f8602a30d",
            "e995b2e20bf94f8fbc87b37c1b16f788",
            "8bb7628f3ea94e8580aac645a0bd364d",
            "e71b872153fa487ca1b33b67d7016e4e",
            "c3ab14fd8b0742e4a224af62f8989472",
            "b08c51e493a44b09a442e297d02d1684",
            "72f6df6889fc4c24b8bac0edd344423c",
            "e989ebca224b4c9dabe39e882b85235b",
            "2538ffaa9ba448a5b765736323f13186",
            "b80e7139236a474a9bef3047dc5a90d4",
            "40ffdbd25e5b4bae9c394d79fc9092b3",
            "ba341e177a254234a799950649e32e52",
            "b1a32a962cf3463ead78b463d26af280",
            "1fb24094772b4acfaed9923a939adf3e"
          ]
        },
        "id": "NxahVHZ0NKq7",
        "outputId": "466e7ead-5d2e-4476-9ca9-5c48aa99a559"
      },
      "source": [
        "from transformers import LayoutLMv2ForTokenClassification, AdamW\n",
        "import torch\n",
        "from tqdm.notebook import tqdm\n",
        "\n",
        "model = LayoutLMv2ForTokenClassification.from_pretrained('microsoft/layoutlmv2-base-uncased',\n",
        "                                                                      num_labels=len(labels))\n",
        "\n",
        "device = torch.device('cuda' if torch.cuda.is_available() else 'cpu')\n",
        "model.to(device)\n",
        "optimizer = AdamW(model.parameters(), lr=5e-5)\n",
        "\n",
        "global_step = 0\n",
        "num_train_epochs = 15\n",
        "\n",
        "#put the model in training mode\n",
        "model.train() \n",
        "for epoch in range(num_train_epochs):  \n",
        "   print(\"Epoch:\", epoch)\n",
        "   for batch in tqdm(train_dataloader):\n",
        "        # get the inputs;\n",
        "        input_ids = batch['input_ids'].to(device)\n",
        "        bbox = batch['bbox'].to(device)\n",
        "        image = batch['image'].to(device)\n",
        "        attention_mask = batch['attention_mask'].to(device)\n",
        "        token_type_ids = batch['token_type_ids'].to(device)\n",
        "        labels = batch['labels'].to(device)\n",
        "\n",
        "        # zero the parameter gradients\n",
        "        optimizer.zero_grad()\n",
        "        \n",
        "        # forward + backward + optimize\n",
        "        outputs = model(input_ids=input_ids,\n",
        "                        bbox=bbox,\n",
        "                        image=image,\n",
        "                        attention_mask=attention_mask,\n",
        "                        token_type_ids=token_type_ids,\n",
        "                        labels=labels) \n",
        "        loss = outputs.loss\n",
        "        \n",
        "        # print loss every 100 steps\n",
        "        if global_step % 1 == 0:\n",
        "          print(f\"Loss after {global_step} steps: {loss.item()}\")\n",
        "\n",
        "        loss.backward()\n",
        "        optimizer.step()\n",
        "        global_step += 1"
      ],
      "execution_count": 23,
      "outputs": [
        {
          "output_type": "stream",
          "name": "stderr",
          "text": [
            "Some weights of the model checkpoint at microsoft/layoutlmv2-base-uncased were not used when initializing LayoutLMv2ForTokenClassification: ['layoutlmv2.visual.backbone.bottom_up.res3.3.conv3.norm.num_batches_tracked', 'layoutlmv2.visual.backbone.bottom_up.res4.0.conv2.norm.num_batches_tracked', 'layoutlmv2.visual.backbone.bottom_up.res4.10.conv1.norm.num_batches_tracked', 'layoutlmv2.visual.backbone.bottom_up.res4.0.conv1.norm.num_batches_tracked', 'layoutlmv2.visual.backbone.bottom_up.res2.1.conv1.norm.num_batches_tracked', 'layoutlmv2.visual.backbone.bottom_up.res2.0.shortcut.norm.num_batches_tracked', 'layoutlmv2.visual.backbone.bottom_up.res4.0.shortcut.norm.num_batches_tracked', 'layoutlmv2.visual.backbone.bottom_up.res4.19.conv2.norm.num_batches_tracked', 'layoutlmv2.visual.backbone.bottom_up.res4.4.conv3.norm.num_batches_tracked', 'layoutlmv2.visual.backbone.bottom_up.res4.0.conv3.norm.num_batches_tracked', 'layoutlmv2.visual.backbone.bottom_up.res4.20.conv1.norm.num_batches_tracked', 'layoutlmv2.visual.backbone.bottom_up.res4.9.conv2.norm.num_batches_tracked', 'layoutlmv2.visual.backbone.bottom_up.res4.15.conv1.norm.num_batches_tracked', 'layoutlmv2.visual.backbone.bottom_up.res2.1.conv3.norm.num_batches_tracked', 'layoutlmv2.visual.backbone.bottom_up.res4.5.conv3.norm.num_batches_tracked', 'layoutlmv2.visual.backbone.bottom_up.res4.17.conv2.norm.num_batches_tracked', 'layoutlmv2.visual.backbone.bottom_up.res4.6.conv2.norm.num_batches_tracked', 'layoutlmv2.visual.backbone.bottom_up.res4.21.conv1.norm.num_batches_tracked', 'layoutlmv2.visual.backbone.bottom_up.res4.7.conv1.norm.num_batches_tracked', 'layoutlmv2.visual.backbone.bottom_up.res4.19.conv3.norm.num_batches_tracked', 'layoutlmv2.visual.backbone.bottom_up.res4.4.conv1.norm.num_batches_tracked', 'layoutlmv2.visual.backbone.bottom_up.res5.1.conv3.norm.num_batches_tracked', 'layoutlmv2.visual.backbone.bottom_up.res4.18.conv2.norm.num_batches_tracked', 'layoutlmv2.visual.backbone.bottom_up.res4.13.conv2.norm.num_batches_tracked', 'layoutlmv2.visual.backbone.bottom_up.res4.22.conv1.norm.num_batches_tracked', 'layoutlmv2.visual.backbone.bottom_up.res4.6.conv3.norm.num_batches_tracked', 'layoutlmv2.visual.backbone.bottom_up.res2.1.conv2.norm.num_batches_tracked', 'layoutlmv2.visual.backbone.bottom_up.res3.2.conv2.norm.num_batches_tracked', 'layoutlmv2.visual.backbone.bottom_up.res4.4.conv2.norm.num_batches_tracked', 'layoutlmv2.visual.backbone.bottom_up.res4.10.conv3.norm.num_batches_tracked', 'layoutlmv2.visual.backbone.bottom_up.res4.22.conv2.norm.num_batches_tracked', 'layoutlmv2.visual.backbone.bottom_up.res4.21.conv2.norm.num_batches_tracked', 'layoutlmv2.visual.backbone.bottom_up.res5.0.shortcut.norm.num_batches_tracked', 'layoutlmv2.visual.backbone.bottom_up.res4.2.conv2.norm.num_batches_tracked', 'layoutlmv2.visual.backbone.bottom_up.res4.14.conv3.norm.num_batches_tracked', 'layoutlmv2.visual.backbone.bottom_up.stem.conv1.norm.num_batches_tracked', 'layoutlmv2.visual.backbone.bottom_up.res3.1.conv2.norm.num_batches_tracked', 'layoutlmv2.visual.backbone.bottom_up.res3.2.conv1.norm.num_batches_tracked', 'layoutlmv2.visual.backbone.bottom_up.res3.3.conv2.norm.num_batches_tracked', 'layoutlmv2.visual.backbone.bottom_up.res4.1.conv3.norm.num_batches_tracked', 'layoutlmv2.visual.backbone.bottom_up.res2.2.conv2.norm.num_batches_tracked', 'layoutlmv2.visual.backbone.bottom_up.res4.3.conv3.norm.num_batches_tracked', 'layoutlmv2.visual.backbone.bottom_up.res5.1.conv2.norm.num_batches_tracked', 'layoutlmv2.visual.backbone.bottom_up.res4.18.conv3.norm.num_batches_tracked', 'layoutlmv2.visual.backbone.bottom_up.res5.0.conv3.norm.num_batches_tracked', 'layoutlmv2.visual.backbone.bottom_up.res4.17.conv1.norm.num_batches_tracked', 'layoutlmv2.visual.backbone.bottom_up.res4.22.conv3.norm.num_batches_tracked', 'layoutlmv2.visual.backbone.bottom_up.res3.0.conv3.norm.num_batches_tracked', 'layoutlmv2.visual.backbone.bottom_up.res4.12.conv1.norm.num_batches_tracked', 'layoutlmv2.visual.backbone.bottom_up.res3.1.conv1.norm.num_batches_tracked', 'layoutlmv2.visual.backbone.bottom_up.res4.11.conv1.norm.num_batches_tracked', 'layoutlmv2.visual.backbone.bottom_up.res4.12.conv2.norm.num_batches_tracked', 'layoutlmv2.visual.backbone.bottom_up.res4.14.conv1.norm.num_batches_tracked', 'layoutlmv2.visual.backbone.bottom_up.res2.2.conv1.norm.num_batches_tracked', 'layoutlmv2.visual.backbone.bottom_up.res4.12.conv3.norm.num_batches_tracked', 'layoutlmv2.visual.backbone.bottom_up.res4.5.conv1.norm.num_batches_tracked', 'layoutlmv2.visual.backbone.bottom_up.res4.1.conv1.norm.num_batches_tracked', 'layoutlmv2.visual.backbone.bottom_up.res3.0.conv1.norm.num_batches_tracked', 'layoutlmv2.visual.backbone.bottom_up.res4.1.conv2.norm.num_batches_tracked', 'layoutlmv2.visual.backbone.bottom_up.res4.13.conv1.norm.num_batches_tracked', 'layoutlmv2.visual.backbone.bottom_up.res5.0.conv1.norm.num_batches_tracked', 'layoutlmv2.visual.backbone.bottom_up.res4.6.conv1.norm.num_batches_tracked', 'layoutlmv2.visual.backbone.bottom_up.res3.3.conv1.norm.num_batches_tracked', 'layoutlmv2.visual.backbone.bottom_up.res4.18.conv1.norm.num_batches_tracked', 'layoutlmv2.visual.backbone.bottom_up.res5.0.conv2.norm.num_batches_tracked', 'layoutlmv2.visual.backbone.bottom_up.res4.19.conv1.norm.num_batches_tracked', 'layoutlmv2.visual.backbone.bottom_up.res4.10.conv2.norm.num_batches_tracked', 'layoutlmv2.visual.backbone.bottom_up.res4.13.conv3.norm.num_batches_tracked', 'layoutlmv2.visual.backbone.bottom_up.res4.8.conv1.norm.num_batches_tracked', 'layoutlmv2.visual.backbone.bottom_up.res4.15.conv2.norm.num_batches_tracked', 'layoutlmv2.visual.backbone.bottom_up.res4.8.conv3.norm.num_batches_tracked', 'layoutlmv2.visual.backbone.bottom_up.res2.0.conv1.norm.num_batches_tracked', 'layoutlmv2.visual.backbone.bottom_up.res4.21.conv3.norm.num_batches_tracked', 'layoutlmv2.visual.backbone.bottom_up.res3.2.conv3.norm.num_batches_tracked', 'layoutlmv2.visual.backbone.bottom_up.res5.2.conv3.norm.num_batches_tracked', 'layoutlmv2.visual.backbone.bottom_up.res4.16.conv1.norm.num_batches_tracked', 'layoutlmv2.visual.backbone.bottom_up.res3.0.conv2.norm.num_batches_tracked', 'layoutlmv2.visual.backbone.bottom_up.res4.2.conv1.norm.num_batches_tracked', 'layoutlmv2.visual.backbone.bottom_up.res2.0.conv3.norm.num_batches_tracked', 'layoutlmv2.visual.backbone.bottom_up.res4.15.conv3.norm.num_batches_tracked', 'layoutlmv2.visual.backbone.bottom_up.res4.17.conv3.norm.num_batches_tracked', 'layoutlmv2.visual.backbone.bottom_up.res4.8.conv2.norm.num_batches_tracked', 'layoutlmv2.visual.backbone.bottom_up.res4.9.conv3.norm.num_batches_tracked', 'layoutlmv2.visual.backbone.bottom_up.res3.0.shortcut.norm.num_batches_tracked', 'layoutlmv2.visual.backbone.bottom_up.res4.3.conv2.norm.num_batches_tracked', 'layoutlmv2.visual.backbone.bottom_up.res4.16.conv3.norm.num_batches_tracked', 'layoutlmv2.visual.backbone.bottom_up.res4.20.conv3.norm.num_batches_tracked', 'layoutlmv2.visual.backbone.bottom_up.res4.7.conv2.norm.num_batches_tracked', 'layoutlmv2.visual.backbone.bottom_up.res4.14.conv2.norm.num_batches_tracked', 'layoutlmv2.visual.backbone.bottom_up.res5.1.conv1.norm.num_batches_tracked', 'layoutlmv2.visual.backbone.bottom_up.res5.2.conv1.norm.num_batches_tracked', 'layoutlmv2.visual.backbone.bottom_up.res5.2.conv2.norm.num_batches_tracked', 'layoutlmv2.visual.backbone.bottom_up.res4.11.conv3.norm.num_batches_tracked', 'layoutlmv2.visual.backbone.bottom_up.res2.2.conv3.norm.num_batches_tracked', 'layoutlmv2.visual.backbone.bottom_up.res4.16.conv2.norm.num_batches_tracked', 'layoutlmv2.visual.backbone.bottom_up.res4.11.conv2.norm.num_batches_tracked', 'layoutlmv2.visual.backbone.bottom_up.res4.3.conv1.norm.num_batches_tracked', 'layoutlmv2.visual.backbone.bottom_up.res4.2.conv3.norm.num_batches_tracked', 'layoutlmv2.visual.backbone.bottom_up.res3.1.conv3.norm.num_batches_tracked', 'layoutlmv2.visual.backbone.bottom_up.res4.9.conv1.norm.num_batches_tracked', 'layoutlmv2.visual.backbone.bottom_up.res4.20.conv2.norm.num_batches_tracked', 'layoutlmv2.visual.backbone.bottom_up.res2.0.conv2.norm.num_batches_tracked', 'layoutlmv2.visual.backbone.bottom_up.res4.7.conv3.norm.num_batches_tracked', 'layoutlmv2.visual.backbone.bottom_up.res4.5.conv2.norm.num_batches_tracked']\n",
            "- This IS expected if you are initializing LayoutLMv2ForTokenClassification from the checkpoint of a model trained on another task or with another architecture (e.g. initializing a BertForSequenceClassification model from a BertForPreTraining model).\n",
            "- This IS NOT expected if you are initializing LayoutLMv2ForTokenClassification from the checkpoint of a model that you expect to be exactly identical (initializing a BertForSequenceClassification model from a BertForSequenceClassification model).\n",
            "Some weights of LayoutLMv2ForTokenClassification were not initialized from the model checkpoint at microsoft/layoutlmv2-base-uncased and are newly initialized: ['classifier.weight', 'classifier.bias']\n",
            "You should probably TRAIN this model on a down-stream task to be able to use it for predictions and inference.\n"
          ]
        },
        {
          "output_type": "stream",
          "name": "stdout",
          "text": [
            "Epoch: 0\n"
          ]
        },
        {
          "output_type": "display_data",
          "data": {
            "text/plain": [
              "  0%|          | 0/7 [00:00<?, ?it/s]"
            ],
            "application/vnd.jupyter.widget-view+json": {
              "version_major": 2,
              "version_minor": 0,
              "model_id": "c9345b17060b4a98ac53b932a32cdc1e"
            }
          },
          "metadata": {}
        },
        {
          "output_type": "stream",
          "name": "stdout",
          "text": [
            "Loss after 0 steps: 2.220261812210083\n",
            "Loss after 1 steps: 2.149608850479126\n",
            "Loss after 2 steps: 2.042654514312744\n",
            "Loss after 3 steps: 1.9210100173950195\n",
            "Loss after 4 steps: 2.091221809387207\n",
            "Loss after 5 steps: 2.0836260318756104\n",
            "Loss after 6 steps: 2.1639349460601807\n",
            "Epoch: 1\n"
          ]
        },
        {
          "output_type": "display_data",
          "data": {
            "text/plain": [
              "  0%|          | 0/7 [00:00<?, ?it/s]"
            ],
            "application/vnd.jupyter.widget-view+json": {
              "version_major": 2,
              "version_minor": 0,
              "model_id": "d3ed2175518e45f8b7ffc2b15cff8366"
            }
          },
          "metadata": {}
        },
        {
          "output_type": "stream",
          "name": "stdout",
          "text": [
            "Loss after 7 steps: 2.078432559967041\n",
            "Loss after 8 steps: 2.1065640449523926\n",
            "Loss after 9 steps: 2.0935893058776855\n",
            "Loss after 10 steps: 1.908799171447754\n",
            "Loss after 11 steps: 1.7606334686279297\n",
            "Loss after 12 steps: 1.8367905616760254\n",
            "Loss after 13 steps: 1.99700129032135\n",
            "Epoch: 2\n"
          ]
        },
        {
          "output_type": "display_data",
          "data": {
            "text/plain": [
              "  0%|          | 0/7 [00:00<?, ?it/s]"
            ],
            "application/vnd.jupyter.widget-view+json": {
              "version_major": 2,
              "version_minor": 0,
              "model_id": "364edc48a4014883a2d304424a534dae"
            }
          },
          "metadata": {}
        },
        {
          "output_type": "stream",
          "name": "stdout",
          "text": [
            "Loss after 14 steps: 1.991567611694336\n",
            "Loss after 15 steps: 1.7799770832061768\n",
            "Loss after 16 steps: 1.796808123588562\n",
            "Loss after 17 steps: 1.9597153663635254\n",
            "Loss after 18 steps: 1.7448341846466064\n",
            "Loss after 19 steps: 1.7928024530410767\n",
            "Loss after 20 steps: 1.9563872814178467\n",
            "Epoch: 3\n"
          ]
        },
        {
          "output_type": "display_data",
          "data": {
            "text/plain": [
              "  0%|          | 0/7 [00:00<?, ?it/s]"
            ],
            "application/vnd.jupyter.widget-view+json": {
              "version_major": 2,
              "version_minor": 0,
              "model_id": "6bc11912b8e248e3a36277e8f66e96e4"
            }
          },
          "metadata": {}
        },
        {
          "output_type": "stream",
          "name": "stdout",
          "text": [
            "Loss after 21 steps: 1.7983653545379639\n",
            "Loss after 22 steps: 1.9157058000564575\n",
            "Loss after 23 steps: 1.6834355592727661\n",
            "Loss after 24 steps: 1.8724172115325928\n",
            "Loss after 25 steps: 1.6158288717269897\n",
            "Loss after 26 steps: 1.6289538145065308\n",
            "Loss after 27 steps: 1.8179527521133423\n",
            "Epoch: 4\n"
          ]
        },
        {
          "output_type": "display_data",
          "data": {
            "text/plain": [
              "  0%|          | 0/7 [00:00<?, ?it/s]"
            ],
            "application/vnd.jupyter.widget-view+json": {
              "version_major": 2,
              "version_minor": 0,
              "model_id": "534eb6532fc84925985c09e47c3e9910"
            }
          },
          "metadata": {}
        },
        {
          "output_type": "stream",
          "name": "stdout",
          "text": [
            "Loss after 28 steps: 1.797969102859497\n",
            "Loss after 29 steps: 1.5774102210998535\n",
            "Loss after 30 steps: 1.809317946434021\n",
            "Loss after 31 steps: 1.6396238803863525\n",
            "Loss after 32 steps: 1.5573054552078247\n",
            "Loss after 33 steps: 1.6773145198822021\n",
            "Loss after 34 steps: 1.4555163383483887\n",
            "Epoch: 5\n"
          ]
        },
        {
          "output_type": "display_data",
          "data": {
            "text/plain": [
              "  0%|          | 0/7 [00:00<?, ?it/s]"
            ],
            "application/vnd.jupyter.widget-view+json": {
              "version_major": 2,
              "version_minor": 0,
              "model_id": "7871d0b03b00441ebb7cb1cfbeab44f8"
            }
          },
          "metadata": {}
        },
        {
          "output_type": "stream",
          "name": "stdout",
          "text": [
            "Loss after 35 steps: 1.4657117128372192\n",
            "Loss after 36 steps: 1.4962373971939087\n",
            "Loss after 37 steps: 1.7127991914749146\n",
            "Loss after 38 steps: 1.4279295206069946\n",
            "Loss after 39 steps: 1.3945974111557007\n",
            "Loss after 40 steps: 1.5893014669418335\n",
            "Loss after 41 steps: 1.493054986000061\n",
            "Epoch: 6\n"
          ]
        },
        {
          "output_type": "display_data",
          "data": {
            "text/plain": [
              "  0%|          | 0/7 [00:00<?, ?it/s]"
            ],
            "application/vnd.jupyter.widget-view+json": {
              "version_major": 2,
              "version_minor": 0,
              "model_id": "1e2d7185d4994db2ad669c82a6d934d8"
            }
          },
          "metadata": {}
        },
        {
          "output_type": "stream",
          "name": "stdout",
          "text": [
            "Loss after 42 steps: 1.5139323472976685\n",
            "Loss after 43 steps: 1.478841781616211\n",
            "Loss after 44 steps: 1.4603649377822876\n",
            "Loss after 45 steps: 1.3724017143249512\n",
            "Loss after 46 steps: 1.4718784093856812\n",
            "Loss after 47 steps: 1.3761134147644043\n",
            "Loss after 48 steps: 1.5848941802978516\n",
            "Epoch: 7\n"
          ]
        },
        {
          "output_type": "display_data",
          "data": {
            "text/plain": [
              "  0%|          | 0/7 [00:00<?, ?it/s]"
            ],
            "application/vnd.jupyter.widget-view+json": {
              "version_major": 2,
              "version_minor": 0,
              "model_id": "1a21591ca481462881c17ae9c5dabb2a"
            }
          },
          "metadata": {}
        },
        {
          "output_type": "stream",
          "name": "stdout",
          "text": [
            "Loss after 49 steps: 1.4668290615081787\n",
            "Loss after 50 steps: 1.2661287784576416\n",
            "Loss after 51 steps: 1.2809661626815796\n",
            "Loss after 52 steps: 1.3337184190750122\n",
            "Loss after 53 steps: 1.2826215028762817\n",
            "Loss after 54 steps: 1.2507725954055786\n",
            "Loss after 55 steps: 1.0925408601760864\n",
            "Epoch: 8\n"
          ]
        },
        {
          "output_type": "display_data",
          "data": {
            "text/plain": [
              "  0%|          | 0/7 [00:00<?, ?it/s]"
            ],
            "application/vnd.jupyter.widget-view+json": {
              "version_major": 2,
              "version_minor": 0,
              "model_id": "bdaf757bc4ea42eda21a255ebe343e89"
            }
          },
          "metadata": {}
        },
        {
          "output_type": "stream",
          "name": "stdout",
          "text": [
            "Loss after 56 steps: 1.227154016494751\n",
            "Loss after 57 steps: 1.1356748342514038\n",
            "Loss after 58 steps: 1.355840802192688\n",
            "Loss after 59 steps: 1.164500117301941\n",
            "Loss after 60 steps: 1.1177326440811157\n",
            "Loss after 61 steps: 1.098327875137329\n",
            "Loss after 62 steps: 1.1345938444137573\n",
            "Epoch: 9\n"
          ]
        },
        {
          "output_type": "display_data",
          "data": {
            "text/plain": [
              "  0%|          | 0/7 [00:00<?, ?it/s]"
            ],
            "application/vnd.jupyter.widget-view+json": {
              "version_major": 2,
              "version_minor": 0,
              "model_id": "ca6d60587e8f4f7aaadf2f943a914b55"
            }
          },
          "metadata": {}
        },
        {
          "output_type": "stream",
          "name": "stdout",
          "text": [
            "Loss after 63 steps: 1.1918081045150757\n",
            "Loss after 64 steps: 1.1529783010482788\n",
            "Loss after 65 steps: 1.0403574705123901\n",
            "Loss after 66 steps: 1.0958902835845947\n",
            "Loss after 67 steps: 1.058268666267395\n",
            "Loss after 68 steps: 0.9937669038772583\n",
            "Loss after 69 steps: 0.9429407119750977\n",
            "Epoch: 10\n"
          ]
        },
        {
          "output_type": "display_data",
          "data": {
            "text/plain": [
              "  0%|          | 0/7 [00:00<?, ?it/s]"
            ],
            "application/vnd.jupyter.widget-view+json": {
              "version_major": 2,
              "version_minor": 0,
              "model_id": "98467aa077794e55a70d6f9602618795"
            }
          },
          "metadata": {}
        },
        {
          "output_type": "stream",
          "name": "stdout",
          "text": [
            "Loss after 70 steps: 0.9213839173316956\n",
            "Loss after 71 steps: 1.0309100151062012\n",
            "Loss after 72 steps: 1.0822292566299438\n",
            "Loss after 73 steps: 0.9679737687110901\n",
            "Loss after 74 steps: 1.0238945484161377\n",
            "Loss after 75 steps: 0.9739069938659668\n",
            "Loss after 76 steps: 1.0339778661727905\n",
            "Epoch: 11\n"
          ]
        },
        {
          "output_type": "display_data",
          "data": {
            "text/plain": [
              "  0%|          | 0/7 [00:00<?, ?it/s]"
            ],
            "application/vnd.jupyter.widget-view+json": {
              "version_major": 2,
              "version_minor": 0,
              "model_id": "8d35f2736cb54a778802db89b30929a0"
            }
          },
          "metadata": {}
        },
        {
          "output_type": "stream",
          "name": "stdout",
          "text": [
            "Loss after 77 steps: 0.954217791557312\n",
            "Loss after 78 steps: 1.0227141380310059\n",
            "Loss after 79 steps: 0.8860146403312683\n",
            "Loss after 80 steps: 0.906244695186615\n",
            "Loss after 81 steps: 0.956498920917511\n",
            "Loss after 82 steps: 0.9054148197174072\n",
            "Loss after 83 steps: 1.0232889652252197\n",
            "Epoch: 12\n"
          ]
        },
        {
          "output_type": "display_data",
          "data": {
            "text/plain": [
              "  0%|          | 0/7 [00:00<?, ?it/s]"
            ],
            "application/vnd.jupyter.widget-view+json": {
              "version_major": 2,
              "version_minor": 0,
              "model_id": "22ad72b840c24e838c4190d4adf29dfe"
            }
          },
          "metadata": {}
        },
        {
          "output_type": "stream",
          "name": "stdout",
          "text": [
            "Loss after 84 steps: 0.8940525650978088\n",
            "Loss after 85 steps: 0.975703239440918\n",
            "Loss after 86 steps: 0.8244905471801758\n",
            "Loss after 87 steps: 0.9540765285491943\n",
            "Loss after 88 steps: 0.9016156792640686\n",
            "Loss after 89 steps: 0.8463138341903687\n",
            "Loss after 90 steps: 0.9471771717071533\n",
            "Epoch: 13\n"
          ]
        },
        {
          "output_type": "display_data",
          "data": {
            "text/plain": [
              "  0%|          | 0/7 [00:00<?, ?it/s]"
            ],
            "application/vnd.jupyter.widget-view+json": {
              "version_major": 2,
              "version_minor": 0,
              "model_id": "687b9262521e4061892a7cd005c990c5"
            }
          },
          "metadata": {}
        },
        {
          "output_type": "stream",
          "name": "stdout",
          "text": [
            "Loss after 91 steps: 0.9163751006126404\n",
            "Loss after 92 steps: 0.9018211364746094\n",
            "Loss after 93 steps: 0.9350588321685791\n",
            "Loss after 94 steps: 0.8190217614173889\n",
            "Loss after 95 steps: 0.8439770936965942\n",
            "Loss after 96 steps: 0.8961150646209717\n",
            "Loss after 97 steps: 0.763123095035553\n",
            "Epoch: 14\n"
          ]
        },
        {
          "output_type": "display_data",
          "data": {
            "text/plain": [
              "  0%|          | 0/7 [00:00<?, ?it/s]"
            ],
            "application/vnd.jupyter.widget-view+json": {
              "version_major": 2,
              "version_minor": 0,
              "model_id": "e71b872153fa487ca1b33b67d7016e4e"
            }
          },
          "metadata": {}
        },
        {
          "output_type": "stream",
          "name": "stdout",
          "text": [
            "Loss after 98 steps: 0.8656764626502991\n",
            "Loss after 99 steps: 0.806057333946228\n",
            "Loss after 100 steps: 0.7974371910095215\n",
            "Loss after 101 steps: 0.8503764867782593\n",
            "Loss after 102 steps: 0.8136067986488342\n",
            "Loss after 103 steps: 0.822253406047821\n",
            "Loss after 104 steps: 0.7843284606933594\n"
          ]
        }
      ]
    },
    {
      "cell_type": "code",
      "source": [
        "loss.item()"
      ],
      "metadata": {
        "colab": {
          "base_uri": "https://localhost:8080/"
        },
        "id": "LRYMivGD7le_",
        "outputId": "f222eae8-eda6-49e0-d819-e117a6b0716b"
      },
      "execution_count": 24,
      "outputs": [
        {
          "output_type": "execute_result",
          "data": {
            "text/plain": [
              "0.7843284606933594"
            ]
          },
          "metadata": {},
          "execution_count": 24
        }
      ]
    },
    {
      "cell_type": "markdown",
      "metadata": {
        "id": "jDREDNOhPv0C"
      },
      "source": [
        "## Evaluation\n",
        "\n",
        "Let's evaluate the model on the test set. First, let's do a sanity check on the first example of the test set."
      ]
    },
    {
      "cell_type": "code",
      "metadata": {
        "colab": {
          "base_uri": "https://localhost:8080/",
          "height": 123
        },
        "id": "8BGN3Yo6geJT",
        "outputId": "0c04fa9f-047d-4f80-c2f1-4cb177881848"
      },
      "source": [
        "encoding = test_dataset[0]\n",
        "processor.tokenizer.decode(encoding['input_ids'])"
      ],
      "execution_count": 25,
      "outputs": [
        {
          "output_type": "execute_result",
          "data": {
            "text/plain": [
              "\"[CLS] ameya zambre technical skills + java, jamseript, objective - c, c, html / css, sql + sdeveloper, eelipse, xcod, cleaess, subversion ms. computer science + elnthmsan monitor : a solution to monitor a move website for latest movies and aso to search in existing movies sing website's rest services. published on chrame wetstoe with 2500 + users. code avalale on github ( zam - brey ). avascript, html / css ) + zambrey. github. jo : a responsive personal webpage not using any existing responsive frameworks ( angular3s, html / cs8 ) 4 + salaread : a visualization tol for public sla data of georgia tech fcuty. we imported and cleaned up duby available salaries data of last 4 years to google fusion tables. utilizing that we developed an interactive visualization system using google charts plotting data agsinst various parameters to provide more isiht to the gata ( lavascript ( html / css ), google charts, google fusion tables ) 1 + volcedtext logger : an application which trnseribes skype voice ells into plain text. major components were slenee dection and remo, speech to tet conversion, chronological arrangement of tat generating the original conversation ( ( ci #, pythom ) ) ameyazambre @ gmail. com ( 313 ) 412 - 0669 oracle america inc. senior software engineer software engineer epic systems software developer intern intel india pvt. ltd. software developer intern georgia institute of technology ( georgia tech ) b. e. computer science, m. sc. mathematics birla institute of technology and science, pilani ( bits pilani ) [SEP] [PAD] [PAD] [PAD] [PAD] [PAD] [PAD] [PAD] [PAD] [PAD] [PAD] [PAD] [PAD] [PAD] [PAD] [PAD] [PAD] [PAD] [PAD] [PAD] [PAD] [PAD] [PAD] [PAD] [PAD] [PAD] [PAD] [PAD] [PAD] [PAD] [PAD] [PAD] [PAD] [PAD] [PAD] [PAD] [PAD] [PAD] [PAD] [PAD] [PAD] [PAD] [PAD] [PAD] [PAD] [PAD] [PAD] [PAD] [PAD] [PAD] [PAD] [PAD] [PAD] [PAD] [PAD] [PAD] [PAD] [PAD] [PAD] [PAD] [PAD] [PAD] [PAD] [PAD] [PAD] [PAD] [PAD] [PAD] [PAD] [PAD] [PAD] [PAD] [PAD] [PAD] [PAD] [PAD] [PAD] [PAD] [PAD] [PAD] [PAD] [PAD] [PAD] [PAD] [PAD] [PAD] [PAD] [PAD] [PAD] [PAD] [PAD] [PAD] [PAD] [PAD] [PAD] [PAD] [PAD] [PAD] [PAD] [PAD] [PAD] [PAD] [PAD] [PAD] [PAD] [PAD] [PAD] [PAD] [PAD] [PAD] [PAD] [PAD] [PAD] [PAD] [PAD] [PAD] [PAD] [PAD] [PAD] [PAD] [PAD] [PAD] [PAD] [PAD] [PAD] [PAD] [PAD] [PAD] [PAD] [PAD] [PAD]\""
            ],
            "application/vnd.google.colaboratory.intrinsic+json": {
              "type": "string"
            }
          },
          "metadata": {},
          "execution_count": 25
        }
      ]
    },
    {
      "cell_type": "code",
      "metadata": {
        "colab": {
          "base_uri": "https://localhost:8080/"
        },
        "id": "-xkVMaHXyOVO",
        "outputId": "79df4a73-0a36-47b2-8c2f-2f86e3230737"
      },
      "source": [
        "ground_truth_labels = [id2label[label] for label in encoding['labels'].squeeze().tolist() if label != -100]\n",
        "print(ground_truth_labels)"
      ],
      "execution_count": 26,
      "outputs": [
        {
          "output_type": "stream",
          "name": "stdout",
          "text": [
            "['Other', 'Skills', 'Degrees', 'Other', 'Other', 'Other', 'Email', 'Phone', 'Past_Companies', 'Designations', 'Past_Companies', 'Designations', 'Past_Companies', 'Other', 'Universities', 'Degrees', 'Universities']\n"
          ]
        }
      ]
    },
    {
      "cell_type": "code",
      "metadata": {
        "id": "8ZL0JmyxsJEV"
      },
      "source": [
        "for k,v in encoding.items():\n",
        "  encoding[k] = v.unsqueeze(0).to(device)\n",
        "\n",
        "model.eval()\n",
        "# forward pass\n",
        "outputs = model(input_ids=encoding['input_ids'], attention_mask=encoding['attention_mask'],\n",
        "                token_type_ids=encoding['token_type_ids'], bbox=encoding['bbox'],\n",
        "                image=encoding['image'])"
      ],
      "execution_count": 27,
      "outputs": []
    },
    {
      "cell_type": "code",
      "metadata": {
        "colab": {
          "base_uri": "https://localhost:8080/"
        },
        "id": "wDN8cNKG1PLQ",
        "outputId": "807772de-a3c3-4a5a-edbc-48da2776bc24"
      },
      "source": [
        "prediction_indices = outputs.logits.argmax(-1).squeeze().tolist()\n",
        "print(prediction_indices)"
      ],
      "execution_count": 28,
      "outputs": [
        {
          "output_type": "stream",
          "name": "stdout",
          "text": [
            "[5, 0, 0, 0, 0, 0, 5, 5, 5, 5, 5, 5, 5, 5, 5, 5, 5, 5, 5, 5, 5, 5, 5, 5, 5, 5, 5, 5, 5, 5, 5, 5, 5, 5, 5, 5, 5, 5, 5, 5, 5, 5, 5, 5, 5, 5, 5, 5, 8, 8, 8, 8, 7, 5, 5, 5, 7, 7, 7, 7, 7, 7, 7, 7, 7, 7, 7, 7, 7, 7, 7, 7, 7, 7, 7, 7, 7, 7, 7, 7, 7, 7, 7, 7, 7, 7, 7, 7, 7, 7, 7, 7, 7, 7, 7, 7, 7, 7, 7, 7, 7, 7, 5, 5, 5, 7, 5, 7, 7, 5, 5, 7, 7, 5, 5, 7, 5, 7, 5, 5, 7, 7, 5, 5, 5, 7, 5, 5, 5, 7, 5, 7, 7, 7, 7, 7, 7, 7, 7, 7, 7, 7, 7, 7, 7, 7, 7, 7, 7, 5, 7, 5, 7, 7, 7, 7, 5, 7, 7, 7, 7, 5, 7, 7, 7, 7, 7, 5, 7, 5, 7, 7, 5, 5, 5, 5, 7, 5, 7, 7, 5, 5, 5, 5, 5, 7, 5, 7, 7, 7, 7, 7, 5, 5, 5, 7, 5, 5, 5, 5, 5, 5, 5, 5, 5, 7, 5, 5, 5, 5, 5, 5, 5, 7, 7, 7, 7, 7, 7, 7, 7, 7, 7, 5, 5, 7, 5, 5, 7, 5, 7, 5, 5, 7, 7, 5, 5, 7, 5, 5, 5, 7, 5, 7, 5, 5, 5, 5, 5, 7, 5, 5, 5, 5, 5, 5, 5, 5, 5, 5, 5, 5, 5, 5, 5, 5, 5, 5, 5, 5, 5, 5, 5, 5, 5, 5, 5, 7, 5, 5, 5, 5, 5, 7, 7, 7, 5, 5, 5, 7, 5, 5, 5, 7, 7, 5, 7, 7, 5, 5, 5, 7, 7, 2, 2, 2, 2, 2, 2, 2, 2, 2, 2, 1, 1, 1, 1, 1, 1, 1, 1, 8, 8, 8, 8, 4, 4, 4, 4, 4, 8, 8, 4, 4, 8, 8, 8, 8, 8, 8, 8, 8, 4, 4, 8, 6, 6, 5, 5, 7, 6, 6, 7, 5, 7, 5, 7, 5, 5, 7, 3, 5, 5, 5, 5, 5, 5, 5, 5, 7, 5, 7, 5, 7, 5, 5, 7, 5, 5, 5, 7, 5, 5, 5, 5, 5, 5, 5, 5, 5, 5, 5, 5, 5, 5, 5, 5, 5, 5, 5, 5, 5, 5, 5, 5, 5, 5, 5, 5, 5, 5, 5, 5, 5, 5, 5, 5, 5, 5, 5, 5, 5, 5, 5, 5, 5, 5, 5, 5, 5, 5, 5, 5, 5, 5, 5, 5, 5, 5, 5, 5, 5, 5, 5, 5, 5, 5, 5, 5, 5, 5, 5, 5, 5, 5, 5, 5, 5, 5, 5, 5, 5, 5, 5, 5, 5, 5, 5, 5, 5, 5, 5, 5, 5, 5, 5, 5, 5, 5, 5, 5, 5, 5, 5, 5, 5, 5, 5, 5, 5, 5, 5, 5, 5, 5, 5, 5, 5, 5, 5, 5, 5, 5, 5, 5, 5, 5, 5, 5, 5, 5, 8]\n"
          ]
        }
      ]
    },
    {
      "cell_type": "code",
      "metadata": {
        "colab": {
          "base_uri": "https://localhost:8080/"
        },
        "id": "Df2EqPPLyafz",
        "outputId": "d4517fe2-c37d-438a-8736-d922bbab0900"
      },
      "source": [
        "prediction_indices = outputs.logits.argmax(-1).squeeze().tolist()\n",
        "predictions = [id2label[label] for gt, label in zip(encoding['labels'].squeeze().tolist(), prediction_indices) if gt != -100]\n",
        "print(predictions)"
      ],
      "execution_count": 29,
      "outputs": [
        {
          "output_type": "stream",
          "name": "stdout",
          "text": [
            "['Name', 'Skills', 'Past_Companies', 'Other', 'Other', 'Other', 'Email', 'Phone', 'Past_Companies', 'Designations', 'Past_Companies', 'Designations', 'Past_Companies', 'Designations', 'Universities', 'Skills', 'Skills']\n"
          ]
        }
      ]
    },
    {
      "cell_type": "code",
      "source": [
        "test = pd.read_pickle('test.pkl')\n",
        "\n",
        "test_dataset = ResumeDataset(annotations=test,\n",
        "                            image_dir='/content/gdrive/MyDrive/Resume_Info_Extraction/Images/', \n",
        "                            processor=processor)\n",
        "test_dataloader = DataLoader(test_dataset, batch_size=2)"
      ],
      "metadata": {
        "id": "sDZm5vAJ77ix"
      },
      "execution_count": 30,
      "outputs": []
    },
    {
      "cell_type": "code",
      "source": [
        "len(test_dataset), len(test_dataloader)"
      ],
      "metadata": {
        "colab": {
          "base_uri": "https://localhost:8080/"
        },
        "id": "Gszw_L6pDNGD",
        "outputId": "13457bc0-b68d-461d-c457-c1b979f5af8c"
      },
      "execution_count": 31,
      "outputs": [
        {
          "output_type": "execute_result",
          "data": {
            "text/plain": [
              "(4, 2)"
            ]
          },
          "metadata": {},
          "execution_count": 31
        }
      ]
    },
    {
      "cell_type": "code",
      "metadata": {
        "colab": {
          "base_uri": "https://localhost:8080/",
          "height": 49,
          "referenced_widgets": [
            "ca62ae774b2148068a6d4620948f0334",
            "ee96681232304e16ac5ea226a5a95996",
            "ddd674c08a01414d8236d0fe81aaf088",
            "de25672f21bc44e6899056d2bd22f818",
            "0f29f822d4734290b26da4c0c5e70058",
            "641f9ad8f49143748575254f077514d3",
            "b5e4141b442c42e6b82965e63708c3cc",
            "04a158c8562c4e9d812982a0745d1d3f",
            "3c6151d9a8c24549b276483657c85266",
            "4f7ef81ce67c4c40b95a0aa80a937176",
            "7c8a61ea38454b02be1117b9b8f833a3"
          ]
        },
        "id": "-QGUtQuIacyF",
        "outputId": "bf42b8eb-f1c2-4ab2-e4aa-6fa43b9d53e1"
      },
      "source": [
        "import numpy as np\n",
        "\n",
        "preds_val = None\n",
        "out_label_ids = None\n",
        "\n",
        "# put model in evaluation mode\n",
        "count = 0\n",
        "model.eval()\n",
        "for batch in tqdm(test_dataloader, desc=\"Evaluating\"):\n",
        "    with torch.no_grad():\n",
        "        input_ids = batch['input_ids'].to(device)\n",
        "        bbox = batch['bbox'].to(device)\n",
        "        image = batch['image'].to(device)\n",
        "        attention_mask = batch['attention_mask'].to(device)\n",
        "        token_type_ids = batch['token_type_ids'].to(device)\n",
        "        labels = batch['labels'].to(device)\n",
        "\n",
        "        # forward pass\n",
        "        outputs = model(input_ids=input_ids, bbox=bbox, image=image, attention_mask=attention_mask, \n",
        "                        token_type_ids=token_type_ids, labels=labels)\n",
        "        \n",
        "        if preds_val is None:\n",
        "          preds_val = outputs.logits.detach().cpu().numpy()\n",
        "          out_label_ids = batch[\"labels\"].detach().cpu().numpy()\n",
        "        else:\n",
        "          preds_val = np.append(preds_val, outputs.logits.detach().cpu().numpy(), axis=0)\n",
        "          out_label_ids = np.append(\n",
        "              out_label_ids, batch[\"labels\"].detach().cpu().numpy(), axis=0\n",
        "          )"
      ],
      "execution_count": 50,
      "outputs": [
        {
          "output_type": "display_data",
          "data": {
            "text/plain": [
              "Evaluating:   0%|          | 0/2 [00:00<?, ?it/s]"
            ],
            "application/vnd.jupyter.widget-view+json": {
              "version_major": 2,
              "version_minor": 0,
              "model_id": "ca62ae774b2148068a6d4620948f0334"
            }
          },
          "metadata": {}
        }
      ]
    },
    {
      "cell_type": "code",
      "metadata": {
        "id": "zPW1CISc0DL9"
      },
      "source": [
        "import warnings\n",
        "warnings.filterwarnings(\"ignore\")\n",
        "from seqeval.metrics import (\n",
        "    classification_report,\n",
        "    f1_score,\n",
        "    precision_score,\n",
        "    recall_score)\n",
        "\n",
        "def results_test(preds, out_label_ids, labels):\n",
        "  preds = np.argmax(preds, axis=2)\n",
        "\n",
        "  label_map = {i: label for i, label in enumerate(labels)}\n",
        "\n",
        "  out_label_list = [[] for _ in range(out_label_ids.shape[0])]\n",
        "  preds_list = [[] for _ in range(out_label_ids.shape[0])]\n",
        "\n",
        "  for i in range(out_label_ids.shape[0]):\n",
        "      for j in range(out_label_ids.shape[1]):\n",
        "          if out_label_ids[i, j] != -100:\n",
        "              out_label_list[i].append(label_map[out_label_ids[i][j]])\n",
        "              preds_list[i].append(label_map[preds[i][j]])\n",
        "\n",
        "  results = {\n",
        "      \"precision\": precision_score(out_label_list, preds_list),\n",
        "      \"recall\": recall_score(out_label_list, preds_list),\n",
        "      \"f1\": f1_score(out_label_list, preds_list),\n",
        "  }\n",
        "  return results, classification_report(out_label_list, preds_list)"
      ],
      "execution_count": 51,
      "outputs": []
    },
    {
      "cell_type": "code",
      "metadata": {
        "colab": {
          "base_uri": "https://localhost:8080/"
        },
        "id": "dVuQ73870FMF",
        "outputId": "312ea338-1066-4532-9cba-bb5c03822880"
      },
      "source": [
        "labels = list(set(all_labels))\n",
        "val_result, class_report = results_test(preds_val, out_label_ids, labels)\n",
        "print(\"Overall results:\", val_result)\n",
        "print(class_report)"
      ],
      "execution_count": 52,
      "outputs": [
        {
          "output_type": "stream",
          "name": "stdout",
          "text": [
            "Overall results: {'precision': 0.8205128205128205, 'recall': 0.8888888888888888, 'f1': 0.8533333333333333}\n",
            "               precision    recall  f1-score   support\n",
            "\n",
            "          ame       0.75      1.00      0.86         3\n",
            "ast_Companies       0.88      1.00      0.93         7\n",
            "       egrees       1.00      0.50      0.67         4\n",
            "  esignations       0.78      1.00      0.88         7\n",
            "         hone       1.00      1.00      1.00         3\n",
            "        kills       0.57      0.80      0.67         5\n",
            "         mail       1.00      1.00      1.00         3\n",
            "  niversities       1.00      0.75      0.86         4\n",
            "\n",
            "    micro avg       0.82      0.89      0.85        36\n",
            "    macro avg       0.87      0.88      0.86        36\n",
            " weighted avg       0.85      0.89      0.85        36\n",
            "\n"
          ]
        }
      ]
    },
    {
      "cell_type": "code",
      "source": [
        "%cd 'Images/'"
      ],
      "metadata": {
        "colab": {
          "base_uri": "https://localhost:8080/"
        },
        "id": "0cD-0JE-E-5_",
        "outputId": "1d23323a-8bfb-47b4-9a20-7bd6c990fd1b"
      },
      "execution_count": 35,
      "outputs": [
        {
          "output_type": "stream",
          "name": "stdout",
          "text": [
            "/content/gdrive/MyDrive/Resume_Info_Extraction/Images\n"
          ]
        }
      ]
    },
    {
      "cell_type": "code",
      "source": [
        "from PIL import Image, ImageDraw, ImageFont\n",
        "\n",
        "processor = LayoutLMv2Processor.from_pretrained(\"microsoft/layoutlmv2-base-uncased\")"
      ],
      "metadata": {
        "id": "fLV71QfGEnRO"
      },
      "execution_count": 36,
      "outputs": []
    },
    {
      "cell_type": "code",
      "source": [
        "image = Image.open(\"image7.jpg\")\n",
        "image = image.convert(\"RGB\")\n",
        "\n",
        "encoding = processor(image, return_offsets_mapping=True, return_tensors=\"pt\", padding = \"max_length\", truncation=True)\n",
        "offset_mapping = encoding.pop('offset_mapping')\n",
        "print(encoding.keys())"
      ],
      "metadata": {
        "colab": {
          "base_uri": "https://localhost:8080/"
        },
        "id": "Q2hopFnPHF14",
        "outputId": "e34a2f28-46fc-464d-85e8-b7ecca8c3956"
      },
      "execution_count": 37,
      "outputs": [
        {
          "output_type": "stream",
          "name": "stdout",
          "text": [
            "dict_keys(['input_ids', 'token_type_ids', 'attention_mask', 'bbox', 'image'])\n"
          ]
        }
      ]
    },
    {
      "cell_type": "code",
      "source": [
        "for k,v in encoding.items():\n",
        "  encoding[k] = v.to(device)\n",
        "\n",
        "outputs = model(**encoding)\n",
        "print(outputs.logits.shape)\n",
        "\n",
        "def unnormalize_box(bbox, width, height):\n",
        "     return [\n",
        "         width * (bbox[0] / 1000),\n",
        "         height * (bbox[1] / 1000),\n",
        "         width * (bbox[2] / 1000),\n",
        "         height * (bbox[3] / 1000),\n",
        "     ]\n",
        "\n",
        "predictions = outputs.logits.argmax(-1).squeeze().tolist()\n",
        "token_boxes = encoding.bbox.squeeze().tolist()\n",
        "\n",
        "width, height = image.size"
      ],
      "metadata": {
        "colab": {
          "base_uri": "https://localhost:8080/"
        },
        "id": "snFftmBQFHPA",
        "outputId": "a19271b2-bb55-47f6-c77a-5852b960e85d"
      },
      "execution_count": 38,
      "outputs": [
        {
          "output_type": "stream",
          "name": "stdout",
          "text": [
            "torch.Size([1, 512, 9])\n"
          ]
        }
      ]
    },
    {
      "cell_type": "code",
      "source": [
        "import numpy as np\n",
        "\n",
        "is_subword = np.array(offset_mapping.squeeze().tolist())[:,0] != 0\n",
        "\n",
        "true_predictions = [id2label[pred] for idx, pred in enumerate(predictions) if not is_subword[idx]]\n",
        "true_boxes = [unnormalize_box(box, width, height) for idx, box in enumerate(token_boxes) if not is_subword[idx]]\n",
        "\n",
        "print(true_predictions)\n",
        "print(true_boxes)"
      ],
      "metadata": {
        "colab": {
          "base_uri": "https://localhost:8080/"
        },
        "id": "t3JYlLOVE0mg",
        "outputId": "ca42203c-13b4-443a-9ae0-bc4afc9f8470"
      },
      "execution_count": 39,
      "outputs": [
        {
          "output_type": "stream",
          "name": "stdout",
          "text": [
            "['Skills', 'Name', 'Skills', 'Past_Companies', 'Phone', 'Past_Companies', 'Past_Companies', 'Past_Companies', 'Past_Companies', 'Past_Companies', 'Past_Companies', 'Past_Companies', 'Phone', 'Phone', 'Other', 'Other', 'Past_Companies', 'Past_Companies', 'Name', 'Skills', 'Designations', 'Other', 'Other', 'Other', 'Designations', 'Other', 'Designations', 'Other', 'Other', 'Other', 'Other', 'Other', 'Other', 'Other', 'Other', 'Other', 'Other', 'Other', 'Skills', 'Past_Companies', 'Other', 'Skills', 'Skills', 'Other', 'Other', 'Other', 'Other', 'Other', 'Other', 'Skills', 'Other', 'Skills', 'Other', 'Skills', 'Skills', 'Skills', 'Other', 'Skills', 'Other', 'Skills', 'Skills', 'Skills', 'Skills', 'Other', 'Skills', 'Other', 'Skills', 'Skills', 'Skills', 'Skills', 'Skills', 'Skills', 'Other', 'Skills', 'Skills', 'Other', 'Other', 'Other', 'Other', 'Skills', 'Skills', 'Other', 'Designations', 'Designations', 'Other', 'Other', 'Other', 'Other', 'Skills', 'Skills', 'Skills', 'Skills', 'Other', 'Skills', 'Skills', 'Other', 'Skills', 'Skills', 'Other', 'Other', 'Skills', 'Skills', 'Skills', 'Skills', 'Skills', 'Skills', 'Skills', 'Skills', 'Skills', 'Skills', 'Skills', 'Skills', 'Skills', 'Skills', 'Skills', 'Skills', 'Other', 'Skills', 'Skills', 'Skills', 'Skills', 'Skills', 'Skills', 'Skills', 'Skills', 'Skills', 'Other', 'Skills', 'Other', 'Skills', 'Skills', 'Skills', 'Skills', 'Skills', 'Skills', 'Skills', 'Skills', 'Skills', 'Skills', 'Skills', 'Skills', 'Skills', 'Skills', 'Skills', 'Skills', 'Skills', 'Skills', 'Skills', 'Skills', 'Skills', 'Other', 'Other', 'Other', 'Skills', 'Skills', 'Other', 'Other', 'Other', 'Other', 'Skills', 'Skills', 'Skills', 'Skills', 'Skills', 'Skills', 'Skills', 'Skills', 'Skills', 'Skills', 'Skills', 'Skills', 'Skills', 'Skills', 'Skills', 'Skills', 'Skills', 'Other', 'Skills', 'Skills', 'Skills', 'Skills', 'Skills', 'Past_Companies', 'Past_Companies', 'Designations', 'Designations', 'Designations', 'Other', 'Other', 'Other', 'Other', 'Other', 'Other', 'Other', 'Other', 'Other', 'Skills', 'Skills', 'Skills', 'Skills', 'Skills', 'Skills', 'Skills', 'Past_Companies', 'Past_Companies', 'Designations', 'Skills', 'Skills', 'Skills', 'Skills', 'Skills', 'Skills', 'Other', 'Other', 'Skills', 'Skills', 'Other', 'Other', 'Other', 'Other', 'Skills', 'Skills', 'Skills', 'Skills', 'Skills', 'Skills', 'Skills', 'Skills', 'Skills', 'Other', 'Other', 'Skills', 'Skills', 'Other', 'Skills', 'Skills', 'Other', 'Other', 'Skills', 'Skills', 'Other', 'Other', 'Skills', 'Other', 'Other', 'Skills', 'Skills', 'Skills', 'Other', 'Other', 'Skills', 'Other', 'Skills', 'Designations', 'Past_Companies', 'Past_Companies', 'Past_Companies', 'Past_Companies', 'Designations', 'Designations', 'Designations', 'Other', 'Other', 'Other', 'Other', 'Other', 'Other', 'Designations', 'Skills', 'Skills', 'Skills', 'Skills', 'Skills', 'Other', 'Other', 'Designations', 'Other', 'Skills', 'Skills', 'Other', 'Skills', 'Other', 'Other', 'Skills', 'Other', 'Skills', 'Other', 'Other', 'Other', 'Other', 'Other', 'Skills', 'Skills', 'Other', 'Designations', 'Other', 'Skills', 'Other', 'Other', 'Other', 'Skills', 'Skills', 'Other', 'Designations', 'Designations', 'Designations', 'Designations', 'Other', 'Other', 'Other', 'Other', 'Other', 'Designations', 'Skills', 'Other', 'Other', 'Skills', 'Other', 'Skills', 'Skills', 'Other', 'Designations', 'Designations', 'Other', 'Designations', 'Designations', 'Other', 'Designations', 'Other', 'Skills', 'Skills', 'Skills', 'Skills', 'Skills', 'Skills']\n",
            "[[0.0, 0.0, 0.0, 0.0], [87.575, 25.664, 148.595, 37.694], [150.85500000000002, 31.278, 214.7, 39.298], [428.835, 30.476, 534.49, 39.298], [24.86, 41.704, 43.505, 48.922], [46.895, 41.704, 58.76, 48.922], [60.455, 41.704, 82.49, 48.922], [85.88, 41.704, 101.7, 50.526], [104.525, 41.704, 119.78, 48.922], [123.735, 41.704, 149.725, 48.922], [152.55, 41.704, 166.67499999999998, 48.922], [169.5, 41.704, 193.79500000000002, 48.922], [467.82, 41.704, 484.77, 50.526], [485.9, 41.704, 534.49, 50.526], [24.86, 70.576, 110.74000000000001, 78.596], [24.86, 88.22, 55.935, 95.438], [59.89, 88.22, 99.44, 95.438], [103.96, 88.22, 121.475, 95.438], [267.81, 88.22, 297.755, 95.438], [301.71000000000004, 88.22, 343.52, 95.438], [346.90999999999997, 88.22, 389.84999999999997, 97.844], [441.83000000000004, 88.22, 461.60499999999996, 95.438], [465.56, 88.22, 486.465, 95.438], [490.985, 92.23, 494.94, 93.834], [498.895, 88.22, 534.49, 95.438], [279.675, 100.25, 321.48499999999996, 107.468], [324.875, 100.25, 367.815, 109.87400000000001], [432.79, 100.25, 452.565, 107.468], [456.52000000000004, 100.25, 478.555, 107.468], [481.945, 104.26, 485.9, 105.864], [489.855, 100.25, 509.63, 107.468], [512.455, 100.25, 534.49, 107.468], [38.98500000000001, 119.49799999999999, 43.505, 122.706], [48.589999999999996, 116.28999999999999, 80.79499999999999, 123.508], [83.61999999999999, 118.696, 91.53, 123.508], [93.79, 117.89399999999999, 122.605, 123.508], [124.865, 116.28999999999999, 133.905, 123.508], [135.6, 116.28999999999999, 151.985, 123.508], [153.68, 117.89399999999999, 186.45000000000002, 125.914], [188.71, 116.28999999999999, 209.615, 123.508], [212.44, 117.89399999999999, 234.475, 125.914], [237.86499999999998, 116.28999999999999, 258.77000000000004, 123.508], [260.46500000000003, 116.28999999999999, 311.88000000000005, 125.914], [313.57500000000005, 118.696, 321.48499999999996, 123.508], [323.74499999999995, 117.89399999999999, 356.515, 125.914], [359.90500000000003, 116.28999999999999, 402.84499999999997, 123.508], [409.625, 116.28999999999999, 426.575, 123.508], [428.835, 116.28999999999999, 448.61, 123.508], [452.0, 116.28999999999999, 485.9, 123.508], [488.725, 116.28999999999999, 533.925, 125.914], [535.62, 118.696, 540.7049999999999, 123.508], [48.589999999999996, 128.32, 87.575, 135.538], [89.83500000000001, 129.924, 98.875, 135.538], [101.7, 128.32, 118.64999999999999, 135.538], [121.475, 128.32, 142.945, 135.538], [144.64000000000001, 128.32, 197.75, 137.944], [200.575, 128.32, 235.605, 137.944], [237.86499999999998, 128.32, 282.5, 137.944], [285.89, 129.924, 333.91499999999996, 137.944], [335.60999999999996, 129.924, 367.815, 135.538], [369.51, 128.32, 377.985, 135.538], [380.81, 128.32, 424.88, 135.538], [427.705, 128.32, 460.47499999999997, 137.944], [462.73499999999996, 128.32, 512.455, 137.944], [514.715, 130.726, 540.7049999999999, 135.538], [48.589999999999996, 139.548, 111.87, 146.766], [115.82499999999999, 139.548, 131.645, 146.766], [134.47, 139.548, 168.935, 146.766], [171.76, 139.548, 206.79, 146.766], [209.615, 139.548, 247.47, 148.37], [250.86, 141.95399999999998, 291.54, 148.37], [294.93, 141.95399999999998, 329.96, 148.37], [332.78499999999997, 140.35, 378.55, 148.37], [381.94, 139.548, 405.66999999999996, 148.37], [408.495, 141.95399999999998, 425.445, 148.37], [428.835, 141.95399999999998, 439.57, 146.766], [442.96000000000004, 139.548, 458.78000000000003, 146.766], [461.60499999999996, 139.548, 488.725, 146.766], [492.68, 139.548, 540.7049999999999, 148.37], [48.589999999999996, 151.578, 84.75, 158.79600000000002], [86.445, 153.984, 130.51500000000001, 160.4], [133.905, 151.578, 161.58999999999997, 158.79600000000002], [164.98, 151.578, 179.67000000000002, 158.79600000000002], [182.495, 153.984, 199.445, 158.79600000000002], [38.98500000000001, 171.628, 43.505, 174.836], [48.589999999999996, 168.42, 80.79499999999999, 175.638], [83.61999999999999, 168.42, 142.945, 177.242], [145.77, 170.826, 155.94000000000003, 175.638], [159.89499999999998, 170.826, 164.98, 175.638], [166.67499999999998, 168.42, 194.92499999999998, 177.242], [196.61999999999998, 168.42, 205.66, 175.638], [208.48499999999999, 168.42, 241.82, 175.638], [244.645, 168.42, 272.895, 175.638], [275.71999999999997, 168.42, 292.67, 175.638], [295.495, 168.42, 320.91999999999996, 175.638], [325.44, 168.42, 379.68, 177.242], [382.50500000000005, 170.826, 388.71999999999997, 175.638], [391.54499999999996, 168.42, 420.925, 175.638], [423.75, 169.222, 432.79, 175.638], [435.615, 168.42, 466.69, 177.242], [469.515, 168.42, 504.545, 177.242], [506.805, 168.42, 540.7049999999999, 177.242], [48.589999999999996, 181.252, 80.79499999999999, 189.272], [83.61999999999999, 180.45000000000002, 99.44, 187.668], [101.7, 182.856, 119.78, 187.668], [122.605, 181.252, 140.685, 187.668], [143.51, 182.856, 148.595, 187.668], [151.985, 181.252, 182.495, 189.272], [187.58, 180.45000000000002, 227.69500000000002, 189.272], [230.51999999999998, 182.856, 236.73499999999999, 187.668], [238.995, 180.45000000000002, 261.595, 187.668], [264.98499999999996, 180.45000000000002, 294.93, 187.668], [296.625, 181.252, 313.57500000000005, 187.668], [316.96500000000003, 180.45000000000002, 341.825, 187.668], [343.52, 181.252, 352.56, 187.668], [355.95, 180.45000000000002, 396.63, 187.668], [399.455, 180.45000000000002, 418.665, 187.668], [421.49, 180.45000000000002, 460.47499999999997, 187.668], [463.86499999999995, 180.45000000000002, 518.6700000000001, 189.272], [521.495, 180.45000000000002, 540.7049999999999, 187.668], [48.589999999999996, 191.678, 77.97000000000001, 198.896], [80.79499999999999, 191.678, 100.57, 198.896], [102.83, 191.678, 133.905, 198.896], [135.6, 191.678, 154.81, 198.896], [157.63500000000002, 191.678, 178.54, 198.896], [181.93, 191.678, 212.44, 198.896], [38.98500000000001, 212.53, 43.505, 215.738], [48.589999999999996, 209.322, 84.75, 218.94600000000003], [86.445, 209.322, 144.64000000000001, 218.94600000000003], [146.9, 211.728, 157.63500000000002, 216.54000000000002], [159.89499999999998, 209.322, 178.54, 216.54000000000002], [180.8, 209.322, 229.95499999999998, 218.94600000000003], [233.91, 209.322, 287.585, 218.94600000000003], [290.975, 211.728, 295.495, 216.54000000000002], [297.755, 209.322, 317.53000000000003, 216.54000000000002], [319.78999999999996, 209.322, 346.90999999999997, 216.54000000000002], [348.605, 209.322, 364.99, 216.54000000000002], [366.685, 209.322, 417.53499999999997, 218.94600000000003], [418.665, 210.92600000000002, 452.0, 218.94600000000003], [453.69500000000005, 209.322, 465.56, 216.54000000000002], [467.82, 210.92600000000002, 512.455, 218.94600000000003], [514.715, 210.92600000000002, 540.7049999999999, 216.54000000000002], [48.589999999999996, 221.35200000000003, 85.88, 230.97599999999997], [88.705, 222.95600000000002, 120.91, 230.97599999999997], [123.735, 221.35200000000003, 135.6, 228.57], [138.99, 221.35200000000003, 161.58999999999997, 228.57], [163.85, 221.35200000000003, 182.495, 230.97599999999997], [185.88500000000002, 221.35200000000003, 243.515, 230.97599999999997], [247.47, 221.35200000000003, 290.975, 230.97599999999997], [293.8, 221.35200000000003, 319.78999999999996, 230.97599999999997], [320.91999999999996, 221.35200000000003, 339.565, 228.57], [342.955, 221.35200000000003, 377.985, 228.57], [380.81, 221.35200000000003, 388.71999999999997, 228.57], [391.54499999999996, 221.35200000000003, 408.495, 228.57], [411.885, 221.35200000000003, 434.485, 228.57], [437.875, 223.758, 446.915, 228.57], [448.61, 221.35200000000003, 468.95, 230.97599999999997], [476.85999999999996, 221.35200000000003, 525.45, 230.97599999999997], [528.84, 221.35200000000003, 540.7049999999999, 228.57], [48.589999999999996, 233.38199999999998, 93.79, 241.402], [96.61500000000001, 232.57999999999998, 106.785, 239.798], [109.61, 234.986, 126.56, 239.798], [129.95000000000002, 232.57999999999998, 162.72, 239.798], [165.545, 232.57999999999998, 188.71, 241.402], [190.97, 232.57999999999998, 232.78, 241.402], [234.475, 234.986, 245.775, 239.798], [248.6, 232.57999999999998, 267.81, 239.798], [270.635, 232.57999999999998, 302.84000000000003, 239.798], [305.665, 232.57999999999998, 321.48499999999996, 239.798], [324.875, 232.57999999999998, 370.64000000000004, 241.402], [373.46500000000003, 232.57999999999998, 389.84999999999997, 239.798], [392.67499999999995, 232.57999999999998, 403.97499999999997, 239.798], [406.8, 232.57999999999998, 444.65500000000003, 241.402], [446.915, 232.57999999999998, 469.515, 239.798], [472.905, 232.57999999999998, 488.725, 239.798], [491.55, 232.57999999999998, 517.5400000000001, 239.798], [38.98500000000001, 253.43200000000002, 43.505, 256.64], [48.589999999999996, 250.224, 97.74499999999999, 259.848], [101.7, 250.224, 126.56, 259.848], [129.95000000000002, 250.224, 221.48000000000002, 259.848], [221.48000000000002, 250.224, 248.6, 259.848], [252.555, 250.224, 310.75, 259.848], [24.86, 266.264, 45.765, 275.888], [49.72, 266.264, 88.705, 275.888], [259.90000000000003, 266.264, 301.71000000000004, 273.482], [304.535, 266.264, 353.69, 275.888], [356.515, 266.264, 386.46000000000004, 273.482], [431.66, 266.264, 452.565, 275.888], [456.52000000000004, 266.264, 478.555, 273.482], [481.945, 270.274, 485.9, 271.87800000000004], [489.855, 266.264, 509.63, 275.888], [512.455, 266.264, 534.49, 273.482], [38.98500000000001, 286.31399999999996, 43.505, 289.522], [48.589999999999996, 283.90799999999996, 86.445, 292.73], [89.83500000000001, 283.90799999999996, 105.655, 290.324], [108.48, 283.90799999999996, 149.725, 292.73], [153.68, 285.512, 163.85, 290.324], [166.67499999999998, 283.90799999999996, 201.70499999999998, 290.324], [204.53, 283.90799999999996, 228.82500000000002, 290.324], [231.64999999999998, 283.90799999999996, 287.585, 292.73], [290.975, 283.90799999999996, 314.70500000000004, 290.324], [317.53000000000003, 283.90799999999996, 353.69, 290.324], [356.515, 284.71, 365.555, 290.324], [369.51, 283.90799999999996, 386.46000000000004, 292.73], [390.97999999999996, 283.90799999999996, 423.75, 292.73], [426.575, 283.90799999999996, 445.785, 290.324], [448.61, 285.512, 472.905, 290.324], [475.72999999999996, 283.90799999999996, 521.495, 292.73], [525.45, 283.90799999999996, 540.7049999999999, 290.324], [48.589999999999996, 295.938, 87.575, 303.958], [89.83500000000001, 295.938, 115.82499999999999, 301.552], [117.52, 294.334, 147.465, 303.958], [151.985, 294.334, 166.67499999999998, 301.552], [169.5, 294.334, 187.58, 301.552], [190.97, 295.938, 239.56, 303.958], [241.82, 295.938, 271.765, 301.552], [274.59, 294.334, 294.93, 303.958], [297.755, 296.74, 317.53000000000003, 303.958], [38.98500000000001, 315.988, 43.505, 318.394], [48.589999999999996, 312.78000000000003, 83.61999999999999, 319.998], [86.445, 312.78000000000003, 126.56, 321.60200000000003], [129.95000000000002, 312.78000000000003, 152.55, 319.998], [155.94000000000003, 312.78000000000003, 170.63, 319.998], [173.45499999999998, 313.582, 199.445, 319.998], [202.83499999999998, 312.78000000000003, 237.86499999999998, 321.60200000000003], [240.69, 313.582, 272.895, 321.60200000000003], [275.71999999999997, 313.582, 284.76, 319.998], [287.585, 312.78000000000003, 324.875, 319.998], [327.7, 312.78000000000003, 378.55, 319.998], [380.81, 314.384, 390.97999999999996, 319.998], [394.935, 312.78000000000003, 407.93, 321.60200000000003], [410.755, 312.78000000000003, 433.92, 319.998], [436.745, 314.384, 466.69, 319.998], [468.95, 313.582, 477.99, 319.998], [480.815, 313.582, 505.675, 321.60200000000003], [507.935, 312.78000000000003, 540.7049999999999, 319.998], [48.589999999999996, 324.81, 63.845, 331.226], [66.67, 326.414, 84.75, 333.632], [87.575, 324.81, 123.735, 331.226], [125.995, 324.81, 161.58999999999997, 331.226], [164.98, 326.414, 173.45499999999998, 331.226], [176.845, 324.81, 210.745, 331.226], [213.57, 324.81, 232.78, 331.226], [234.475, 326.414, 248.6, 331.226], [251.99, 325.612, 271.765, 331.226], [274.59, 324.81, 309.62, 333.632], [311.88000000000005, 324.81, 325.44, 331.226], [328.83, 324.81, 344.65, 331.226], [347.475, 324.81, 366.685, 331.226], [369.51, 324.81, 403.97499999999997, 331.226], [406.8, 325.612, 441.83000000000004, 333.632], [38.98500000000001, 344.86, 43.505, 347.266], [48.589999999999996, 341.652, 97.74499999999999, 350.474], [102.83, 341.652, 118.64999999999999, 350.474], [24.86, 358.494, 47.46, 365.712], [50.85, 358.494, 75.71000000000001, 365.712], [78.53500000000001, 358.494, 99.44, 365.712], [104.525, 358.494, 124.865, 365.712], [262.725, 358.494, 304.535, 365.712], [307.925, 358.494, 356.515, 367.31600000000003], [359.90500000000003, 358.494, 389.84999999999997, 365.712], [437.875, 358.494, 454.82500000000005, 365.712], [458.78000000000003, 358.494, 479.685, 365.712], [483.64, 362.504, 487.59499999999997, 363.306], [490.985, 358.494, 509.63, 365.712], [512.455, 358.494, 534.49, 365.712], [38.98500000000001, 377.74199999999996, 43.505, 380.95], [48.589999999999996, 374.53400000000005, 91.53, 383.356], [94.92, 376.94, 100.57, 381.752], [102.83, 374.53400000000005, 133.905, 383.356], [135.6, 374.53400000000005, 159.89499999999998, 381.752], [161.58999999999997, 374.53400000000005, 205.66, 383.356], [207.92, 374.53400000000005, 235.605, 383.356], [239.56, 375.336, 248.6, 381.752], [250.86, 374.53400000000005, 261.595, 381.752], [264.98499999999996, 374.53400000000005, 308.49, 383.356], [310.75, 374.53400000000005, 334.47999999999996, 383.356], [337.87, 375.336, 362.73, 381.752], [365.555, 374.53400000000005, 382.50500000000005, 383.356], [384.76500000000004, 374.53400000000005, 400.585, 381.752], [403.97499999999997, 374.53400000000005, 427.705, 383.356], [429.96500000000003, 375.336, 444.65500000000003, 381.752], [447.48, 375.336, 464.99499999999995, 381.752], [467.82, 376.94, 490.985, 381.752], [492.68, 374.53400000000005, 517.5400000000001, 381.752], [520.9300000000001, 376.94, 540.7049999999999, 381.752], [48.589999999999996, 387.366, 57.629999999999995, 393.782], [60.455, 386.56399999999996, 80.79499999999999, 393.782], [38.98500000000001, 407.416, 43.505, 410.624], [48.589999999999996, 404.208, 91.53, 413.832], [94.92, 406.61400000000003, 100.57, 411.426], [102.83, 404.208, 120.91, 411.426], [123.735, 404.208, 167.80499999999998, 411.426], [170.63, 404.208, 179.67000000000002, 411.426], [181.93, 404.208, 209.615, 411.426], [211.875, 405.812, 244.645, 413.832], [247.47, 404.208, 257.64, 411.426], [261.595, 405.812, 270.635, 411.426], [272.895, 404.208, 294.93, 411.426], [297.755, 405.812, 304.535, 411.426], [306.795, 404.208, 330.525, 413.832], [333.91499999999996, 404.208, 367.815, 411.426], [370.64000000000004, 404.208, 386.46000000000004, 411.426], [389.84999999999997, 404.208, 430.53000000000003, 413.832], [433.92, 404.208, 443.52500000000003, 413.832], [446.915, 404.208, 468.95, 411.426], [471.775, 405.812, 498.895, 411.426], [38.98500000000001, 424.25800000000004, 43.505, 427.466], [48.589999999999996, 421.85200000000003, 69.495, 428.26800000000003], [72.885, 422.654, 106.785, 430.67400000000004], [109.61, 421.85200000000003, 136.73, 430.67400000000004], [140.685, 423.456, 173.45499999999998, 430.67400000000004], [177.975, 421.85200000000003, 204.53, 428.26800000000003], [207.92, 421.85200000000003, 245.775, 430.67400000000004], [249.73, 421.85200000000003, 259.90000000000003, 430.67400000000004], [263.855, 423.456, 301.71000000000004, 430.67400000000004], [304.535, 423.456, 354.82, 430.67400000000004], [358.775, 421.85200000000003, 373.46500000000003, 428.26800000000003], [377.985, 421.85200000000003, 443.52500000000003, 430.67400000000004], [446.915, 421.85200000000003, 468.95, 428.26800000000003], [471.775, 421.85200000000003, 490.985, 428.26800000000003], [494.94, 421.85200000000003, 540.7049999999999, 430.67400000000004], [48.589999999999996, 433.882, 70.625, 440.29800000000006], [38.98500000000001, 454.734, 43.505, 457.94199999999995], [48.589999999999996, 451.52599999999995, 97.74499999999999, 460.34799999999996], [102.83, 451.52599999999995, 118.64999999999999, 460.34799999999996], [24.86, 469.972, 102.83, 477.99199999999996], [107.915, 469.972, 151.985, 477.99199999999996], [38.98500000000001, 490.824, 43.505, 493.23], [48.589999999999996, 487.616, 69.495, 496.438], [72.885, 487.616, 117.52, 496.438], [120.91, 487.616, 173.45499999999998, 496.438], [176.845, 487.616, 186.45000000000002, 496.438], [189.84, 487.616, 243.515, 496.438], [565.0, 802.0, 565.0, 802.0]]\n"
          ]
        }
      ]
    },
    {
      "cell_type": "code",
      "source": [
        "tokens = encoding.tokens()"
      ],
      "metadata": {
        "id": "WrtLfhzMNdws"
      },
      "execution_count": 40,
      "outputs": []
    },
    {
      "cell_type": "code",
      "source": [
        "import random\n",
        "from PIL import ImageDraw\n",
        "\n",
        "get_colors = lambda n: list(map(lambda i: \"#\" + \"%06x\" % random.randint(0, 0xFFFFFF),range(n)))\n",
        "colors = get_colors(len(labels))\n",
        "draw = ImageDraw.Draw(image)\n",
        "\n",
        "font = ImageFont.load_default()\n",
        "\n",
        "def iob_to_label(label):\n",
        "    label = label\n",
        "    if not label:\n",
        "      return 'other'\n",
        "    return label\n",
        "\n",
        "label2color = {label: colors[idx] for idx, label in enumerate(labels)}\n",
        "\n",
        "count = 0\n",
        "for prediction, box in zip(true_predictions, true_boxes):\n",
        "    predicted_label = iob_to_label(prediction)\n",
        "    draw.rectangle(box, outline=label2color[predicted_label])\n",
        "    draw.text((box[0]+10, box[1]-10), text=predicted_label + str(count), fill=label2color[predicted_label], font=font)\n",
        "    count += 1\n",
        "image"
      ],
      "metadata": {
        "colab": {
          "base_uri": "https://localhost:8080/",
          "height": 819
        },
        "id": "nWZWO-JQE6jN",
        "outputId": "77a9c1f8-d1da-42ec-a952-ed3c5126a52c"
      },
      "execution_count": 41,
      "outputs": [
        {
          "output_type": "execute_result",
          "data": {
            "text/plain": [
              "<PIL.Image.Image image mode=RGB size=565x802>"
            ],
            "image/png": "[encoded data removed]"
          },
          "metadata": {},
          "execution_count": 41
        }
      ]
    },
    {
      "cell_type": "code",
      "source": [
        "type(encoding)"
      ],
      "metadata": {
        "colab": {
          "base_uri": "https://localhost:8080/"
        },
        "id": "9KSPWAexLdmX",
        "outputId": "5a1d5f40-6717-4672-b485-e7fffb057b1e"
      },
      "execution_count": 42,
      "outputs": [
        {
          "output_type": "execute_result",
          "data": {
            "text/plain": [
              "transformers.tokenization_utils_base.BatchEncoding"
            ]
          },
          "metadata": {},
          "execution_count": 42
        }
      ]
    },
    {
      "cell_type": "code",
      "source": [
        "len(encoding.word_ids())"
      ],
      "metadata": {
        "colab": {
          "base_uri": "https://localhost:8080/"
        },
        "id": "QyG4UfCWK6he",
        "outputId": "6abaf4df-c584-4057-97d3-30ce575682df"
      },
      "execution_count": 43,
      "outputs": [
        {
          "output_type": "execute_result",
          "data": {
            "text/plain": [
              "512"
            ]
          },
          "metadata": {},
          "execution_count": 43
        }
      ]
    },
    {
      "cell_type": "code",
      "source": [
        "tokens[encoding.word_ids()[214]]"
      ],
      "metadata": {
        "colab": {
          "base_uri": "https://localhost:8080/",
          "height": 36
        },
        "id": "oJOpPQnOLl6Q",
        "outputId": "81f0be37-d1a7-490b-948a-3363ef4169a5"
      },
      "execution_count": 44,
      "outputs": [
        {
          "output_type": "execute_result",
          "data": {
            "text/plain": [
              "'“'"
            ],
            "application/vnd.google.colaboratory.intrinsic+json": {
              "type": "string"
            }
          },
          "metadata": {},
          "execution_count": 44
        }
      ]
    },
    {
      "cell_type": "code",
      "source": [
        "encoding.words()[:10], encoding.tokens()[:10]"
      ],
      "metadata": {
        "colab": {
          "base_uri": "https://localhost:8080/"
        },
        "id": "uoLHkMoUX6hP",
        "outputId": "24637b82-f87d-4541-ce7e-8d83b170dd1e"
      },
      "execution_count": 45,
      "outputs": [
        {
          "output_type": "execute_result",
          "data": {
            "text/plain": [
              "([None, 0, 0, 1, 1, 1, 1, 1, 2, 2],\n",
              " ['[CLS]',\n",
              "  'lamb',\n",
              "  '##re',\n",
              "  'sami',\n",
              "  '##ew',\n",
              "  '##sin',\n",
              "  '##ds',\n",
              "  '##io',\n",
              "  'am',\n",
              "  '##ey'])"
            ]
          },
          "metadata": {},
          "execution_count": 45
        }
      ]
    },
    {
      "cell_type": "code",
      "source": [
        "encoding.bbox[0][:10]"
      ],
      "metadata": {
        "colab": {
          "base_uri": "https://localhost:8080/"
        },
        "id": "AOS_vHBwYyzz",
        "outputId": "85a93375-9a5e-431e-c7d9-9de5d0d06363"
      },
      "execution_count": 46,
      "outputs": [
        {
          "output_type": "execute_result",
          "data": {
            "text/plain": [
              "tensor([[  0,   0,   0,   0],\n",
              "        [155,  32, 263,  47],\n",
              "        [155,  32, 263,  47],\n",
              "        [267,  39, 380,  49],\n",
              "        [267,  39, 380,  49],\n",
              "        [267,  39, 380,  49],\n",
              "        [267,  39, 380,  49],\n",
              "        [267,  39, 380,  49],\n",
              "        [759,  38, 946,  49],\n",
              "        [759,  38, 946,  49]], device='cuda:0')"
            ]
          },
          "metadata": {},
          "execution_count": 46
        }
      ]
    },
    {
      "cell_type": "code",
      "source": [
        "for id in encoding.input_ids:\n",
        "  for i, ident in enumerate(id):\n",
        "    print(i, processor.tokenizer.decode(ident))"
      ],
      "metadata": {
        "colab": {
          "base_uri": "https://localhost:8080/"
        },
        "id": "5778xdxrZqun",
        "outputId": "c82d3d5d-3f26-4c9c-8bf2-20c1289e86ff"
      },
      "execution_count": 47,
      "outputs": [
        {
          "output_type": "stream",
          "name": "stdout",
          "text": [
            "0 [CLS]\n",
            "1 lamb\n",
            "2 ##re\n",
            "3 sami\n",
            "4 ##ew\n",
            "5 ##sin\n",
            "6 ##ds\n",
            "7 ##io\n",
            "8 am\n",
            "9 ##ey\n",
            "10 ##az\n",
            "11 ##am\n",
            "12 ##bre\n",
            "13 ##ti\n",
            "14 ##gm\n",
            "15 ##ail\n",
            "16 .\n",
            "17 com\n",
            "18 43\n",
            "19 ##15\n",
            "20 ##0\n",
            "21 la\n",
            "22 se\n",
            "23 ##va\n",
            "24 cr\n",
            "25 ,\n",
            "26 san\n",
            "27 mat\n",
            "28 ##co\n",
            "29 ca\n",
            "30 94\n",
            "31 ##40\n",
            "32 ##3\n",
            "33 (\n",
            "34 gia\n",
            "35 )\n",
            "36 412\n",
            "37 -\n",
            "38 06\n",
            "39 ##0\n",
            "40 ##5\n",
            "41 experience\n",
            "42 ‘\n",
            "43 oracle\n",
            "44 america\n",
            "45 inc\n",
            "46 .\n",
            "47 sen\n",
            "48 ##lor\n",
            "49 so\n",
            "50 ##f\n",
            "51 ##ware\n",
            "52 engineer\n",
            "53 ‘\n",
            "54 nov\n",
            "55 2014\n",
            "56 -\n",
            "57 present\n",
            "58 ‘\n",
            "59 software\n",
            "60 engineer\n",
            "61 ‘\n",
            "62 mar\n",
            "63 2013\n",
            "64 -\n",
            "65 nov\n",
            "66 2014\n",
            "67 ‘\n",
            "68 +\n",
            "69 worked\n",
            "70 ina\n",
            "71 team\n",
            "72 of\n",
            "73 to\n",
            "74 support\n",
            "75 third\n",
            "76 party\n",
            "77 ad\n",
            "78 ##f\n",
            "79 applications\n",
            "80 in\n",
            "81 existing\n",
            "82 framework\n",
            "83 .\n",
            "84 the\n",
            "85 work\n",
            "86 involved\n",
            "87 dev\n",
            "88 ##eo\n",
            "89 ##ping\n",
            "90 a\n",
            "91 container\n",
            "92 to\n",
            "93 host\n",
            "94 ad\n",
            "95 ##f\n",
            "96 applications\n",
            "97 ,\n",
            "98 allowing\n",
            "99 em\n",
            "100 ##bed\n",
            "101 ##ding\n",
            "102 appropriate\n",
            "103 content\n",
            "104 in\n",
            "105 authorized\n",
            "106 ames\n",
            "107 ,\n",
            "108 establishing\n",
            "109 secure\n",
            "110 ‘\n",
            "111 com\n",
            "112 ##mini\n",
            "113 ##ation\n",
            "114 ink\n",
            "115 bet\n",
            "116 ##wen\n",
            "117 different\n",
            "118 .\n",
            "119 domains\n",
            "120 ,\n",
            "121 managing\n",
            "122 sessions\n",
            "123 ,\n",
            "124 supporting\n",
            "125 single\n",
            "126 sign\n",
            "127 on\n",
            "128 and\n",
            "129 overall\n",
            "130 providing\n",
            "131 seam\n",
            "132 ##less\n",
            "133 experience\n",
            "134 forth\n",
            "135 ##e\n",
            "136 end\n",
            "137 user\n",
            "138 .\n",
            "139 “\n",
            "140 +\n",
            "141 worked\n",
            "142 independently\n",
            "143 on\n",
            "144 a\n",
            "145 couple\n",
            "146 of\n",
            "147 feat\n",
            "148 ##ur\n",
            "149 forth\n",
            "150 ##e\n",
            "151 web\n",
            "152 cis\n",
            "153 ##t\n",
            "154 .\n",
            "155 implemented\n",
            "156 a\n",
            "157 feature\n",
            "158 to\n",
            "159 provide\n",
            "160 fr\n",
            "161 ##est\n",
            "162 ##le\n",
            "163 drain\n",
            "164 ##g\n",
            "165 support\n",
            "166 and\n",
            "167 save\n",
            "168 tae\n",
            "169 a\n",
            "170 pie\n",
            "171 ##tar\n",
            "172 ##e\n",
            "173 .\n",
            "174 upgraded\n",
            "175 a\n",
            "176 dated\n",
            "177 html\n",
            "178 text\n",
            "179 editor\n",
            "180 to\n",
            "181 ck\n",
            "182 ##ed\n",
            "183 ##itor\n",
            "184 with\n",
            "185 backward\n",
            "186 compatibility\n",
            "187 with\n",
            "188 ten\n",
            "189 ##ia\n",
            "190 data\n",
            "191 created\n",
            "192 with\n",
            "193 ole\n",
            "194 editors\n",
            "195 ‘\n",
            "196 +\n",
            "197 working\n",
            "198 independently\n",
            "199 on\n",
            "200 ipa\n",
            "201 ##f\n",
            "202 application\n",
            "203 .\n",
            "204 imp\n",
            "205 ##km\n",
            "206 ##ented\n",
            "207 a\n",
            "208 pdf\n",
            "209 viewer\n",
            "210 and\n",
            "211 handwriting\n",
            "212 support\n",
            "213 for\n",
            "214 signatures\n",
            "215 ,\n",
            "216 native\n",
            "217 playback\n",
            "218 support\n",
            "219 for\n",
            "220 v\n",
            "221 ##de\n",
            "222 ##o\n",
            "223 las\n",
            "224 ,\n",
            "225 touch\n",
            "226 ##fin\n",
            "227 ##dly\n",
            "228 navigation\n",
            "229 menu\n",
            "230 (\n",
            "231 ate\n",
            "232 ##r\n",
            "233 included\n",
            "234 in\n",
            "235 web\n",
            "236 ci\n",
            "237 ##ent\n",
            "238 36\n",
            "239 well\n",
            "240 )\n",
            "241 .\n",
            "242 responsible\n",
            "243 for\n",
            "244 supporting\n",
            "245 all\n",
            "246 new\n",
            "247 feature\n",
            "248 being\n",
            "249 developed\n",
            "250 on\n",
            "251 ipad\n",
            "252 browser\n",
            "253 and\n",
            "254 application\n",
            "255 and\n",
            "256 for\n",
            "257 up\n",
            "258 ##taking\n",
            "259 latest\n",
            "260 10\n",
            "261 ##s\n",
            "262 sd\n",
            "263 ##ks\n",
            "264 .\n",
            "265 ‘\n",
            "266 +\n",
            "267 technology\n",
            "268 :\n",
            "269 java\n",
            "270 ,\n",
            "271 java\n",
            "272 ##script\n",
            "273 (\n",
            "274 html\n",
            "275 /\n",
            "276 cs\n",
            "277 ##s\n",
            "278 )\n",
            "279 ,\n",
            "280 objective\n",
            "281 -\n",
            "282 c\n",
            "283 pie\n",
            "284 systems\n",
            "285 software\n",
            "286 developer\n",
            "287 intern\n",
            "288 may\n",
            "289 2012\n",
            "290 -\n",
            "291 aug\n",
            "292 2012\n",
            "293 \"\n",
            "294 +\n",
            "295 designed\n",
            "296 and\n",
            "297 developed\n",
            "298 an\n",
            "299 e\n",
            "300 ##fect\n",
            "301 ##ve\n",
            "302 ir\n",
            "303 ##et\n",
            "304 manipulation\n",
            "305 base\n",
            "306 it\n",
            "307 ##rf\n",
            "308 ##ace\n",
            "309 to\n",
            "310 ha\n",
            "311 ##p\n",
            "312 hospital\n",
            "313 staff\n",
            "314 ass\n",
            "315 ##ss\n",
            "316 emergency\n",
            "317 de\n",
            "318 -\n",
            "319 ‘\n",
            "320 arun\n",
            "321 ##ent\n",
            "322 status\n",
            "323 quickly\n",
            "324 and\n",
            "325 take\n",
            "326 appropriate\n",
            "327 actions\n",
            "328 right\n",
            "329 away\n",
            "330 ‘\n",
            "331 +\n",
            "332 involved\n",
            "333 providing\n",
            "334 touch\n",
            "335 and\n",
            "336 vector\n",
            "337 graphics\n",
            "338 support\n",
            "339 to\n",
            "340 fc\n",
            "341 ##itate\n",
            "342 installations\n",
            "343 on\n",
            "344 big\n",
            "345 touch\n",
            "346 se\n",
            "347 ##wee\n",
            "348 ##ns\n",
            "349 a\n",
            "350 tri\n",
            "351 ##age\n",
            "352 stations\n",
            "353 ‘\n",
            "354 and\n",
            "355 very\n",
            "356 intuitive\n",
            "357 interface\n",
            "358 so\n",
            "359 that\n",
            "360 ##the\n",
            "361 st\n",
            "362 ##af\n",
            "363 ea\n",
            "364 ##n\n",
            "365 start\n",
            "366 w\n",
            "367 ##ti\n",
            "368 ##ling\n",
            "369 the\n",
            "370 tool\n",
            "371 with\n",
            "372 minimal\n",
            "373 tran\n",
            "374 ##ing\n",
            "375 .\n",
            "376 1\n",
            "377 +\n",
            "378 technology\n",
            "379 :\n",
            "380 c\n",
            "381 #\n",
            "382 #\n",
            "383 intel\n",
            "384 india\n",
            "385 pv\n",
            "386 ##t\n",
            "387 .\n",
            "388 led\n",
            "389 .\n",
            "390 software\n",
            "391 developer\n",
            "392 intern\n",
            "393 jan\n",
            "394 2011\n",
            "395 -\n",
            "396 jun\n",
            "397 2011\n",
            "398 ‘\n",
            "399 +\n",
            "400 developed\n",
            "401 a\n",
            "402 logging\n",
            "403 based\n",
            "404 de\n",
            "405 ##b\n",
            "406 ##ge\n",
            "407 ##ing\n",
            "408 bra\n",
            "409 ##ry\n",
            "410 to\n",
            "411 let\n",
            "412 developers\n",
            "413 easily\n",
            "414 create\n",
            "415 logs\n",
            "416 and\n",
            "417 lure\n",
            "418 out\n",
            "419 o\n",
            "420 ##ot\n",
            "421 ea\n",
            "422 ##use\n",
            "423 of\n",
            "424 ##the\n",
            "425 issue\n",
            "426 at\n",
            "427 hand\n",
            "428 ,\n",
            "429 ‘\n",
            "430 +\n",
            "431 developed\n",
            "432 a\n",
            "433 gui\n",
            "434 framework\n",
            "435 of\n",
            "436 team\n",
            "437 ’\n",
            "438 s\n",
            "439 existing\n",
            "440 ui\n",
            "441 to\n",
            "442 make\n",
            "443 it\n",
            "444 ea\n",
            "445 ##sl\n",
            "446 ##y\n",
            "447 re\n",
            "448 ##usa\n",
            "449 ##ble\n",
            "450 and\n",
            "451 adapt\n",
            "452 ##able\n",
            "453 by\n",
            "454 other\n",
            "455 teams\n",
            "456 .\n",
            "457 ‘\n",
            "458 +\n",
            "459 both\n",
            "460 projects\n",
            "461 helped\n",
            "462 improve\n",
            "463 team\n",
            "464 ’\n",
            "465 s\n",
            "466 e\n",
            "467 ##fl\n",
            "468 ##oney\n",
            "469 by\n",
            "470 removing\n",
            "471 un\n",
            "472 ##nee\n",
            "473 ##ns\n",
            "474 ##ary\n",
            "475 and\n",
            "476 time\n",
            "477 -\n",
            "478 consuming\n",
            "479 tasks\n",
            "480 from\n",
            "481 developers\n",
            "482 !\n",
            "483 work\n",
            "484 1\n",
            "485 +\n",
            "486 technology\n",
            "487 :\n",
            "488 c\n",
            "489 #\n",
            "490 #\n",
            "491 ‘\n",
            "492 technical\n",
            "493 skills\n",
            "494 ‘\n",
            "495 +\n",
            "496 java\n",
            "497 ,\n",
            "498 jam\n",
            "499 ##ser\n",
            "500 ##ip\n",
            "501 ##t\n",
            "502 ,\n",
            "503 objective\n",
            "504 -\n",
            "505 c\n",
            "506 ,\n",
            "507 c\n",
            "508 ,\n",
            "509 html\n",
            "510 /\n",
            "511 [SEP]\n"
          ]
        }
      ]
    },
    {
      "cell_type": "code",
      "source": [
        "encoding.words()[486]"
      ],
      "metadata": {
        "colab": {
          "base_uri": "https://localhost:8080/"
        },
        "id": "bC0saUtucroX",
        "outputId": "b3ec1177-bcd8-49da-bda1-f73fcab25dbd"
      },
      "execution_count": 48,
      "outputs": [
        {
          "output_type": "execute_result",
          "data": {
            "text/plain": [
              "323"
            ]
          },
          "metadata": {},
          "execution_count": 48
        }
      ]
    },
    {
      "cell_type": "code",
      "source": [
        "tokens[486]"
      ],
      "metadata": {
        "colab": {
          "base_uri": "https://localhost:8080/",
          "height": 36
        },
        "id": "EyPcxYZXc_n7",
        "outputId": "eacb0363-8162-44b2-9b8a-93adef8b28ff"
      },
      "execution_count": 49,
      "outputs": [
        {
          "output_type": "execute_result",
          "data": {
            "text/plain": [
              "'technology'"
            ],
            "application/vnd.google.colaboratory.intrinsic+json": {
              "type": "string"
            }
          },
          "metadata": {},
          "execution_count": 49
        }
      ]
    },
    {
      "cell_type": "code",
      "source": [],
      "metadata": {
        "id": "VEaNesNueloK"
      },
      "execution_count": 49,
      "outputs": []
    }
  ]
}